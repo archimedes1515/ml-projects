{
 "cells": [
  {
   "cell_type": "code",
   "execution_count": 1,
   "id": "4698769e",
   "metadata": {
    "ExecuteTime": {
     "end_time": "2022-06-07T13:48:53.284909Z",
     "start_time": "2022-06-07T13:48:51.700298Z"
    }
   },
   "outputs": [],
   "source": [
    "import pandas as pd\n",
    "import numpy as np\n",
    "import matplotlib.pyplot as plt\n",
    "%matplotlib inline\n",
    "import seaborn as sns\n",
    "import math as mt\n",
    "sns.set_style('darkgrid')\n",
    "%config InlineBackend.figure_format = 'retina'"
   ]
  },
  {
   "cell_type": "markdown",
   "id": "9d018a1b",
   "metadata": {},
   "source": [
    "# EDA"
   ]
  },
  {
   "cell_type": "code",
   "execution_count": 2,
   "id": "d17c323f",
   "metadata": {
    "ExecuteTime": {
     "end_time": "2022-06-07T13:48:53.348807Z",
     "start_time": "2022-06-07T13:48:53.291821Z"
    }
   },
   "outputs": [
    {
     "data": {
      "text/html": [
       "<div>\n",
       "<style scoped>\n",
       "    .dataframe tbody tr th:only-of-type {\n",
       "        vertical-align: middle;\n",
       "    }\n",
       "\n",
       "    .dataframe tbody tr th {\n",
       "        vertical-align: top;\n",
       "    }\n",
       "\n",
       "    .dataframe thead th {\n",
       "        text-align: right;\n",
       "    }\n",
       "</style>\n",
       "<table border=\"1\" class=\"dataframe\">\n",
       "  <thead>\n",
       "    <tr style=\"text-align: right;\">\n",
       "      <th></th>\n",
       "      <th>Pclass</th>\n",
       "      <th>Name</th>\n",
       "      <th>Sex</th>\n",
       "      <th>Age</th>\n",
       "      <th>SibSp</th>\n",
       "      <th>Parch</th>\n",
       "      <th>Ticket</th>\n",
       "      <th>Fare</th>\n",
       "      <th>Cabin</th>\n",
       "      <th>Embarked</th>\n",
       "      <th>Survived</th>\n",
       "    </tr>\n",
       "    <tr>\n",
       "      <th>PassengerId</th>\n",
       "      <th></th>\n",
       "      <th></th>\n",
       "      <th></th>\n",
       "      <th></th>\n",
       "      <th></th>\n",
       "      <th></th>\n",
       "      <th></th>\n",
       "      <th></th>\n",
       "      <th></th>\n",
       "      <th></th>\n",
       "      <th></th>\n",
       "    </tr>\n",
       "  </thead>\n",
       "  <tbody>\n",
       "    <tr>\n",
       "      <th>1</th>\n",
       "      <td>3</td>\n",
       "      <td>Braund, Mr. Owen Harris</td>\n",
       "      <td>male</td>\n",
       "      <td>22.0</td>\n",
       "      <td>1</td>\n",
       "      <td>0</td>\n",
       "      <td>A/5 21171</td>\n",
       "      <td>7.2500</td>\n",
       "      <td>NaN</td>\n",
       "      <td>S</td>\n",
       "      <td>0</td>\n",
       "    </tr>\n",
       "    <tr>\n",
       "      <th>2</th>\n",
       "      <td>1</td>\n",
       "      <td>Cumings, Mrs. John Bradley (Florence Briggs Th...</td>\n",
       "      <td>female</td>\n",
       "      <td>38.0</td>\n",
       "      <td>1</td>\n",
       "      <td>0</td>\n",
       "      <td>PC 17599</td>\n",
       "      <td>71.2833</td>\n",
       "      <td>C85</td>\n",
       "      <td>C</td>\n",
       "      <td>1</td>\n",
       "    </tr>\n",
       "    <tr>\n",
       "      <th>3</th>\n",
       "      <td>3</td>\n",
       "      <td>Heikkinen, Miss. Laina</td>\n",
       "      <td>female</td>\n",
       "      <td>26.0</td>\n",
       "      <td>0</td>\n",
       "      <td>0</td>\n",
       "      <td>STON/O2. 3101282</td>\n",
       "      <td>7.9250</td>\n",
       "      <td>NaN</td>\n",
       "      <td>S</td>\n",
       "      <td>1</td>\n",
       "    </tr>\n",
       "    <tr>\n",
       "      <th>4</th>\n",
       "      <td>1</td>\n",
       "      <td>Futrelle, Mrs. Jacques Heath (Lily May Peel)</td>\n",
       "      <td>female</td>\n",
       "      <td>35.0</td>\n",
       "      <td>1</td>\n",
       "      <td>0</td>\n",
       "      <td>113803</td>\n",
       "      <td>53.1000</td>\n",
       "      <td>C123</td>\n",
       "      <td>S</td>\n",
       "      <td>1</td>\n",
       "    </tr>\n",
       "    <tr>\n",
       "      <th>5</th>\n",
       "      <td>3</td>\n",
       "      <td>Allen, Mr. William Henry</td>\n",
       "      <td>male</td>\n",
       "      <td>35.0</td>\n",
       "      <td>0</td>\n",
       "      <td>0</td>\n",
       "      <td>373450</td>\n",
       "      <td>8.0500</td>\n",
       "      <td>NaN</td>\n",
       "      <td>S</td>\n",
       "      <td>0</td>\n",
       "    </tr>\n",
       "    <tr>\n",
       "      <th>...</th>\n",
       "      <td>...</td>\n",
       "      <td>...</td>\n",
       "      <td>...</td>\n",
       "      <td>...</td>\n",
       "      <td>...</td>\n",
       "      <td>...</td>\n",
       "      <td>...</td>\n",
       "      <td>...</td>\n",
       "      <td>...</td>\n",
       "      <td>...</td>\n",
       "      <td>...</td>\n",
       "    </tr>\n",
       "    <tr>\n",
       "      <th>887</th>\n",
       "      <td>2</td>\n",
       "      <td>Montvila, Rev. Juozas</td>\n",
       "      <td>male</td>\n",
       "      <td>27.0</td>\n",
       "      <td>0</td>\n",
       "      <td>0</td>\n",
       "      <td>211536</td>\n",
       "      <td>13.0000</td>\n",
       "      <td>NaN</td>\n",
       "      <td>S</td>\n",
       "      <td>0</td>\n",
       "    </tr>\n",
       "    <tr>\n",
       "      <th>888</th>\n",
       "      <td>1</td>\n",
       "      <td>Graham, Miss. Margaret Edith</td>\n",
       "      <td>female</td>\n",
       "      <td>19.0</td>\n",
       "      <td>0</td>\n",
       "      <td>0</td>\n",
       "      <td>112053</td>\n",
       "      <td>30.0000</td>\n",
       "      <td>B42</td>\n",
       "      <td>S</td>\n",
       "      <td>1</td>\n",
       "    </tr>\n",
       "    <tr>\n",
       "      <th>889</th>\n",
       "      <td>3</td>\n",
       "      <td>Johnston, Miss. Catherine Helen \"Carrie\"</td>\n",
       "      <td>female</td>\n",
       "      <td>NaN</td>\n",
       "      <td>1</td>\n",
       "      <td>2</td>\n",
       "      <td>W./C. 6607</td>\n",
       "      <td>23.4500</td>\n",
       "      <td>NaN</td>\n",
       "      <td>S</td>\n",
       "      <td>0</td>\n",
       "    </tr>\n",
       "    <tr>\n",
       "      <th>890</th>\n",
       "      <td>1</td>\n",
       "      <td>Behr, Mr. Karl Howell</td>\n",
       "      <td>male</td>\n",
       "      <td>26.0</td>\n",
       "      <td>0</td>\n",
       "      <td>0</td>\n",
       "      <td>111369</td>\n",
       "      <td>30.0000</td>\n",
       "      <td>C148</td>\n",
       "      <td>C</td>\n",
       "      <td>1</td>\n",
       "    </tr>\n",
       "    <tr>\n",
       "      <th>891</th>\n",
       "      <td>3</td>\n",
       "      <td>Dooley, Mr. Patrick</td>\n",
       "      <td>male</td>\n",
       "      <td>32.0</td>\n",
       "      <td>0</td>\n",
       "      <td>0</td>\n",
       "      <td>370376</td>\n",
       "      <td>7.7500</td>\n",
       "      <td>NaN</td>\n",
       "      <td>Q</td>\n",
       "      <td>0</td>\n",
       "    </tr>\n",
       "  </tbody>\n",
       "</table>\n",
       "<p>891 rows × 11 columns</p>\n",
       "</div>"
      ],
      "text/plain": [
       "             Pclass                                               Name  \\\n",
       "PassengerId                                                              \n",
       "1                 3                            Braund, Mr. Owen Harris   \n",
       "2                 1  Cumings, Mrs. John Bradley (Florence Briggs Th...   \n",
       "3                 3                             Heikkinen, Miss. Laina   \n",
       "4                 1       Futrelle, Mrs. Jacques Heath (Lily May Peel)   \n",
       "5                 3                           Allen, Mr. William Henry   \n",
       "...             ...                                                ...   \n",
       "887               2                              Montvila, Rev. Juozas   \n",
       "888               1                       Graham, Miss. Margaret Edith   \n",
       "889               3           Johnston, Miss. Catherine Helen \"Carrie\"   \n",
       "890               1                              Behr, Mr. Karl Howell   \n",
       "891               3                                Dooley, Mr. Patrick   \n",
       "\n",
       "                Sex   Age  SibSp  Parch            Ticket     Fare Cabin  \\\n",
       "PassengerId                                                                \n",
       "1              male  22.0      1      0         A/5 21171   7.2500   NaN   \n",
       "2            female  38.0      1      0          PC 17599  71.2833   C85   \n",
       "3            female  26.0      0      0  STON/O2. 3101282   7.9250   NaN   \n",
       "4            female  35.0      1      0            113803  53.1000  C123   \n",
       "5              male  35.0      0      0            373450   8.0500   NaN   \n",
       "...             ...   ...    ...    ...               ...      ...   ...   \n",
       "887            male  27.0      0      0            211536  13.0000   NaN   \n",
       "888          female  19.0      0      0            112053  30.0000   B42   \n",
       "889          female   NaN      1      2        W./C. 6607  23.4500   NaN   \n",
       "890            male  26.0      0      0            111369  30.0000  C148   \n",
       "891            male  32.0      0      0            370376   7.7500   NaN   \n",
       "\n",
       "            Embarked  Survived  \n",
       "PassengerId                     \n",
       "1                  S         0  \n",
       "2                  C         1  \n",
       "3                  S         1  \n",
       "4                  S         1  \n",
       "5                  S         0  \n",
       "...              ...       ...  \n",
       "887                S         0  \n",
       "888                S         1  \n",
       "889                S         0  \n",
       "890                C         1  \n",
       "891                Q         0  \n",
       "\n",
       "[891 rows x 11 columns]"
      ]
     },
     "execution_count": 2,
     "metadata": {},
     "output_type": "execute_result"
    }
   ],
   "source": [
    "df_train = pd.read_csv('titanic_train.csv', index_col='PassengerId')\n",
    "df_train = pd.concat([df_train.iloc[:, 1:], df_train['Survived']], axis=1)\n",
    "df_train"
   ]
  },
  {
   "cell_type": "code",
   "execution_count": 3,
   "id": "cb6f3d9c",
   "metadata": {
    "ExecuteTime": {
     "end_time": "2022-06-07T13:48:53.396841Z",
     "start_time": "2022-06-07T13:48:53.366841Z"
    }
   },
   "outputs": [
    {
     "data": {
      "text/html": [
       "<div>\n",
       "<style scoped>\n",
       "    .dataframe tbody tr th:only-of-type {\n",
       "        vertical-align: middle;\n",
       "    }\n",
       "\n",
       "    .dataframe tbody tr th {\n",
       "        vertical-align: top;\n",
       "    }\n",
       "\n",
       "    .dataframe thead th {\n",
       "        text-align: right;\n",
       "    }\n",
       "</style>\n",
       "<table border=\"1\" class=\"dataframe\">\n",
       "  <thead>\n",
       "    <tr style=\"text-align: right;\">\n",
       "      <th></th>\n",
       "      <th>PassengerId</th>\n",
       "      <th>Pclass</th>\n",
       "      <th>Name</th>\n",
       "      <th>Sex</th>\n",
       "      <th>Age</th>\n",
       "      <th>SibSp</th>\n",
       "      <th>Parch</th>\n",
       "      <th>Ticket</th>\n",
       "      <th>Fare</th>\n",
       "      <th>Cabin</th>\n",
       "      <th>Embarked</th>\n",
       "    </tr>\n",
       "  </thead>\n",
       "  <tbody>\n",
       "    <tr>\n",
       "      <th>0</th>\n",
       "      <td>892</td>\n",
       "      <td>3</td>\n",
       "      <td>Kelly, Mr. James</td>\n",
       "      <td>male</td>\n",
       "      <td>34.5</td>\n",
       "      <td>0</td>\n",
       "      <td>0</td>\n",
       "      <td>330911</td>\n",
       "      <td>7.8292</td>\n",
       "      <td>NaN</td>\n",
       "      <td>Q</td>\n",
       "    </tr>\n",
       "    <tr>\n",
       "      <th>1</th>\n",
       "      <td>893</td>\n",
       "      <td>3</td>\n",
       "      <td>Wilkes, Mrs. James (Ellen Needs)</td>\n",
       "      <td>female</td>\n",
       "      <td>47.0</td>\n",
       "      <td>1</td>\n",
       "      <td>0</td>\n",
       "      <td>363272</td>\n",
       "      <td>7.0000</td>\n",
       "      <td>NaN</td>\n",
       "      <td>S</td>\n",
       "    </tr>\n",
       "    <tr>\n",
       "      <th>2</th>\n",
       "      <td>894</td>\n",
       "      <td>2</td>\n",
       "      <td>Myles, Mr. Thomas Francis</td>\n",
       "      <td>male</td>\n",
       "      <td>62.0</td>\n",
       "      <td>0</td>\n",
       "      <td>0</td>\n",
       "      <td>240276</td>\n",
       "      <td>9.6875</td>\n",
       "      <td>NaN</td>\n",
       "      <td>Q</td>\n",
       "    </tr>\n",
       "    <tr>\n",
       "      <th>3</th>\n",
       "      <td>895</td>\n",
       "      <td>3</td>\n",
       "      <td>Wirz, Mr. Albert</td>\n",
       "      <td>male</td>\n",
       "      <td>27.0</td>\n",
       "      <td>0</td>\n",
       "      <td>0</td>\n",
       "      <td>315154</td>\n",
       "      <td>8.6625</td>\n",
       "      <td>NaN</td>\n",
       "      <td>S</td>\n",
       "    </tr>\n",
       "    <tr>\n",
       "      <th>4</th>\n",
       "      <td>896</td>\n",
       "      <td>3</td>\n",
       "      <td>Hirvonen, Mrs. Alexander (Helga E Lindqvist)</td>\n",
       "      <td>female</td>\n",
       "      <td>22.0</td>\n",
       "      <td>1</td>\n",
       "      <td>1</td>\n",
       "      <td>3101298</td>\n",
       "      <td>12.2875</td>\n",
       "      <td>NaN</td>\n",
       "      <td>S</td>\n",
       "    </tr>\n",
       "    <tr>\n",
       "      <th>...</th>\n",
       "      <td>...</td>\n",
       "      <td>...</td>\n",
       "      <td>...</td>\n",
       "      <td>...</td>\n",
       "      <td>...</td>\n",
       "      <td>...</td>\n",
       "      <td>...</td>\n",
       "      <td>...</td>\n",
       "      <td>...</td>\n",
       "      <td>...</td>\n",
       "      <td>...</td>\n",
       "    </tr>\n",
       "    <tr>\n",
       "      <th>413</th>\n",
       "      <td>1305</td>\n",
       "      <td>3</td>\n",
       "      <td>Spector, Mr. Woolf</td>\n",
       "      <td>male</td>\n",
       "      <td>NaN</td>\n",
       "      <td>0</td>\n",
       "      <td>0</td>\n",
       "      <td>A.5. 3236</td>\n",
       "      <td>8.0500</td>\n",
       "      <td>NaN</td>\n",
       "      <td>S</td>\n",
       "    </tr>\n",
       "    <tr>\n",
       "      <th>414</th>\n",
       "      <td>1306</td>\n",
       "      <td>1</td>\n",
       "      <td>Oliva y Ocana, Dona. Fermina</td>\n",
       "      <td>female</td>\n",
       "      <td>39.0</td>\n",
       "      <td>0</td>\n",
       "      <td>0</td>\n",
       "      <td>PC 17758</td>\n",
       "      <td>108.9000</td>\n",
       "      <td>C105</td>\n",
       "      <td>C</td>\n",
       "    </tr>\n",
       "    <tr>\n",
       "      <th>415</th>\n",
       "      <td>1307</td>\n",
       "      <td>3</td>\n",
       "      <td>Saether, Mr. Simon Sivertsen</td>\n",
       "      <td>male</td>\n",
       "      <td>38.5</td>\n",
       "      <td>0</td>\n",
       "      <td>0</td>\n",
       "      <td>SOTON/O.Q. 3101262</td>\n",
       "      <td>7.2500</td>\n",
       "      <td>NaN</td>\n",
       "      <td>S</td>\n",
       "    </tr>\n",
       "    <tr>\n",
       "      <th>416</th>\n",
       "      <td>1308</td>\n",
       "      <td>3</td>\n",
       "      <td>Ware, Mr. Frederick</td>\n",
       "      <td>male</td>\n",
       "      <td>NaN</td>\n",
       "      <td>0</td>\n",
       "      <td>0</td>\n",
       "      <td>359309</td>\n",
       "      <td>8.0500</td>\n",
       "      <td>NaN</td>\n",
       "      <td>S</td>\n",
       "    </tr>\n",
       "    <tr>\n",
       "      <th>417</th>\n",
       "      <td>1309</td>\n",
       "      <td>3</td>\n",
       "      <td>Peter, Master. Michael J</td>\n",
       "      <td>male</td>\n",
       "      <td>NaN</td>\n",
       "      <td>1</td>\n",
       "      <td>1</td>\n",
       "      <td>2668</td>\n",
       "      <td>22.3583</td>\n",
       "      <td>NaN</td>\n",
       "      <td>C</td>\n",
       "    </tr>\n",
       "  </tbody>\n",
       "</table>\n",
       "<p>418 rows × 11 columns</p>\n",
       "</div>"
      ],
      "text/plain": [
       "     PassengerId  Pclass                                          Name  \\\n",
       "0            892       3                              Kelly, Mr. James   \n",
       "1            893       3              Wilkes, Mrs. James (Ellen Needs)   \n",
       "2            894       2                     Myles, Mr. Thomas Francis   \n",
       "3            895       3                              Wirz, Mr. Albert   \n",
       "4            896       3  Hirvonen, Mrs. Alexander (Helga E Lindqvist)   \n",
       "..           ...     ...                                           ...   \n",
       "413         1305       3                            Spector, Mr. Woolf   \n",
       "414         1306       1                  Oliva y Ocana, Dona. Fermina   \n",
       "415         1307       3                  Saether, Mr. Simon Sivertsen   \n",
       "416         1308       3                           Ware, Mr. Frederick   \n",
       "417         1309       3                      Peter, Master. Michael J   \n",
       "\n",
       "        Sex   Age  SibSp  Parch              Ticket      Fare Cabin Embarked  \n",
       "0      male  34.5      0      0              330911    7.8292   NaN        Q  \n",
       "1    female  47.0      1      0              363272    7.0000   NaN        S  \n",
       "2      male  62.0      0      0              240276    9.6875   NaN        Q  \n",
       "3      male  27.0      0      0              315154    8.6625   NaN        S  \n",
       "4    female  22.0      1      1             3101298   12.2875   NaN        S  \n",
       "..      ...   ...    ...    ...                 ...       ...   ...      ...  \n",
       "413    male   NaN      0      0           A.5. 3236    8.0500   NaN        S  \n",
       "414  female  39.0      0      0            PC 17758  108.9000  C105        C  \n",
       "415    male  38.5      0      0  SOTON/O.Q. 3101262    7.2500   NaN        S  \n",
       "416    male   NaN      0      0              359309    8.0500   NaN        S  \n",
       "417    male   NaN      1      1                2668   22.3583   NaN        C  \n",
       "\n",
       "[418 rows x 11 columns]"
      ]
     },
     "execution_count": 3,
     "metadata": {},
     "output_type": "execute_result"
    }
   ],
   "source": [
    "df_test = pd.read_csv('titanic_test.csv')\n",
    "df_test"
   ]
  },
  {
   "cell_type": "code",
   "execution_count": 4,
   "id": "d549ba60",
   "metadata": {
    "ExecuteTime": {
     "end_time": "2022-06-07T13:48:53.428804Z",
     "start_time": "2022-06-07T13:48:53.398841Z"
    }
   },
   "outputs": [],
   "source": [
    "def prep(df):\n",
    "    df['Sex'] = df['Sex'].apply(lambda x: 0 if x == 'male' else 1)\n",
    "    df['Embarked'].fillna(df['Embarked'].mode().loc[0], inplace=True)\n",
    "    male_kids_mean = round(df[(df['Age'] <= 13) \n",
    "                          & (df['Sex'] == 0)]['Age'].mean(), 1)\n",
    "    male_adult_mean = round(df[(df['Age'] > 13)\n",
    "                              & (df['Sex'] == 0)]['Age'].mean(), 1)\n",
    "    fem_kids_mean = round(df[(df['Age'] <= 13) \n",
    "                              & (df['Sex'] == 1)]['Age'].mean(), 1)\n",
    "    fem_adult_mean = round(df[(df['Age'] > 13)\n",
    "                              & (df['Sex'] == 1)]['Age'].mean(), 1)\n",
    "    q1 = df[(df['Age'].isna()) & (df['Sex'] == 0)]['Name'].str.contains('Master', regex=False)\n",
    "    df.loc[q1[q1].index, ['Age']] = male_kids_mean\n",
    "    q2 = df[(df['Age'] .isna()) & (df['Sex'] == 0)]['Name'].str.contains('Mr.', regex=False)\n",
    "    df.loc[q2[q2].index, ['Age']] = male_adult_mean\n",
    "    q3 = df[(df['Age'].isna()) & (df['Sex'] == 1)]['Name'].str.contains('Miss.', regex=False)\n",
    "    df.loc[q3[q3].index, ['Age']] = fem_kids_mean\n",
    "    q4 = df[(df['Age'] .isna()) & (df['Sex'] == 1)]['Name'].str.contains('Mrs.', regex=False)\n",
    "    df.loc[q4[q4].index, ['Age']] = fem_adult_mean\n",
    "    df.loc[88, ['Age']] = fem_adult_mean\n",
    "    # df = df.reset_index().drop(columns='PassengerId')\n",
    "    df['Fare'].fillna(df['Fare'].mean(), inplace=True)\n",
    "    print(df.isna().sum())"
   ]
  },
  {
   "cell_type": "code",
   "execution_count": 5,
   "id": "7260da0f",
   "metadata": {
    "ExecuteTime": {
     "end_time": "2022-06-07T13:48:53.588805Z",
     "start_time": "2022-06-07T13:48:53.560824Z"
    }
   },
   "outputs": [
    {
     "data": {
      "text/html": [
       "<div>\n",
       "<style scoped>\n",
       "    .dataframe tbody tr th:only-of-type {\n",
       "        vertical-align: middle;\n",
       "    }\n",
       "\n",
       "    .dataframe tbody tr th {\n",
       "        vertical-align: top;\n",
       "    }\n",
       "\n",
       "    .dataframe thead th {\n",
       "        text-align: right;\n",
       "    }\n",
       "</style>\n",
       "<table border=\"1\" class=\"dataframe\">\n",
       "  <thead>\n",
       "    <tr style=\"text-align: right;\">\n",
       "      <th></th>\n",
       "      <th>Pclass</th>\n",
       "      <th>Name</th>\n",
       "      <th>Sex</th>\n",
       "      <th>Age</th>\n",
       "      <th>SibSp</th>\n",
       "      <th>Parch</th>\n",
       "      <th>Ticket</th>\n",
       "      <th>Fare</th>\n",
       "      <th>Cabin</th>\n",
       "      <th>Embarked</th>\n",
       "      <th>Survived</th>\n",
       "    </tr>\n",
       "    <tr>\n",
       "      <th>PassengerId</th>\n",
       "      <th></th>\n",
       "      <th></th>\n",
       "      <th></th>\n",
       "      <th></th>\n",
       "      <th></th>\n",
       "      <th></th>\n",
       "      <th></th>\n",
       "      <th></th>\n",
       "      <th></th>\n",
       "      <th></th>\n",
       "      <th></th>\n",
       "    </tr>\n",
       "  </thead>\n",
       "  <tbody>\n",
       "    <tr>\n",
       "      <th>1</th>\n",
       "      <td>3</td>\n",
       "      <td>Braund, Mr. Owen Harris</td>\n",
       "      <td>0</td>\n",
       "      <td>22.0</td>\n",
       "      <td>1</td>\n",
       "      <td>0</td>\n",
       "      <td>A/5 21171</td>\n",
       "      <td>7.2500</td>\n",
       "      <td>NaN</td>\n",
       "      <td>S</td>\n",
       "      <td>0</td>\n",
       "    </tr>\n",
       "    <tr>\n",
       "      <th>2</th>\n",
       "      <td>1</td>\n",
       "      <td>Cumings, Mrs. John Bradley (Florence Briggs Th...</td>\n",
       "      <td>1</td>\n",
       "      <td>38.0</td>\n",
       "      <td>1</td>\n",
       "      <td>0</td>\n",
       "      <td>PC 17599</td>\n",
       "      <td>71.2833</td>\n",
       "      <td>C85</td>\n",
       "      <td>C</td>\n",
       "      <td>1</td>\n",
       "    </tr>\n",
       "    <tr>\n",
       "      <th>3</th>\n",
       "      <td>3</td>\n",
       "      <td>Heikkinen, Miss. Laina</td>\n",
       "      <td>1</td>\n",
       "      <td>26.0</td>\n",
       "      <td>0</td>\n",
       "      <td>0</td>\n",
       "      <td>STON/O2. 3101282</td>\n",
       "      <td>7.9250</td>\n",
       "      <td>NaN</td>\n",
       "      <td>S</td>\n",
       "      <td>1</td>\n",
       "    </tr>\n",
       "    <tr>\n",
       "      <th>4</th>\n",
       "      <td>1</td>\n",
       "      <td>Futrelle, Mrs. Jacques Heath (Lily May Peel)</td>\n",
       "      <td>1</td>\n",
       "      <td>35.0</td>\n",
       "      <td>1</td>\n",
       "      <td>0</td>\n",
       "      <td>113803</td>\n",
       "      <td>53.1000</td>\n",
       "      <td>C123</td>\n",
       "      <td>S</td>\n",
       "      <td>1</td>\n",
       "    </tr>\n",
       "    <tr>\n",
       "      <th>5</th>\n",
       "      <td>3</td>\n",
       "      <td>Allen, Mr. William Henry</td>\n",
       "      <td>0</td>\n",
       "      <td>35.0</td>\n",
       "      <td>0</td>\n",
       "      <td>0</td>\n",
       "      <td>373450</td>\n",
       "      <td>8.0500</td>\n",
       "      <td>NaN</td>\n",
       "      <td>S</td>\n",
       "      <td>0</td>\n",
       "    </tr>\n",
       "    <tr>\n",
       "      <th>...</th>\n",
       "      <td>...</td>\n",
       "      <td>...</td>\n",
       "      <td>...</td>\n",
       "      <td>...</td>\n",
       "      <td>...</td>\n",
       "      <td>...</td>\n",
       "      <td>...</td>\n",
       "      <td>...</td>\n",
       "      <td>...</td>\n",
       "      <td>...</td>\n",
       "      <td>...</td>\n",
       "    </tr>\n",
       "    <tr>\n",
       "      <th>887</th>\n",
       "      <td>2</td>\n",
       "      <td>Montvila, Rev. Juozas</td>\n",
       "      <td>0</td>\n",
       "      <td>27.0</td>\n",
       "      <td>0</td>\n",
       "      <td>0</td>\n",
       "      <td>211536</td>\n",
       "      <td>13.0000</td>\n",
       "      <td>NaN</td>\n",
       "      <td>S</td>\n",
       "      <td>0</td>\n",
       "    </tr>\n",
       "    <tr>\n",
       "      <th>888</th>\n",
       "      <td>1</td>\n",
       "      <td>Graham, Miss. Margaret Edith</td>\n",
       "      <td>1</td>\n",
       "      <td>19.0</td>\n",
       "      <td>0</td>\n",
       "      <td>0</td>\n",
       "      <td>112053</td>\n",
       "      <td>30.0000</td>\n",
       "      <td>B42</td>\n",
       "      <td>S</td>\n",
       "      <td>1</td>\n",
       "    </tr>\n",
       "    <tr>\n",
       "      <th>889</th>\n",
       "      <td>3</td>\n",
       "      <td>Johnston, Miss. Catherine Helen \"Carrie\"</td>\n",
       "      <td>1</td>\n",
       "      <td>NaN</td>\n",
       "      <td>1</td>\n",
       "      <td>2</td>\n",
       "      <td>W./C. 6607</td>\n",
       "      <td>23.4500</td>\n",
       "      <td>NaN</td>\n",
       "      <td>S</td>\n",
       "      <td>0</td>\n",
       "    </tr>\n",
       "    <tr>\n",
       "      <th>890</th>\n",
       "      <td>1</td>\n",
       "      <td>Behr, Mr. Karl Howell</td>\n",
       "      <td>0</td>\n",
       "      <td>26.0</td>\n",
       "      <td>0</td>\n",
       "      <td>0</td>\n",
       "      <td>111369</td>\n",
       "      <td>30.0000</td>\n",
       "      <td>C148</td>\n",
       "      <td>C</td>\n",
       "      <td>1</td>\n",
       "    </tr>\n",
       "    <tr>\n",
       "      <th>891</th>\n",
       "      <td>3</td>\n",
       "      <td>Dooley, Mr. Patrick</td>\n",
       "      <td>0</td>\n",
       "      <td>32.0</td>\n",
       "      <td>0</td>\n",
       "      <td>0</td>\n",
       "      <td>370376</td>\n",
       "      <td>7.7500</td>\n",
       "      <td>NaN</td>\n",
       "      <td>Q</td>\n",
       "      <td>0</td>\n",
       "    </tr>\n",
       "  </tbody>\n",
       "</table>\n",
       "<p>891 rows × 11 columns</p>\n",
       "</div>"
      ],
      "text/plain": [
       "             Pclass                                               Name  Sex  \\\n",
       "PassengerId                                                                   \n",
       "1                 3                            Braund, Mr. Owen Harris    0   \n",
       "2                 1  Cumings, Mrs. John Bradley (Florence Briggs Th...    1   \n",
       "3                 3                             Heikkinen, Miss. Laina    1   \n",
       "4                 1       Futrelle, Mrs. Jacques Heath (Lily May Peel)    1   \n",
       "5                 3                           Allen, Mr. William Henry    0   \n",
       "...             ...                                                ...  ...   \n",
       "887               2                              Montvila, Rev. Juozas    0   \n",
       "888               1                       Graham, Miss. Margaret Edith    1   \n",
       "889               3           Johnston, Miss. Catherine Helen \"Carrie\"    1   \n",
       "890               1                              Behr, Mr. Karl Howell    0   \n",
       "891               3                                Dooley, Mr. Patrick    0   \n",
       "\n",
       "              Age  SibSp  Parch            Ticket     Fare Cabin Embarked  \\\n",
       "PassengerId                                                                 \n",
       "1            22.0      1      0         A/5 21171   7.2500   NaN        S   \n",
       "2            38.0      1      0          PC 17599  71.2833   C85        C   \n",
       "3            26.0      0      0  STON/O2. 3101282   7.9250   NaN        S   \n",
       "4            35.0      1      0            113803  53.1000  C123        S   \n",
       "5            35.0      0      0            373450   8.0500   NaN        S   \n",
       "...           ...    ...    ...               ...      ...   ...      ...   \n",
       "887          27.0      0      0            211536  13.0000   NaN        S   \n",
       "888          19.0      0      0            112053  30.0000   B42        S   \n",
       "889           NaN      1      2        W./C. 6607  23.4500   NaN        S   \n",
       "890          26.0      0      0            111369  30.0000  C148        C   \n",
       "891          32.0      0      0            370376   7.7500   NaN        Q   \n",
       "\n",
       "             Survived  \n",
       "PassengerId            \n",
       "1                   0  \n",
       "2                   1  \n",
       "3                   1  \n",
       "4                   1  \n",
       "5                   0  \n",
       "...               ...  \n",
       "887                 0  \n",
       "888                 1  \n",
       "889                 0  \n",
       "890                 1  \n",
       "891                 0  \n",
       "\n",
       "[891 rows x 11 columns]"
      ]
     },
     "execution_count": 5,
     "metadata": {},
     "output_type": "execute_result"
    }
   ],
   "source": [
    "df_train['Sex'] = df_train['Sex'].apply(lambda x: 0 if x == 'male' else 1)\n",
    "df_train"
   ]
  },
  {
   "cell_type": "code",
   "execution_count": 6,
   "id": "2583ff15",
   "metadata": {
    "ExecuteTime": {
     "end_time": "2022-06-07T13:48:55.642693Z",
     "start_time": "2022-06-07T13:48:55.624658Z"
    }
   },
   "outputs": [
    {
     "data": {
      "text/plain": [
       "Pclass        int64\n",
       "Name         object\n",
       "Sex           int64\n",
       "Age         float64\n",
       "SibSp         int64\n",
       "Parch         int64\n",
       "Ticket       object\n",
       "Fare        float64\n",
       "Cabin        object\n",
       "Embarked     object\n",
       "Survived      int64\n",
       "dtype: object"
      ]
     },
     "execution_count": 6,
     "metadata": {},
     "output_type": "execute_result"
    }
   ],
   "source": [
    "df_train.dtypes"
   ]
  },
  {
   "cell_type": "code",
   "execution_count": 7,
   "id": "152a1eee",
   "metadata": {
    "ExecuteTime": {
     "end_time": "2022-06-07T13:48:56.909156Z",
     "start_time": "2022-06-07T13:48:56.894153Z"
    }
   },
   "outputs": [
    {
     "data": {
      "text/plain": [
       "Ticket\n",
       "PC 17558           2\n",
       "S.O./P.P. 3        2\n",
       "PC 17485           2\n",
       "S.C./PARIS 2079    2\n",
       "W./C. 6607         2\n",
       "                  ..\n",
       "CA 2144            6\n",
       "347088             6\n",
       "347082             7\n",
       "1601               7\n",
       "CA. 2343           7\n",
       "Name: Name, Length: 134, dtype: int64"
      ]
     },
     "execution_count": 7,
     "metadata": {},
     "output_type": "execute_result"
    }
   ],
   "source": [
    "tk = df_train.groupby('Ticket').count()['Name'].sort_values()\n",
    "tk[tk > 1]"
   ]
  },
  {
   "cell_type": "code",
   "execution_count": 8,
   "id": "37b82b1c",
   "metadata": {
    "ExecuteTime": {
     "end_time": "2022-06-07T13:48:58.410405Z",
     "start_time": "2022-06-07T13:48:58.398405Z"
    }
   },
   "outputs": [
    {
     "data": {
      "text/plain": [
       "0    577\n",
       "1    314\n",
       "Name: Sex, dtype: int64"
      ]
     },
     "execution_count": 8,
     "metadata": {},
     "output_type": "execute_result"
    }
   ],
   "source": [
    "df_train['Ticket'].nunique()\n",
    "df_train['Survived'].value_counts()\n",
    "df_train['Sex'].value_counts()"
   ]
  },
  {
   "cell_type": "code",
   "execution_count": 9,
   "id": "4bf3e32c",
   "metadata": {
    "ExecuteTime": {
     "end_time": "2022-06-07T13:48:59.450546Z",
     "start_time": "2022-06-07T13:48:59.438508Z"
    }
   },
   "outputs": [
    {
     "data": {
      "text/plain": [
       "Pclass        0\n",
       "Name          0\n",
       "Sex           0\n",
       "Age         177\n",
       "SibSp         0\n",
       "Parch         0\n",
       "Ticket        0\n",
       "Fare          0\n",
       "Cabin       687\n",
       "Embarked      2\n",
       "Survived      0\n",
       "dtype: int64"
      ]
     },
     "execution_count": 9,
     "metadata": {},
     "output_type": "execute_result"
    }
   ],
   "source": [
    "df_train.isna().sum()"
   ]
  },
  {
   "cell_type": "code",
   "execution_count": 10,
   "id": "2efd1085",
   "metadata": {
    "ExecuteTime": {
     "end_time": "2022-06-07T13:49:00.326951Z",
     "start_time": "2022-06-07T13:49:00.305915Z"
    }
   },
   "outputs": [],
   "source": [
    "df_train['Embarked'].fillna(df_train['Embarked'].mode().loc[0], inplace=True)"
   ]
  },
  {
   "cell_type": "code",
   "execution_count": 11,
   "id": "957db902",
   "metadata": {
    "ExecuteTime": {
     "end_time": "2022-06-07T13:49:02.499098Z",
     "start_time": "2022-06-07T13:49:02.227103Z"
    }
   },
   "outputs": [
    {
     "data": {
      "image/png": "[encoded data removed]",
      "text/plain": [
       "<Figure size 576x576 with 1 Axes>"
      ]
     },
     "metadata": {
      "image/png": {
       "height": 465,
       "width": 477
      }
     },
     "output_type": "display_data"
    }
   ],
   "source": [
    "%config InlineBackend.figure_format = 'retina'\n",
    "fig = plt.figure(figsize=(8, 8))\n",
    "sns.heatmap(df_train.iloc[:, :-1].drop(columns=['Sex']).corr(), annot=True, cbar=False)\n",
    "plt.show()"
   ]
  },
  {
   "cell_type": "code",
   "execution_count": 10,
   "id": "6cd6c1a3",
   "metadata": {
    "ExecuteTime": {
     "end_time": "2022-05-18T20:24:07.170704Z",
     "start_time": "2022-05-18T20:24:06.998097Z"
    }
   },
   "outputs": [
    {
     "data": {
      "image/png": "[encoded data removed]",
      "text/plain": [
       "<Figure size 432x360 with 1 Axes>"
      ]
     },
     "metadata": {
      "image/png": {
       "height": 317,
       "width": 372
      }
     },
     "output_type": "display_data"
    }
   ],
   "source": [
    "def bar_plt(col_name, figsize=(6, 5), tick_label=None):\n",
    "    col_vc = df_train[col_name].value_counts().sort_index()\n",
    "    plt.figure(figsize=figsize)\n",
    "    plt.bar(col_vc.index, col_vc.values, tick_label=tick_label)\n",
    "    plt.title(f'bar-plot for {col_name}', fontsize=12, weight='bold')\n",
    "    plt.show()\n",
    "bar_plt('Pclass', tick_label=['1', '2', '3'])"
   ]
  },
  {
   "cell_type": "code",
   "execution_count": 11,
   "id": "4020b29f",
   "metadata": {
    "ExecuteTime": {
     "end_time": "2022-05-18T20:24:07.360705Z",
     "start_time": "2022-05-18T20:24:07.222704Z"
    }
   },
   "outputs": [
    {
     "data": {
      "image/png": "[encoded data removed]",
      "text/plain": [
       "<Figure size 432x360 with 1 Axes>"
      ]
     },
     "metadata": {
      "image/png": {
       "height": 317,
       "width": 372
      }
     },
     "output_type": "display_data"
    }
   ],
   "source": [
    "bar_plt('Embarked')"
   ]
  },
  {
   "cell_type": "code",
   "execution_count": 13,
   "id": "51edc91a",
   "metadata": {
    "ExecuteTime": {
     "end_time": "2022-05-18T20:24:07.770944Z",
     "start_time": "2022-05-18T20:24:07.621851Z"
    }
   },
   "outputs": [
    {
     "data": {
      "image/png": "[encoded data removed]",
      "text/plain": [
       "<Figure size 432x360 with 1 Axes>"
      ]
     },
     "metadata": {
      "image/png": {
       "height": 317,
       "width": 372
      }
     },
     "output_type": "display_data"
    }
   ],
   "source": [
    "bar_plt('Sex', tick_label=['Male', 'Female'])"
   ]
  },
  {
   "cell_type": "code",
   "execution_count": 14,
   "id": "9b003aac",
   "metadata": {
    "ExecuteTime": {
     "end_time": "2022-05-18T20:24:07.942960Z",
     "start_time": "2022-05-18T20:24:07.806961Z"
    }
   },
   "outputs": [
    {
     "data": {
      "image/png": "[encoded data removed]",
      "text/plain": [
       "<Figure size 432x360 with 1 Axes>"
      ]
     },
     "metadata": {
      "image/png": {
       "height": 317,
       "width": 372
      }
     },
     "output_type": "display_data"
    }
   ],
   "source": [
    "bar_plt('Survived', tick_label=['Dead', 'Survived'])"
   ]
  },
  {
   "cell_type": "code",
   "execution_count": 15,
   "id": "27c47c96",
   "metadata": {
    "ExecuteTime": {
     "end_time": "2022-05-18T20:24:08.989001Z",
     "start_time": "2022-05-18T20:24:07.983962Z"
    }
   },
   "outputs": [
    {
     "data": {
      "image/png": "[encoded data removed]",
      "text/plain": [
       "<Figure size 504x360 with 1 Axes>"
      ]
     },
     "metadata": {
      "image/png": {
       "height": 318,
       "width": 428
      }
     },
     "output_type": "display_data"
    }
   ],
   "source": [
    "plt.figure(figsize=(7, 5))\n",
    "df_train['Age'].hist()\n",
    "plt.title('Hist for age', fontsize=14, weight='bold')\n",
    "plt.show()"
   ]
  },
  {
   "cell_type": "code",
   "execution_count": 16,
   "id": "307e083e",
   "metadata": {
    "ExecuteTime": {
     "end_time": "2022-05-18T20:24:09.208960Z",
     "start_time": "2022-05-18T20:24:08.990962Z"
    }
   },
   "outputs": [
    {
     "data": {
      "image/png": "[encoded data removed]",
      "text/plain": [
       "<Figure size 504x360 with 1 Axes>"
      ]
     },
     "metadata": {
      "image/png": {
       "height": 318,
       "width": 428
      }
     },
     "output_type": "display_data"
    }
   ],
   "source": [
    "plt.figure(figsize=(7, 5))\n",
    "df_train['Fare'].hist()\n",
    "plt.title('Hist for fare', fontsize=14, weight='bold')\n",
    "plt.show()"
   ]
  },
  {
   "cell_type": "code",
   "execution_count": 17,
   "id": "4e1e0499",
   "metadata": {
    "ExecuteTime": {
     "end_time": "2022-05-18T20:24:09.604064Z",
     "start_time": "2022-05-18T20:24:09.210961Z"
    }
   },
   "outputs": [
    {
     "data": {
      "image/png": "[encoded data removed]",
      "text/plain": [
       "<Figure size 864x432 with 2 Axes>"
      ]
     },
     "metadata": {
      "image/png": {
       "height": 426,
       "width": 915
      }
     },
     "output_type": "display_data"
    }
   ],
   "source": [
    "fig, ax = plt.subplots(1, 2, figsize=(12, 6))\n",
    "sns.boxplot(x='Survived', y='Fare', data=df_train, ax=ax[0])\n",
    "ax[0].set_title('Box-plot Survived-Fare', weight='bold')\n",
    "sns.boxplot(x='Survived', y='Age', data=df_train, ax=ax[1])\n",
    "ax[1].set_title('Box-plot Survived-Age', weight='bold')\n",
    "fig.subplots_adjust(left=0, right=1, bottom=0.1, top=0.95,\n",
    "                    hspace=0.4, wspace=0.3)\n",
    "plt.show()"
   ]
  },
  {
   "cell_type": "code",
   "execution_count": 18,
   "id": "0103d8bf",
   "metadata": {
    "ExecuteTime": {
     "end_time": "2022-05-18T20:24:09.635063Z",
     "start_time": "2022-05-18T20:24:09.606061Z"
    }
   },
   "outputs": [
    {
     "data": {
      "text/html": [
       "<div>\n",
       "<style scoped>\n",
       "    .dataframe tbody tr th:only-of-type {\n",
       "        vertical-align: middle;\n",
       "    }\n",
       "\n",
       "    .dataframe tbody tr th {\n",
       "        vertical-align: top;\n",
       "    }\n",
       "\n",
       "    .dataframe thead th {\n",
       "        text-align: right;\n",
       "    }\n",
       "</style>\n",
       "<table border=\"1\" class=\"dataframe\">\n",
       "  <thead>\n",
       "    <tr style=\"text-align: right;\">\n",
       "      <th></th>\n",
       "      <th>Pclass</th>\n",
       "      <th>Name</th>\n",
       "      <th>Sex</th>\n",
       "      <th>Age</th>\n",
       "      <th>SibSp</th>\n",
       "      <th>Parch</th>\n",
       "      <th>Ticket</th>\n",
       "      <th>Fare</th>\n",
       "      <th>Cabin</th>\n",
       "      <th>Embarked</th>\n",
       "      <th>Survived</th>\n",
       "    </tr>\n",
       "    <tr>\n",
       "      <th>PassengerId</th>\n",
       "      <th></th>\n",
       "      <th></th>\n",
       "      <th></th>\n",
       "      <th></th>\n",
       "      <th></th>\n",
       "      <th></th>\n",
       "      <th></th>\n",
       "      <th></th>\n",
       "      <th></th>\n",
       "      <th></th>\n",
       "      <th></th>\n",
       "    </tr>\n",
       "  </thead>\n",
       "  <tbody>\n",
       "    <tr>\n",
       "      <th>780</th>\n",
       "      <td>1</td>\n",
       "      <td>Robert, Mrs. Edward Scott (Elisabeth Walton Mc...</td>\n",
       "      <td>1</td>\n",
       "      <td>43.0</td>\n",
       "      <td>0</td>\n",
       "      <td>1</td>\n",
       "      <td>24160</td>\n",
       "      <td>211.3375</td>\n",
       "      <td>B3</td>\n",
       "      <td>S</td>\n",
       "      <td>1</td>\n",
       "    </tr>\n",
       "    <tr>\n",
       "      <th>731</th>\n",
       "      <td>1</td>\n",
       "      <td>Allen, Miss. Elisabeth Walton</td>\n",
       "      <td>1</td>\n",
       "      <td>29.0</td>\n",
       "      <td>0</td>\n",
       "      <td>0</td>\n",
       "      <td>24160</td>\n",
       "      <td>211.3375</td>\n",
       "      <td>B5</td>\n",
       "      <td>S</td>\n",
       "      <td>1</td>\n",
       "    </tr>\n",
       "    <tr>\n",
       "      <th>690</th>\n",
       "      <td>1</td>\n",
       "      <td>Madill, Miss. Georgette Alexandra</td>\n",
       "      <td>1</td>\n",
       "      <td>15.0</td>\n",
       "      <td>0</td>\n",
       "      <td>1</td>\n",
       "      <td>24160</td>\n",
       "      <td>211.3375</td>\n",
       "      <td>B5</td>\n",
       "      <td>S</td>\n",
       "      <td>1</td>\n",
       "    </tr>\n",
       "    <tr>\n",
       "      <th>378</th>\n",
       "      <td>1</td>\n",
       "      <td>Widener, Mr. Harry Elkins</td>\n",
       "      <td>0</td>\n",
       "      <td>27.0</td>\n",
       "      <td>0</td>\n",
       "      <td>2</td>\n",
       "      <td>113503</td>\n",
       "      <td>211.5000</td>\n",
       "      <td>C82</td>\n",
       "      <td>C</td>\n",
       "      <td>0</td>\n",
       "    </tr>\n",
       "    <tr>\n",
       "      <th>528</th>\n",
       "      <td>1</td>\n",
       "      <td>Farthing, Mr. John</td>\n",
       "      <td>0</td>\n",
       "      <td>NaN</td>\n",
       "      <td>0</td>\n",
       "      <td>0</td>\n",
       "      <td>PC 17483</td>\n",
       "      <td>221.7792</td>\n",
       "      <td>C95</td>\n",
       "      <td>S</td>\n",
       "      <td>0</td>\n",
       "    </tr>\n",
       "    <tr>\n",
       "      <th>717</th>\n",
       "      <td>1</td>\n",
       "      <td>Endres, Miss. Caroline Louise</td>\n",
       "      <td>1</td>\n",
       "      <td>38.0</td>\n",
       "      <td>0</td>\n",
       "      <td>0</td>\n",
       "      <td>PC 17757</td>\n",
       "      <td>227.5250</td>\n",
       "      <td>C45</td>\n",
       "      <td>C</td>\n",
       "      <td>1</td>\n",
       "    </tr>\n",
       "    <tr>\n",
       "      <th>701</th>\n",
       "      <td>1</td>\n",
       "      <td>Astor, Mrs. John Jacob (Madeleine Talmadge Force)</td>\n",
       "      <td>1</td>\n",
       "      <td>18.0</td>\n",
       "      <td>1</td>\n",
       "      <td>0</td>\n",
       "      <td>PC 17757</td>\n",
       "      <td>227.5250</td>\n",
       "      <td>C62 C64</td>\n",
       "      <td>C</td>\n",
       "      <td>1</td>\n",
       "    </tr>\n",
       "    <tr>\n",
       "      <th>381</th>\n",
       "      <td>1</td>\n",
       "      <td>Bidois, Miss. Rosalie</td>\n",
       "      <td>1</td>\n",
       "      <td>42.0</td>\n",
       "      <td>0</td>\n",
       "      <td>0</td>\n",
       "      <td>PC 17757</td>\n",
       "      <td>227.5250</td>\n",
       "      <td>NaN</td>\n",
       "      <td>C</td>\n",
       "      <td>1</td>\n",
       "    </tr>\n",
       "    <tr>\n",
       "      <th>558</th>\n",
       "      <td>1</td>\n",
       "      <td>Robbins, Mr. Victor</td>\n",
       "      <td>0</td>\n",
       "      <td>NaN</td>\n",
       "      <td>0</td>\n",
       "      <td>0</td>\n",
       "      <td>PC 17757</td>\n",
       "      <td>227.5250</td>\n",
       "      <td>NaN</td>\n",
       "      <td>C</td>\n",
       "      <td>0</td>\n",
       "    </tr>\n",
       "    <tr>\n",
       "      <th>119</th>\n",
       "      <td>1</td>\n",
       "      <td>Baxter, Mr. Quigg Edmond</td>\n",
       "      <td>0</td>\n",
       "      <td>24.0</td>\n",
       "      <td>0</td>\n",
       "      <td>1</td>\n",
       "      <td>PC 17558</td>\n",
       "      <td>247.5208</td>\n",
       "      <td>B58 B60</td>\n",
       "      <td>C</td>\n",
       "      <td>0</td>\n",
       "    </tr>\n",
       "    <tr>\n",
       "      <th>300</th>\n",
       "      <td>1</td>\n",
       "      <td>Baxter, Mrs. James (Helene DeLaudeniere Chaput)</td>\n",
       "      <td>1</td>\n",
       "      <td>50.0</td>\n",
       "      <td>0</td>\n",
       "      <td>1</td>\n",
       "      <td>PC 17558</td>\n",
       "      <td>247.5208</td>\n",
       "      <td>B58 B60</td>\n",
       "      <td>C</td>\n",
       "      <td>1</td>\n",
       "    </tr>\n",
       "    <tr>\n",
       "      <th>312</th>\n",
       "      <td>1</td>\n",
       "      <td>Ryerson, Miss. Emily Borie</td>\n",
       "      <td>1</td>\n",
       "      <td>18.0</td>\n",
       "      <td>2</td>\n",
       "      <td>2</td>\n",
       "      <td>PC 17608</td>\n",
       "      <td>262.3750</td>\n",
       "      <td>B57 B59 B63 B66</td>\n",
       "      <td>C</td>\n",
       "      <td>1</td>\n",
       "    </tr>\n",
       "    <tr>\n",
       "      <th>743</th>\n",
       "      <td>1</td>\n",
       "      <td>Ryerson, Miss. Susan Parker \"Suzette\"</td>\n",
       "      <td>1</td>\n",
       "      <td>21.0</td>\n",
       "      <td>2</td>\n",
       "      <td>2</td>\n",
       "      <td>PC 17608</td>\n",
       "      <td>262.3750</td>\n",
       "      <td>B57 B59 B63 B66</td>\n",
       "      <td>C</td>\n",
       "      <td>1</td>\n",
       "    </tr>\n",
       "    <tr>\n",
       "      <th>28</th>\n",
       "      <td>1</td>\n",
       "      <td>Fortune, Mr. Charles Alexander</td>\n",
       "      <td>0</td>\n",
       "      <td>19.0</td>\n",
       "      <td>3</td>\n",
       "      <td>2</td>\n",
       "      <td>19950</td>\n",
       "      <td>263.0000</td>\n",
       "      <td>C23 C25 C27</td>\n",
       "      <td>S</td>\n",
       "      <td>0</td>\n",
       "    </tr>\n",
       "    <tr>\n",
       "      <th>342</th>\n",
       "      <td>1</td>\n",
       "      <td>Fortune, Miss. Alice Elizabeth</td>\n",
       "      <td>1</td>\n",
       "      <td>24.0</td>\n",
       "      <td>3</td>\n",
       "      <td>2</td>\n",
       "      <td>19950</td>\n",
       "      <td>263.0000</td>\n",
       "      <td>C23 C25 C27</td>\n",
       "      <td>S</td>\n",
       "      <td>1</td>\n",
       "    </tr>\n",
       "    <tr>\n",
       "      <th>89</th>\n",
       "      <td>1</td>\n",
       "      <td>Fortune, Miss. Mabel Helen</td>\n",
       "      <td>1</td>\n",
       "      <td>23.0</td>\n",
       "      <td>3</td>\n",
       "      <td>2</td>\n",
       "      <td>19950</td>\n",
       "      <td>263.0000</td>\n",
       "      <td>C23 C25 C27</td>\n",
       "      <td>S</td>\n",
       "      <td>1</td>\n",
       "    </tr>\n",
       "    <tr>\n",
       "      <th>439</th>\n",
       "      <td>1</td>\n",
       "      <td>Fortune, Mr. Mark</td>\n",
       "      <td>0</td>\n",
       "      <td>64.0</td>\n",
       "      <td>1</td>\n",
       "      <td>4</td>\n",
       "      <td>19950</td>\n",
       "      <td>263.0000</td>\n",
       "      <td>C23 C25 C27</td>\n",
       "      <td>S</td>\n",
       "      <td>0</td>\n",
       "    </tr>\n",
       "    <tr>\n",
       "      <th>259</th>\n",
       "      <td>1</td>\n",
       "      <td>Ward, Miss. Anna</td>\n",
       "      <td>1</td>\n",
       "      <td>35.0</td>\n",
       "      <td>0</td>\n",
       "      <td>0</td>\n",
       "      <td>PC 17755</td>\n",
       "      <td>512.3292</td>\n",
       "      <td>NaN</td>\n",
       "      <td>C</td>\n",
       "      <td>1</td>\n",
       "    </tr>\n",
       "    <tr>\n",
       "      <th>738</th>\n",
       "      <td>1</td>\n",
       "      <td>Lesurer, Mr. Gustave J</td>\n",
       "      <td>0</td>\n",
       "      <td>35.0</td>\n",
       "      <td>0</td>\n",
       "      <td>0</td>\n",
       "      <td>PC 17755</td>\n",
       "      <td>512.3292</td>\n",
       "      <td>B101</td>\n",
       "      <td>C</td>\n",
       "      <td>1</td>\n",
       "    </tr>\n",
       "    <tr>\n",
       "      <th>680</th>\n",
       "      <td>1</td>\n",
       "      <td>Cardeza, Mr. Thomas Drake Martinez</td>\n",
       "      <td>0</td>\n",
       "      <td>36.0</td>\n",
       "      <td>0</td>\n",
       "      <td>1</td>\n",
       "      <td>PC 17755</td>\n",
       "      <td>512.3292</td>\n",
       "      <td>B51 B53 B55</td>\n",
       "      <td>C</td>\n",
       "      <td>1</td>\n",
       "    </tr>\n",
       "  </tbody>\n",
       "</table>\n",
       "</div>"
      ],
      "text/plain": [
       "             Pclass                                               Name  Sex  \\\n",
       "PassengerId                                                                   \n",
       "780               1  Robert, Mrs. Edward Scott (Elisabeth Walton Mc...    1   \n",
       "731               1                      Allen, Miss. Elisabeth Walton    1   \n",
       "690               1                  Madill, Miss. Georgette Alexandra    1   \n",
       "378               1                          Widener, Mr. Harry Elkins    0   \n",
       "528               1                                 Farthing, Mr. John    0   \n",
       "717               1                      Endres, Miss. Caroline Louise    1   \n",
       "701               1  Astor, Mrs. John Jacob (Madeleine Talmadge Force)    1   \n",
       "381               1                              Bidois, Miss. Rosalie    1   \n",
       "558               1                                Robbins, Mr. Victor    0   \n",
       "119               1                           Baxter, Mr. Quigg Edmond    0   \n",
       "300               1    Baxter, Mrs. James (Helene DeLaudeniere Chaput)    1   \n",
       "312               1                         Ryerson, Miss. Emily Borie    1   \n",
       "743               1              Ryerson, Miss. Susan Parker \"Suzette\"    1   \n",
       "28                1                     Fortune, Mr. Charles Alexander    0   \n",
       "342               1                     Fortune, Miss. Alice Elizabeth    1   \n",
       "89                1                         Fortune, Miss. Mabel Helen    1   \n",
       "439               1                                  Fortune, Mr. Mark    0   \n",
       "259               1                                   Ward, Miss. Anna    1   \n",
       "738               1                             Lesurer, Mr. Gustave J    0   \n",
       "680               1                 Cardeza, Mr. Thomas Drake Martinez    0   \n",
       "\n",
       "              Age  SibSp  Parch    Ticket      Fare            Cabin Embarked  \\\n",
       "PassengerId                                                                     \n",
       "780          43.0      0      1     24160  211.3375               B3        S   \n",
       "731          29.0      0      0     24160  211.3375               B5        S   \n",
       "690          15.0      0      1     24160  211.3375               B5        S   \n",
       "378          27.0      0      2    113503  211.5000              C82        C   \n",
       "528           NaN      0      0  PC 17483  221.7792              C95        S   \n",
       "717          38.0      0      0  PC 17757  227.5250              C45        C   \n",
       "701          18.0      1      0  PC 17757  227.5250          C62 C64        C   \n",
       "381          42.0      0      0  PC 17757  227.5250              NaN        C   \n",
       "558           NaN      0      0  PC 17757  227.5250              NaN        C   \n",
       "119          24.0      0      1  PC 17558  247.5208          B58 B60        C   \n",
       "300          50.0      0      1  PC 17558  247.5208          B58 B60        C   \n",
       "312          18.0      2      2  PC 17608  262.3750  B57 B59 B63 B66        C   \n",
       "743          21.0      2      2  PC 17608  262.3750  B57 B59 B63 B66        C   \n",
       "28           19.0      3      2     19950  263.0000      C23 C25 C27        S   \n",
       "342          24.0      3      2     19950  263.0000      C23 C25 C27        S   \n",
       "89           23.0      3      2     19950  263.0000      C23 C25 C27        S   \n",
       "439          64.0      1      4     19950  263.0000      C23 C25 C27        S   \n",
       "259          35.0      0      0  PC 17755  512.3292              NaN        C   \n",
       "738          35.0      0      0  PC 17755  512.3292             B101        C   \n",
       "680          36.0      0      1  PC 17755  512.3292      B51 B53 B55        C   \n",
       "\n",
       "             Survived  \n",
       "PassengerId            \n",
       "780                 1  \n",
       "731                 1  \n",
       "690                 1  \n",
       "378                 0  \n",
       "528                 0  \n",
       "717                 1  \n",
       "701                 1  \n",
       "381                 1  \n",
       "558                 0  \n",
       "119                 0  \n",
       "300                 1  \n",
       "312                 1  \n",
       "743                 1  \n",
       "28                  0  \n",
       "342                 1  \n",
       "89                  1  \n",
       "439                 0  \n",
       "259                 1  \n",
       "738                 1  \n",
       "680                 1  "
      ]
     },
     "execution_count": 18,
     "metadata": {},
     "output_type": "execute_result"
    }
   ],
   "source": [
    "df_train[df_train['Fare'] >= 200].sort_values(by='Fare')"
   ]
  },
  {
   "cell_type": "code",
   "execution_count": 19,
   "id": "742ea31c",
   "metadata": {
    "ExecuteTime": {
     "end_time": "2022-05-18T20:24:09.651073Z",
     "start_time": "2022-05-18T20:24:09.636065Z"
    }
   },
   "outputs": [
    {
     "data": {
      "text/plain": [
       "0.7"
      ]
     },
     "execution_count": 19,
     "metadata": {},
     "output_type": "execute_result"
    }
   ],
   "source": [
    "df_train[df_train['Fare'] >= 200]['Survived'].mean()"
   ]
  },
  {
   "cell_type": "code",
   "execution_count": 20,
   "id": "188fc6e1",
   "metadata": {
    "ExecuteTime": {
     "end_time": "2022-05-18T20:24:09.699100Z",
     "start_time": "2022-05-18T20:24:09.653061Z"
    }
   },
   "outputs": [
    {
     "data": {
      "text/html": [
       "<div>\n",
       "<style scoped>\n",
       "    .dataframe tbody tr th:only-of-type {\n",
       "        vertical-align: middle;\n",
       "    }\n",
       "\n",
       "    .dataframe tbody tr th {\n",
       "        vertical-align: top;\n",
       "    }\n",
       "\n",
       "    .dataframe thead th {\n",
       "        text-align: right;\n",
       "    }\n",
       "</style>\n",
       "<table border=\"1\" class=\"dataframe\">\n",
       "  <thead>\n",
       "    <tr style=\"text-align: right;\">\n",
       "      <th></th>\n",
       "      <th>Pclass</th>\n",
       "      <th>Sex</th>\n",
       "      <th>Age</th>\n",
       "      <th>SibSp</th>\n",
       "      <th>Parch</th>\n",
       "      <th>Fare</th>\n",
       "      <th>Survived</th>\n",
       "    </tr>\n",
       "  </thead>\n",
       "  <tbody>\n",
       "    <tr>\n",
       "      <th>count</th>\n",
       "      <td>891.000000</td>\n",
       "      <td>891.000000</td>\n",
       "      <td>714.000000</td>\n",
       "      <td>891.000000</td>\n",
       "      <td>891.000000</td>\n",
       "      <td>891.000000</td>\n",
       "      <td>891.000000</td>\n",
       "    </tr>\n",
       "    <tr>\n",
       "      <th>mean</th>\n",
       "      <td>2.308642</td>\n",
       "      <td>0.352413</td>\n",
       "      <td>29.699118</td>\n",
       "      <td>0.523008</td>\n",
       "      <td>0.381594</td>\n",
       "      <td>32.204208</td>\n",
       "      <td>0.383838</td>\n",
       "    </tr>\n",
       "    <tr>\n",
       "      <th>std</th>\n",
       "      <td>0.836071</td>\n",
       "      <td>0.477990</td>\n",
       "      <td>14.526497</td>\n",
       "      <td>1.102743</td>\n",
       "      <td>0.806057</td>\n",
       "      <td>49.693429</td>\n",
       "      <td>0.486592</td>\n",
       "    </tr>\n",
       "    <tr>\n",
       "      <th>min</th>\n",
       "      <td>1.000000</td>\n",
       "      <td>0.000000</td>\n",
       "      <td>0.420000</td>\n",
       "      <td>0.000000</td>\n",
       "      <td>0.000000</td>\n",
       "      <td>0.000000</td>\n",
       "      <td>0.000000</td>\n",
       "    </tr>\n",
       "    <tr>\n",
       "      <th>25%</th>\n",
       "      <td>2.000000</td>\n",
       "      <td>0.000000</td>\n",
       "      <td>20.125000</td>\n",
       "      <td>0.000000</td>\n",
       "      <td>0.000000</td>\n",
       "      <td>7.910400</td>\n",
       "      <td>0.000000</td>\n",
       "    </tr>\n",
       "    <tr>\n",
       "      <th>50%</th>\n",
       "      <td>3.000000</td>\n",
       "      <td>0.000000</td>\n",
       "      <td>28.000000</td>\n",
       "      <td>0.000000</td>\n",
       "      <td>0.000000</td>\n",
       "      <td>14.454200</td>\n",
       "      <td>0.000000</td>\n",
       "    </tr>\n",
       "    <tr>\n",
       "      <th>75%</th>\n",
       "      <td>3.000000</td>\n",
       "      <td>1.000000</td>\n",
       "      <td>38.000000</td>\n",
       "      <td>1.000000</td>\n",
       "      <td>0.000000</td>\n",
       "      <td>31.000000</td>\n",
       "      <td>1.000000</td>\n",
       "    </tr>\n",
       "    <tr>\n",
       "      <th>max</th>\n",
       "      <td>3.000000</td>\n",
       "      <td>1.000000</td>\n",
       "      <td>80.000000</td>\n",
       "      <td>8.000000</td>\n",
       "      <td>6.000000</td>\n",
       "      <td>512.329200</td>\n",
       "      <td>1.000000</td>\n",
       "    </tr>\n",
       "  </tbody>\n",
       "</table>\n",
       "</div>"
      ],
      "text/plain": [
       "           Pclass         Sex         Age       SibSp       Parch        Fare  \\\n",
       "count  891.000000  891.000000  714.000000  891.000000  891.000000  891.000000   \n",
       "mean     2.308642    0.352413   29.699118    0.523008    0.381594   32.204208   \n",
       "std      0.836071    0.477990   14.526497    1.102743    0.806057   49.693429   \n",
       "min      1.000000    0.000000    0.420000    0.000000    0.000000    0.000000   \n",
       "25%      2.000000    0.000000   20.125000    0.000000    0.000000    7.910400   \n",
       "50%      3.000000    0.000000   28.000000    0.000000    0.000000   14.454200   \n",
       "75%      3.000000    1.000000   38.000000    1.000000    0.000000   31.000000   \n",
       "max      3.000000    1.000000   80.000000    8.000000    6.000000  512.329200   \n",
       "\n",
       "         Survived  \n",
       "count  891.000000  \n",
       "mean     0.383838  \n",
       "std      0.486592  \n",
       "min      0.000000  \n",
       "25%      0.000000  \n",
       "50%      0.000000  \n",
       "75%      1.000000  \n",
       "max      1.000000  "
      ]
     },
     "execution_count": 20,
     "metadata": {},
     "output_type": "execute_result"
    }
   ],
   "source": [
    "df_train.select_dtypes('number').describe()"
   ]
  },
  {
   "cell_type": "code",
   "execution_count": 21,
   "id": "81caaa09",
   "metadata": {
    "ExecuteTime": {
     "end_time": "2022-05-18T20:24:09.731103Z",
     "start_time": "2022-05-18T20:24:09.701061Z"
    }
   },
   "outputs": [
    {
     "data": {
      "text/html": [
       "<div>\n",
       "<style scoped>\n",
       "    .dataframe tbody tr th:only-of-type {\n",
       "        vertical-align: middle;\n",
       "    }\n",
       "\n",
       "    .dataframe tbody tr th {\n",
       "        vertical-align: top;\n",
       "    }\n",
       "\n",
       "    .dataframe thead th {\n",
       "        text-align: right;\n",
       "    }\n",
       "</style>\n",
       "<table border=\"1\" class=\"dataframe\">\n",
       "  <thead>\n",
       "    <tr style=\"text-align: right;\">\n",
       "      <th></th>\n",
       "      <th>Pclass</th>\n",
       "      <th>Name</th>\n",
       "      <th>Sex</th>\n",
       "      <th>Age</th>\n",
       "      <th>SibSp</th>\n",
       "      <th>Parch</th>\n",
       "      <th>Ticket</th>\n",
       "      <th>Fare</th>\n",
       "      <th>Cabin</th>\n",
       "      <th>Embarked</th>\n",
       "      <th>Survived</th>\n",
       "    </tr>\n",
       "    <tr>\n",
       "      <th>PassengerId</th>\n",
       "      <th></th>\n",
       "      <th></th>\n",
       "      <th></th>\n",
       "      <th></th>\n",
       "      <th></th>\n",
       "      <th></th>\n",
       "      <th></th>\n",
       "      <th></th>\n",
       "      <th></th>\n",
       "      <th></th>\n",
       "      <th></th>\n",
       "    </tr>\n",
       "  </thead>\n",
       "  <tbody>\n",
       "    <tr>\n",
       "      <th>28</th>\n",
       "      <td>1</td>\n",
       "      <td>Fortune, Mr. Charles Alexander</td>\n",
       "      <td>0</td>\n",
       "      <td>19.0</td>\n",
       "      <td>3</td>\n",
       "      <td>2</td>\n",
       "      <td>19950</td>\n",
       "      <td>263.0</td>\n",
       "      <td>C23 C25 C27</td>\n",
       "      <td>S</td>\n",
       "      <td>0</td>\n",
       "    </tr>\n",
       "    <tr>\n",
       "      <th>89</th>\n",
       "      <td>1</td>\n",
       "      <td>Fortune, Miss. Mabel Helen</td>\n",
       "      <td>1</td>\n",
       "      <td>23.0</td>\n",
       "      <td>3</td>\n",
       "      <td>2</td>\n",
       "      <td>19950</td>\n",
       "      <td>263.0</td>\n",
       "      <td>C23 C25 C27</td>\n",
       "      <td>S</td>\n",
       "      <td>1</td>\n",
       "    </tr>\n",
       "    <tr>\n",
       "      <th>342</th>\n",
       "      <td>1</td>\n",
       "      <td>Fortune, Miss. Alice Elizabeth</td>\n",
       "      <td>1</td>\n",
       "      <td>24.0</td>\n",
       "      <td>3</td>\n",
       "      <td>2</td>\n",
       "      <td>19950</td>\n",
       "      <td>263.0</td>\n",
       "      <td>C23 C25 C27</td>\n",
       "      <td>S</td>\n",
       "      <td>1</td>\n",
       "    </tr>\n",
       "    <tr>\n",
       "      <th>439</th>\n",
       "      <td>1</td>\n",
       "      <td>Fortune, Mr. Mark</td>\n",
       "      <td>0</td>\n",
       "      <td>64.0</td>\n",
       "      <td>1</td>\n",
       "      <td>4</td>\n",
       "      <td>19950</td>\n",
       "      <td>263.0</td>\n",
       "      <td>C23 C25 C27</td>\n",
       "      <td>S</td>\n",
       "      <td>0</td>\n",
       "    </tr>\n",
       "  </tbody>\n",
       "</table>\n",
       "</div>"
      ],
      "text/plain": [
       "             Pclass                            Name  Sex   Age  SibSp  Parch  \\\n",
       "PassengerId                                                                    \n",
       "28                1  Fortune, Mr. Charles Alexander    0  19.0      3      2   \n",
       "89                1      Fortune, Miss. Mabel Helen    1  23.0      3      2   \n",
       "342               1  Fortune, Miss. Alice Elizabeth    1  24.0      3      2   \n",
       "439               1               Fortune, Mr. Mark    0  64.0      1      4   \n",
       "\n",
       "            Ticket   Fare        Cabin Embarked  Survived  \n",
       "PassengerId                                                \n",
       "28           19950  263.0  C23 C25 C27        S         0  \n",
       "89           19950  263.0  C23 C25 C27        S         1  \n",
       "342          19950  263.0  C23 C25 C27        S         1  \n",
       "439          19950  263.0  C23 C25 C27        S         0  "
      ]
     },
     "execution_count": 21,
     "metadata": {},
     "output_type": "execute_result"
    }
   ],
   "source": [
    "df_train[df_train['Name'].str.startswith('Fortune')]"
   ]
  },
  {
   "cell_type": "code",
   "execution_count": 5,
   "id": "5efc103e",
   "metadata": {
    "ExecuteTime": {
     "end_time": "2022-06-06T16:36:34.291818Z",
     "start_time": "2022-06-06T16:36:34.228830Z"
    }
   },
   "outputs": [
    {
     "data": {
      "text/plain": [
       "False"
      ]
     },
     "execution_count": 5,
     "metadata": {},
     "output_type": "execute_result"
    }
   ],
   "source": [
    "any(df_train.apply(lambda x: (x.Name.split()[1] in ('Miss.', 'Mrs.') and x.Sex == 0) or\n",
    "               (x.Name.split()[1] in ('Mr.', 'Master.') and x.Sex == 1), axis=1))"
   ]
  },
  {
   "cell_type": "code",
   "execution_count": 12,
   "id": "b52334cc",
   "metadata": {
    "ExecuteTime": {
     "end_time": "2022-06-07T13:49:12.794463Z",
     "start_time": "2022-06-07T13:49:12.782466Z"
    }
   },
   "outputs": [],
   "source": [
    "df_mean_surv = df_train.groupby('Ticket').mean()['Survived'] \\\n",
    ".to_frame().rename(columns={'Survived': 'Mean_survived'})"
   ]
  },
  {
   "cell_type": "code",
   "execution_count": 13,
   "id": "81ff8d51",
   "metadata": {
    "ExecuteTime": {
     "end_time": "2022-06-07T13:49:13.139467Z",
     "start_time": "2022-06-07T13:49:13.112477Z"
    }
   },
   "outputs": [
    {
     "data": {
      "text/html": [
       "<div>\n",
       "<style scoped>\n",
       "    .dataframe tbody tr th:only-of-type {\n",
       "        vertical-align: middle;\n",
       "    }\n",
       "\n",
       "    .dataframe tbody tr th {\n",
       "        vertical-align: top;\n",
       "    }\n",
       "\n",
       "    .dataframe thead th {\n",
       "        text-align: right;\n",
       "    }\n",
       "</style>\n",
       "<table border=\"1\" class=\"dataframe\">\n",
       "  <thead>\n",
       "    <tr style=\"text-align: right;\">\n",
       "      <th></th>\n",
       "      <th>Mean_survived</th>\n",
       "    </tr>\n",
       "    <tr>\n",
       "      <th>Ticket</th>\n",
       "      <th></th>\n",
       "    </tr>\n",
       "  </thead>\n",
       "  <tbody>\n",
       "    <tr>\n",
       "      <th>110152</th>\n",
       "      <td>1.000000</td>\n",
       "    </tr>\n",
       "    <tr>\n",
       "      <th>110413</th>\n",
       "      <td>0.666667</td>\n",
       "    </tr>\n",
       "    <tr>\n",
       "      <th>110465</th>\n",
       "      <td>0.000000</td>\n",
       "    </tr>\n",
       "    <tr>\n",
       "      <th>110564</th>\n",
       "      <td>1.000000</td>\n",
       "    </tr>\n",
       "    <tr>\n",
       "      <th>110813</th>\n",
       "      <td>1.000000</td>\n",
       "    </tr>\n",
       "    <tr>\n",
       "      <th>...</th>\n",
       "      <td>...</td>\n",
       "    </tr>\n",
       "    <tr>\n",
       "      <th>W./C. 6608</th>\n",
       "      <td>0.000000</td>\n",
       "    </tr>\n",
       "    <tr>\n",
       "      <th>W./C. 6609</th>\n",
       "      <td>0.000000</td>\n",
       "    </tr>\n",
       "    <tr>\n",
       "      <th>W.E.P. 5734</th>\n",
       "      <td>0.000000</td>\n",
       "    </tr>\n",
       "    <tr>\n",
       "      <th>W/C 14208</th>\n",
       "      <td>0.000000</td>\n",
       "    </tr>\n",
       "    <tr>\n",
       "      <th>WE/P 5735</th>\n",
       "      <td>0.500000</td>\n",
       "    </tr>\n",
       "  </tbody>\n",
       "</table>\n",
       "<p>681 rows × 1 columns</p>\n",
       "</div>"
      ],
      "text/plain": [
       "             Mean_survived\n",
       "Ticket                    \n",
       "110152            1.000000\n",
       "110413            0.666667\n",
       "110465            0.000000\n",
       "110564            1.000000\n",
       "110813            1.000000\n",
       "...                    ...\n",
       "W./C. 6608        0.000000\n",
       "W./C. 6609        0.000000\n",
       "W.E.P. 5734       0.000000\n",
       "W/C 14208         0.000000\n",
       "WE/P 5735         0.500000\n",
       "\n",
       "[681 rows x 1 columns]"
      ]
     },
     "execution_count": 13,
     "metadata": {},
     "output_type": "execute_result"
    }
   ],
   "source": [
    "df_mean_surv"
   ]
  },
  {
   "cell_type": "code",
   "execution_count": 14,
   "id": "c4e0f0d2",
   "metadata": {
    "ExecuteTime": {
     "end_time": "2022-06-07T13:49:14.869846Z",
     "start_time": "2022-06-07T13:49:14.853848Z"
    }
   },
   "outputs": [],
   "source": [
    "df_train = df_train.join(df_mean_surv, on='Ticket', how='inner', lsuffix='', rsuffix='_j')\n",
    "df_train.sort_index(inplace=True)"
   ]
  },
  {
   "cell_type": "code",
   "execution_count": 15,
   "id": "3b470984",
   "metadata": {
    "ExecuteTime": {
     "end_time": "2022-06-07T13:49:16.311525Z",
     "start_time": "2022-06-07T13:49:16.268524Z"
    }
   },
   "outputs": [
    {
     "data": {
      "text/html": [
       "<div>\n",
       "<style scoped>\n",
       "    .dataframe tbody tr th:only-of-type {\n",
       "        vertical-align: middle;\n",
       "    }\n",
       "\n",
       "    .dataframe tbody tr th {\n",
       "        vertical-align: top;\n",
       "    }\n",
       "\n",
       "    .dataframe thead th {\n",
       "        text-align: right;\n",
       "    }\n",
       "</style>\n",
       "<table border=\"1\" class=\"dataframe\">\n",
       "  <thead>\n",
       "    <tr style=\"text-align: right;\">\n",
       "      <th></th>\n",
       "      <th>Pclass</th>\n",
       "      <th>Name</th>\n",
       "      <th>Sex</th>\n",
       "      <th>Age</th>\n",
       "      <th>SibSp</th>\n",
       "      <th>Parch</th>\n",
       "      <th>Ticket</th>\n",
       "      <th>Fare</th>\n",
       "      <th>Cabin</th>\n",
       "      <th>Embarked</th>\n",
       "      <th>Survived</th>\n",
       "      <th>Mean_survived</th>\n",
       "    </tr>\n",
       "    <tr>\n",
       "      <th>PassengerId</th>\n",
       "      <th></th>\n",
       "      <th></th>\n",
       "      <th></th>\n",
       "      <th></th>\n",
       "      <th></th>\n",
       "      <th></th>\n",
       "      <th></th>\n",
       "      <th></th>\n",
       "      <th></th>\n",
       "      <th></th>\n",
       "      <th></th>\n",
       "      <th></th>\n",
       "    </tr>\n",
       "  </thead>\n",
       "  <tbody>\n",
       "    <tr>\n",
       "      <th>1</th>\n",
       "      <td>3</td>\n",
       "      <td>Braund, Mr. Owen Harris</td>\n",
       "      <td>0</td>\n",
       "      <td>22.0</td>\n",
       "      <td>1</td>\n",
       "      <td>0</td>\n",
       "      <td>A/5 21171</td>\n",
       "      <td>7.2500</td>\n",
       "      <td>NaN</td>\n",
       "      <td>S</td>\n",
       "      <td>0</td>\n",
       "      <td>0.0</td>\n",
       "    </tr>\n",
       "    <tr>\n",
       "      <th>2</th>\n",
       "      <td>1</td>\n",
       "      <td>Cumings, Mrs. John Bradley (Florence Briggs Th...</td>\n",
       "      <td>1</td>\n",
       "      <td>38.0</td>\n",
       "      <td>1</td>\n",
       "      <td>0</td>\n",
       "      <td>PC 17599</td>\n",
       "      <td>71.2833</td>\n",
       "      <td>C85</td>\n",
       "      <td>C</td>\n",
       "      <td>1</td>\n",
       "      <td>1.0</td>\n",
       "    </tr>\n",
       "    <tr>\n",
       "      <th>3</th>\n",
       "      <td>3</td>\n",
       "      <td>Heikkinen, Miss. Laina</td>\n",
       "      <td>1</td>\n",
       "      <td>26.0</td>\n",
       "      <td>0</td>\n",
       "      <td>0</td>\n",
       "      <td>STON/O2. 3101282</td>\n",
       "      <td>7.9250</td>\n",
       "      <td>NaN</td>\n",
       "      <td>S</td>\n",
       "      <td>1</td>\n",
       "      <td>1.0</td>\n",
       "    </tr>\n",
       "    <tr>\n",
       "      <th>5</th>\n",
       "      <td>3</td>\n",
       "      <td>Allen, Mr. William Henry</td>\n",
       "      <td>0</td>\n",
       "      <td>35.0</td>\n",
       "      <td>0</td>\n",
       "      <td>0</td>\n",
       "      <td>373450</td>\n",
       "      <td>8.0500</td>\n",
       "      <td>NaN</td>\n",
       "      <td>S</td>\n",
       "      <td>0</td>\n",
       "      <td>0.0</td>\n",
       "    </tr>\n",
       "    <tr>\n",
       "      <th>6</th>\n",
       "      <td>3</td>\n",
       "      <td>Moran, Mr. James</td>\n",
       "      <td>0</td>\n",
       "      <td>NaN</td>\n",
       "      <td>0</td>\n",
       "      <td>0</td>\n",
       "      <td>330877</td>\n",
       "      <td>8.4583</td>\n",
       "      <td>NaN</td>\n",
       "      <td>Q</td>\n",
       "      <td>0</td>\n",
       "      <td>0.0</td>\n",
       "    </tr>\n",
       "    <tr>\n",
       "      <th>...</th>\n",
       "      <td>...</td>\n",
       "      <td>...</td>\n",
       "      <td>...</td>\n",
       "      <td>...</td>\n",
       "      <td>...</td>\n",
       "      <td>...</td>\n",
       "      <td>...</td>\n",
       "      <td>...</td>\n",
       "      <td>...</td>\n",
       "      <td>...</td>\n",
       "      <td>...</td>\n",
       "      <td>...</td>\n",
       "    </tr>\n",
       "    <tr>\n",
       "      <th>887</th>\n",
       "      <td>2</td>\n",
       "      <td>Montvila, Rev. Juozas</td>\n",
       "      <td>0</td>\n",
       "      <td>27.0</td>\n",
       "      <td>0</td>\n",
       "      <td>0</td>\n",
       "      <td>211536</td>\n",
       "      <td>13.0000</td>\n",
       "      <td>NaN</td>\n",
       "      <td>S</td>\n",
       "      <td>0</td>\n",
       "      <td>0.0</td>\n",
       "    </tr>\n",
       "    <tr>\n",
       "      <th>888</th>\n",
       "      <td>1</td>\n",
       "      <td>Graham, Miss. Margaret Edith</td>\n",
       "      <td>1</td>\n",
       "      <td>19.0</td>\n",
       "      <td>0</td>\n",
       "      <td>0</td>\n",
       "      <td>112053</td>\n",
       "      <td>30.0000</td>\n",
       "      <td>B42</td>\n",
       "      <td>S</td>\n",
       "      <td>1</td>\n",
       "      <td>1.0</td>\n",
       "    </tr>\n",
       "    <tr>\n",
       "      <th>889</th>\n",
       "      <td>3</td>\n",
       "      <td>Johnston, Miss. Catherine Helen \"Carrie\"</td>\n",
       "      <td>1</td>\n",
       "      <td>NaN</td>\n",
       "      <td>1</td>\n",
       "      <td>2</td>\n",
       "      <td>W./C. 6607</td>\n",
       "      <td>23.4500</td>\n",
       "      <td>NaN</td>\n",
       "      <td>S</td>\n",
       "      <td>0</td>\n",
       "      <td>0.0</td>\n",
       "    </tr>\n",
       "    <tr>\n",
       "      <th>890</th>\n",
       "      <td>1</td>\n",
       "      <td>Behr, Mr. Karl Howell</td>\n",
       "      <td>0</td>\n",
       "      <td>26.0</td>\n",
       "      <td>0</td>\n",
       "      <td>0</td>\n",
       "      <td>111369</td>\n",
       "      <td>30.0000</td>\n",
       "      <td>C148</td>\n",
       "      <td>C</td>\n",
       "      <td>1</td>\n",
       "      <td>1.0</td>\n",
       "    </tr>\n",
       "    <tr>\n",
       "      <th>891</th>\n",
       "      <td>3</td>\n",
       "      <td>Dooley, Mr. Patrick</td>\n",
       "      <td>0</td>\n",
       "      <td>32.0</td>\n",
       "      <td>0</td>\n",
       "      <td>0</td>\n",
       "      <td>370376</td>\n",
       "      <td>7.7500</td>\n",
       "      <td>NaN</td>\n",
       "      <td>Q</td>\n",
       "      <td>0</td>\n",
       "      <td>0.0</td>\n",
       "    </tr>\n",
       "  </tbody>\n",
       "</table>\n",
       "<p>764 rows × 12 columns</p>\n",
       "</div>"
      ],
      "text/plain": [
       "             Pclass                                               Name  Sex  \\\n",
       "PassengerId                                                                   \n",
       "1                 3                            Braund, Mr. Owen Harris    0   \n",
       "2                 1  Cumings, Mrs. John Bradley (Florence Briggs Th...    1   \n",
       "3                 3                             Heikkinen, Miss. Laina    1   \n",
       "5                 3                           Allen, Mr. William Henry    0   \n",
       "6                 3                                   Moran, Mr. James    0   \n",
       "...             ...                                                ...  ...   \n",
       "887               2                              Montvila, Rev. Juozas    0   \n",
       "888               1                       Graham, Miss. Margaret Edith    1   \n",
       "889               3           Johnston, Miss. Catherine Helen \"Carrie\"    1   \n",
       "890               1                              Behr, Mr. Karl Howell    0   \n",
       "891               3                                Dooley, Mr. Patrick    0   \n",
       "\n",
       "              Age  SibSp  Parch            Ticket     Fare Cabin Embarked  \\\n",
       "PassengerId                                                                 \n",
       "1            22.0      1      0         A/5 21171   7.2500   NaN        S   \n",
       "2            38.0      1      0          PC 17599  71.2833   C85        C   \n",
       "3            26.0      0      0  STON/O2. 3101282   7.9250   NaN        S   \n",
       "5            35.0      0      0            373450   8.0500   NaN        S   \n",
       "6             NaN      0      0            330877   8.4583   NaN        Q   \n",
       "...           ...    ...    ...               ...      ...   ...      ...   \n",
       "887          27.0      0      0            211536  13.0000   NaN        S   \n",
       "888          19.0      0      0            112053  30.0000   B42        S   \n",
       "889           NaN      1      2        W./C. 6607  23.4500   NaN        S   \n",
       "890          26.0      0      0            111369  30.0000  C148        C   \n",
       "891          32.0      0      0            370376   7.7500   NaN        Q   \n",
       "\n",
       "             Survived  Mean_survived  \n",
       "PassengerId                           \n",
       "1                   0            0.0  \n",
       "2                   1            1.0  \n",
       "3                   1            1.0  \n",
       "5                   0            0.0  \n",
       "6                   0            0.0  \n",
       "...               ...            ...  \n",
       "887                 0            0.0  \n",
       "888                 1            1.0  \n",
       "889                 0            0.0  \n",
       "890                 1            1.0  \n",
       "891                 0            0.0  \n",
       "\n",
       "[764 rows x 12 columns]"
      ]
     },
     "execution_count": 15,
     "metadata": {},
     "output_type": "execute_result"
    }
   ],
   "source": [
    "df_train[df_train['Survived'] == df_train['Mean_survived']]"
   ]
  },
  {
   "cell_type": "code",
   "execution_count": 14,
   "id": "8393e1c0",
   "metadata": {
    "ExecuteTime": {
     "end_time": "2022-06-07T08:52:49.447012Z",
     "start_time": "2022-06-07T08:52:49.433007Z"
    }
   },
   "outputs": [],
   "source": [
    "# s = df_train[df_train['Name'].str.contains('Miss', regex=False)]['Age'].isna()\n",
    "# df_train.loc[s[s].index]"
   ]
  },
  {
   "cell_type": "code",
   "execution_count": 16,
   "id": "649b0169",
   "metadata": {
    "ExecuteTime": {
     "end_time": "2022-06-07T13:49:18.647895Z",
     "start_time": "2022-06-07T13:49:18.636861Z"
    }
   },
   "outputs": [],
   "source": [
    "male_kids_mean = round(df_train[(df_train['Age'] <= 13) \n",
    "                          & (df_train['Sex'] == 0)]['Age'].mean(), 1)\n",
    "male_adult_mean = round(df_train[(df_train['Age'] > 13)\n",
    "                          & (df_train['Sex'] == 0)]['Age'].mean(), 1)\n",
    "fem_kids_mean = round(df_train[(df_train['Age'] <= 13) \n",
    "                          & (df_train['Sex'] == 1)]['Age'].mean(), 1)\n",
    "fem_adult_mean = round(df_train[(df_train['Age'] > 13)\n",
    "                          & (df_train['Sex'] == 1)]['Age'].mean(), 1)"
   ]
  },
  {
   "cell_type": "code",
   "execution_count": 17,
   "id": "2ae33085",
   "metadata": {
    "ExecuteTime": {
     "end_time": "2022-06-07T13:49:19.193557Z",
     "start_time": "2022-06-07T13:49:19.181520Z"
    }
   },
   "outputs": [],
   "source": [
    "df = df_train.copy()"
   ]
  },
  {
   "cell_type": "code",
   "execution_count": 18,
   "id": "bc8f0f33",
   "metadata": {
    "ExecuteTime": {
     "end_time": "2022-06-07T13:49:20.778835Z",
     "start_time": "2022-06-07T13:49:20.757838Z"
    },
    "scrolled": true
   },
   "outputs": [],
   "source": [
    "q1 = df_train[(df_train['Age'].isna()) & (df_train['Sex'] == 0)]['Name'].str.contains('Master', regex=False)\n",
    "df.loc[q1[q1].index, ['Age']] = male_kids_mean\n",
    "q2 = df_train[(df_train['Age'] .isna()) & (df_train['Sex'] == 0)]['Name'].str.contains('Mr.', regex=False)\n",
    "df.loc[q2[q2].index, ['Age']] = male_adult_mean"
   ]
  },
  {
   "cell_type": "code",
   "execution_count": 19,
   "id": "ee4dcb49",
   "metadata": {
    "ExecuteTime": {
     "end_time": "2022-06-07T13:49:22.086147Z",
     "start_time": "2022-06-07T13:49:22.068117Z"
    }
   },
   "outputs": [],
   "source": [
    "q3 = df_train[(df_train['Age'].isna()) & (df_train['Sex'] == 1)]['Name'].str.contains('Miss.', regex=False)\n",
    "df.loc[q3[q3].index, ['Age']] = fem_kids_mean\n",
    "q4 = df_train[(df_train['Age'] .isna()) & (df_train['Sex'] == 1)]['Name'].str.contains('Mrs.', regex=False)\n",
    "df.loc[q4[q4].index, ['Age']] = fem_adult_mean"
   ]
  },
  {
   "cell_type": "code",
   "execution_count": 20,
   "id": "326ada2c",
   "metadata": {
    "ExecuteTime": {
     "end_time": "2022-06-07T13:49:23.523279Z",
     "start_time": "2022-06-07T13:49:23.504282Z"
    }
   },
   "outputs": [
    {
     "data": {
      "text/plain": [
       "Pclass             0\n",
       "Name               0\n",
       "Sex                0\n",
       "Age                0\n",
       "SibSp              0\n",
       "Parch              0\n",
       "Ticket             0\n",
       "Fare               0\n",
       "Cabin            687\n",
       "Embarked           0\n",
       "Survived           0\n",
       "Mean_survived      0\n",
       "dtype: int64"
      ]
     },
     "execution_count": 20,
     "metadata": {},
     "output_type": "execute_result"
    }
   ],
   "source": [
    "df.loc[767, ['Age']] = male_adult_mean\n",
    "df.isna().sum()"
   ]
  },
  {
   "cell_type": "code",
   "execution_count": 21,
   "id": "d237a236",
   "metadata": {
    "ExecuteTime": {
     "end_time": "2022-06-07T13:49:25.536458Z",
     "start_time": "2022-06-07T13:49:25.529495Z"
    }
   },
   "outputs": [],
   "source": [
    "df = df.reset_index().drop(columns='PassengerId')"
   ]
  },
  {
   "cell_type": "code",
   "execution_count": 22,
   "id": "151bf645",
   "metadata": {
    "ExecuteTime": {
     "end_time": "2022-06-07T13:49:26.694857Z",
     "start_time": "2022-06-07T13:49:26.671834Z"
    }
   },
   "outputs": [],
   "source": [
    "# df['Name'].str.split(', ')\n",
    "df['Title'] = df['Name'].apply(lambda x: x.split(', ')[1].split()[0])"
   ]
  },
  {
   "cell_type": "code",
   "execution_count": 23,
   "id": "85f26510",
   "metadata": {
    "ExecuteTime": {
     "end_time": "2022-06-07T13:49:27.056167Z",
     "start_time": "2022-06-07T13:49:27.042126Z"
    }
   },
   "outputs": [
    {
     "data": {
      "text/plain": [
       "Mr.          517\n",
       "Miss.        182\n",
       "Mrs.         125\n",
       "Master.       40\n",
       "Dr.            7\n",
       "Rev.           6\n",
       "Mlle.          2\n",
       "Major.         2\n",
       "Col.           2\n",
       "the            1\n",
       "Capt.          1\n",
       "Ms.            1\n",
       "Sir.           1\n",
       "Lady.          1\n",
       "Mme.           1\n",
       "Don.           1\n",
       "Jonkheer.      1\n",
       "Name: Title, dtype: int64"
      ]
     },
     "execution_count": 23,
     "metadata": {},
     "output_type": "execute_result"
    }
   ],
   "source": [
    "df['Title'].value_counts()"
   ]
  },
  {
   "cell_type": "code",
   "execution_count": 24,
   "id": "00118278",
   "metadata": {
    "ExecuteTime": {
     "end_time": "2022-06-07T13:49:28.911648Z",
     "start_time": "2022-06-07T13:49:28.849652Z"
    }
   },
   "outputs": [
    {
     "data": {
      "text/html": [
       "<div>\n",
       "<style scoped>\n",
       "    .dataframe tbody tr th:only-of-type {\n",
       "        vertical-align: middle;\n",
       "    }\n",
       "\n",
       "    .dataframe tbody tr th {\n",
       "        vertical-align: top;\n",
       "    }\n",
       "\n",
       "    .dataframe thead th {\n",
       "        text-align: right;\n",
       "    }\n",
       "</style>\n",
       "<table border=\"1\" class=\"dataframe\">\n",
       "  <thead>\n",
       "    <tr style=\"text-align: right;\">\n",
       "      <th></th>\n",
       "      <th>Pclass</th>\n",
       "      <th>Name</th>\n",
       "      <th>Sex</th>\n",
       "      <th>Age</th>\n",
       "      <th>SibSp</th>\n",
       "      <th>Parch</th>\n",
       "      <th>Ticket</th>\n",
       "      <th>Fare</th>\n",
       "      <th>Cabin</th>\n",
       "      <th>Embarked</th>\n",
       "      <th>Survived</th>\n",
       "      <th>Mean_survived</th>\n",
       "      <th>Title</th>\n",
       "    </tr>\n",
       "  </thead>\n",
       "  <tbody>\n",
       "    <tr>\n",
       "      <th>0</th>\n",
       "      <td>3</td>\n",
       "      <td>Braund, Mr. Owen Harris</td>\n",
       "      <td>0</td>\n",
       "      <td>22.0</td>\n",
       "      <td>1</td>\n",
       "      <td>0</td>\n",
       "      <td>A/5 21171</td>\n",
       "      <td>7.2500</td>\n",
       "      <td>NaN</td>\n",
       "      <td>S</td>\n",
       "      <td>0</td>\n",
       "      <td>0.0</td>\n",
       "      <td>Mr.</td>\n",
       "    </tr>\n",
       "    <tr>\n",
       "      <th>1</th>\n",
       "      <td>1</td>\n",
       "      <td>Cumings, Mrs. John Bradley (Florence Briggs Th...</td>\n",
       "      <td>1</td>\n",
       "      <td>38.0</td>\n",
       "      <td>1</td>\n",
       "      <td>0</td>\n",
       "      <td>PC 17599</td>\n",
       "      <td>71.2833</td>\n",
       "      <td>C85</td>\n",
       "      <td>C</td>\n",
       "      <td>1</td>\n",
       "      <td>1.0</td>\n",
       "      <td>Mrs.</td>\n",
       "    </tr>\n",
       "    <tr>\n",
       "      <th>2</th>\n",
       "      <td>3</td>\n",
       "      <td>Heikkinen, Miss. Laina</td>\n",
       "      <td>1</td>\n",
       "      <td>26.0</td>\n",
       "      <td>0</td>\n",
       "      <td>0</td>\n",
       "      <td>STON/O2. 3101282</td>\n",
       "      <td>7.9250</td>\n",
       "      <td>NaN</td>\n",
       "      <td>S</td>\n",
       "      <td>1</td>\n",
       "      <td>1.0</td>\n",
       "      <td>Miss.</td>\n",
       "    </tr>\n",
       "    <tr>\n",
       "      <th>3</th>\n",
       "      <td>1</td>\n",
       "      <td>Futrelle, Mrs. Jacques Heath (Lily May Peel)</td>\n",
       "      <td>1</td>\n",
       "      <td>35.0</td>\n",
       "      <td>1</td>\n",
       "      <td>0</td>\n",
       "      <td>113803</td>\n",
       "      <td>53.1000</td>\n",
       "      <td>C123</td>\n",
       "      <td>S</td>\n",
       "      <td>1</td>\n",
       "      <td>0.5</td>\n",
       "      <td>Mrs.</td>\n",
       "    </tr>\n",
       "    <tr>\n",
       "      <th>4</th>\n",
       "      <td>3</td>\n",
       "      <td>Allen, Mr. William Henry</td>\n",
       "      <td>0</td>\n",
       "      <td>35.0</td>\n",
       "      <td>0</td>\n",
       "      <td>0</td>\n",
       "      <td>373450</td>\n",
       "      <td>8.0500</td>\n",
       "      <td>NaN</td>\n",
       "      <td>S</td>\n",
       "      <td>0</td>\n",
       "      <td>0.0</td>\n",
       "      <td>Mr.</td>\n",
       "    </tr>\n",
       "    <tr>\n",
       "      <th>...</th>\n",
       "      <td>...</td>\n",
       "      <td>...</td>\n",
       "      <td>...</td>\n",
       "      <td>...</td>\n",
       "      <td>...</td>\n",
       "      <td>...</td>\n",
       "      <td>...</td>\n",
       "      <td>...</td>\n",
       "      <td>...</td>\n",
       "      <td>...</td>\n",
       "      <td>...</td>\n",
       "      <td>...</td>\n",
       "      <td>...</td>\n",
       "    </tr>\n",
       "    <tr>\n",
       "      <th>886</th>\n",
       "      <td>2</td>\n",
       "      <td>Montvila, Rev. Juozas</td>\n",
       "      <td>0</td>\n",
       "      <td>27.0</td>\n",
       "      <td>0</td>\n",
       "      <td>0</td>\n",
       "      <td>211536</td>\n",
       "      <td>13.0000</td>\n",
       "      <td>NaN</td>\n",
       "      <td>S</td>\n",
       "      <td>0</td>\n",
       "      <td>0.0</td>\n",
       "      <td>other</td>\n",
       "    </tr>\n",
       "    <tr>\n",
       "      <th>887</th>\n",
       "      <td>1</td>\n",
       "      <td>Graham, Miss. Margaret Edith</td>\n",
       "      <td>1</td>\n",
       "      <td>19.0</td>\n",
       "      <td>0</td>\n",
       "      <td>0</td>\n",
       "      <td>112053</td>\n",
       "      <td>30.0000</td>\n",
       "      <td>B42</td>\n",
       "      <td>S</td>\n",
       "      <td>1</td>\n",
       "      <td>1.0</td>\n",
       "      <td>Miss.</td>\n",
       "    </tr>\n",
       "    <tr>\n",
       "      <th>888</th>\n",
       "      <td>3</td>\n",
       "      <td>Johnston, Miss. Catherine Helen \"Carrie\"</td>\n",
       "      <td>1</td>\n",
       "      <td>5.3</td>\n",
       "      <td>1</td>\n",
       "      <td>2</td>\n",
       "      <td>W./C. 6607</td>\n",
       "      <td>23.4500</td>\n",
       "      <td>NaN</td>\n",
       "      <td>S</td>\n",
       "      <td>0</td>\n",
       "      <td>0.0</td>\n",
       "      <td>Miss.</td>\n",
       "    </tr>\n",
       "    <tr>\n",
       "      <th>889</th>\n",
       "      <td>1</td>\n",
       "      <td>Behr, Mr. Karl Howell</td>\n",
       "      <td>0</td>\n",
       "      <td>26.0</td>\n",
       "      <td>0</td>\n",
       "      <td>0</td>\n",
       "      <td>111369</td>\n",
       "      <td>30.0000</td>\n",
       "      <td>C148</td>\n",
       "      <td>C</td>\n",
       "      <td>1</td>\n",
       "      <td>1.0</td>\n",
       "      <td>Mr.</td>\n",
       "    </tr>\n",
       "    <tr>\n",
       "      <th>890</th>\n",
       "      <td>3</td>\n",
       "      <td>Dooley, Mr. Patrick</td>\n",
       "      <td>0</td>\n",
       "      <td>32.0</td>\n",
       "      <td>0</td>\n",
       "      <td>0</td>\n",
       "      <td>370376</td>\n",
       "      <td>7.7500</td>\n",
       "      <td>NaN</td>\n",
       "      <td>Q</td>\n",
       "      <td>0</td>\n",
       "      <td>0.0</td>\n",
       "      <td>Mr.</td>\n",
       "    </tr>\n",
       "  </tbody>\n",
       "</table>\n",
       "<p>891 rows × 13 columns</p>\n",
       "</div>"
      ],
      "text/plain": [
       "     Pclass                                               Name  Sex   Age  \\\n",
       "0         3                            Braund, Mr. Owen Harris    0  22.0   \n",
       "1         1  Cumings, Mrs. John Bradley (Florence Briggs Th...    1  38.0   \n",
       "2         3                             Heikkinen, Miss. Laina    1  26.0   \n",
       "3         1       Futrelle, Mrs. Jacques Heath (Lily May Peel)    1  35.0   \n",
       "4         3                           Allen, Mr. William Henry    0  35.0   \n",
       "..      ...                                                ...  ...   ...   \n",
       "886       2                              Montvila, Rev. Juozas    0  27.0   \n",
       "887       1                       Graham, Miss. Margaret Edith    1  19.0   \n",
       "888       3           Johnston, Miss. Catherine Helen \"Carrie\"    1   5.3   \n",
       "889       1                              Behr, Mr. Karl Howell    0  26.0   \n",
       "890       3                                Dooley, Mr. Patrick    0  32.0   \n",
       "\n",
       "     SibSp  Parch            Ticket     Fare Cabin Embarked  Survived  \\\n",
       "0        1      0         A/5 21171   7.2500   NaN        S         0   \n",
       "1        1      0          PC 17599  71.2833   C85        C         1   \n",
       "2        0      0  STON/O2. 3101282   7.9250   NaN        S         1   \n",
       "3        1      0            113803  53.1000  C123        S         1   \n",
       "4        0      0            373450   8.0500   NaN        S         0   \n",
       "..     ...    ...               ...      ...   ...      ...       ...   \n",
       "886      0      0            211536  13.0000   NaN        S         0   \n",
       "887      0      0            112053  30.0000   B42        S         1   \n",
       "888      1      2        W./C. 6607  23.4500   NaN        S         0   \n",
       "889      0      0            111369  30.0000  C148        C         1   \n",
       "890      0      0            370376   7.7500   NaN        Q         0   \n",
       "\n",
       "     Mean_survived  Title  \n",
       "0              0.0    Mr.  \n",
       "1              1.0   Mrs.  \n",
       "2              1.0  Miss.  \n",
       "3              0.5   Mrs.  \n",
       "4              0.0    Mr.  \n",
       "..             ...    ...  \n",
       "886            0.0  other  \n",
       "887            1.0  Miss.  \n",
       "888            0.0  Miss.  \n",
       "889            1.0    Mr.  \n",
       "890            0.0    Mr.  \n",
       "\n",
       "[891 rows x 13 columns]"
      ]
     },
     "execution_count": 24,
     "metadata": {},
     "output_type": "execute_result"
    }
   ],
   "source": [
    "value_cnt = df['Title'].value_counts()\n",
    "df['Title'] = df['Title'].apply(lambda x: x if value_cnt.loc[x] > 10 else 'other')\n",
    "df"
   ]
  },
  {
   "cell_type": "code",
   "execution_count": 25,
   "id": "41f0d175",
   "metadata": {
    "ExecuteTime": {
     "end_time": "2022-06-07T13:49:30.372832Z",
     "start_time": "2022-06-07T13:49:30.347835Z"
    }
   },
   "outputs": [
    {
     "data": {
      "text/plain": [
       "Pclass             0\n",
       "Name               0\n",
       "Sex                0\n",
       "Age                0\n",
       "SibSp              0\n",
       "Parch              0\n",
       "Ticket             0\n",
       "Fare               0\n",
       "Cabin            687\n",
       "Embarked           0\n",
       "Survived           0\n",
       "Mean_survived      0\n",
       "Title              0\n",
       "dtype: int64"
      ]
     },
     "execution_count": 25,
     "metadata": {},
     "output_type": "execute_result"
    }
   ],
   "source": [
    "df.isna().sum()"
   ]
  },
  {
   "cell_type": "code",
   "execution_count": 26,
   "id": "bf8ccf90",
   "metadata": {
    "ExecuteTime": {
     "end_time": "2022-06-07T13:49:31.383822Z",
     "start_time": "2022-06-07T13:49:31.361784Z"
    }
   },
   "outputs": [
    {
     "data": {
      "text/plain": [
       "Mr.          517\n",
       "Miss.        182\n",
       "Mrs.         125\n",
       "Master.       40\n",
       "Dr.            7\n",
       "Rev.           6\n",
       "Mlle.          2\n",
       "Major.         2\n",
       "Col.           2\n",
       "the            1\n",
       "Capt.          1\n",
       "Ms.            1\n",
       "Sir.           1\n",
       "Lady.          1\n",
       "Mme.           1\n",
       "Don.           1\n",
       "Jonkheer.      1\n",
       "Dona.          0\n",
       "dtype: int64"
      ]
     },
     "execution_count": 26,
     "metadata": {},
     "output_type": "execute_result"
    }
   ],
   "source": [
    "# df_test[df_test['Name'].str.contains('Dona')]\n",
    "value_cnt = value_cnt.append(pd.Series([0], index=['Dona.']))\n",
    "value_cnt"
   ]
  },
  {
   "cell_type": "code",
   "execution_count": 27,
   "id": "53936da1",
   "metadata": {
    "ExecuteTime": {
     "end_time": "2022-06-07T13:49:34.285676Z",
     "start_time": "2022-06-07T13:49:34.238674Z"
    }
   },
   "outputs": [
    {
     "data": {
      "text/html": [
       "<div>\n",
       "<style scoped>\n",
       "    .dataframe tbody tr th:only-of-type {\n",
       "        vertical-align: middle;\n",
       "    }\n",
       "\n",
       "    .dataframe tbody tr th {\n",
       "        vertical-align: top;\n",
       "    }\n",
       "\n",
       "    .dataframe thead th {\n",
       "        text-align: right;\n",
       "    }\n",
       "</style>\n",
       "<table border=\"1\" class=\"dataframe\">\n",
       "  <thead>\n",
       "    <tr style=\"text-align: right;\">\n",
       "      <th></th>\n",
       "      <th>PassengerId</th>\n",
       "      <th>Pclass</th>\n",
       "      <th>Name</th>\n",
       "      <th>Sex</th>\n",
       "      <th>Age</th>\n",
       "      <th>SibSp</th>\n",
       "      <th>Parch</th>\n",
       "      <th>Ticket</th>\n",
       "      <th>Fare</th>\n",
       "      <th>Cabin</th>\n",
       "      <th>Embarked</th>\n",
       "      <th>Title</th>\n",
       "    </tr>\n",
       "  </thead>\n",
       "  <tbody>\n",
       "    <tr>\n",
       "      <th>0</th>\n",
       "      <td>892</td>\n",
       "      <td>3</td>\n",
       "      <td>Kelly, Mr. James</td>\n",
       "      <td>male</td>\n",
       "      <td>34.5</td>\n",
       "      <td>0</td>\n",
       "      <td>0</td>\n",
       "      <td>330911</td>\n",
       "      <td>7.8292</td>\n",
       "      <td>NaN</td>\n",
       "      <td>Q</td>\n",
       "      <td>Mr.</td>\n",
       "    </tr>\n",
       "    <tr>\n",
       "      <th>1</th>\n",
       "      <td>893</td>\n",
       "      <td>3</td>\n",
       "      <td>Wilkes, Mrs. James (Ellen Needs)</td>\n",
       "      <td>female</td>\n",
       "      <td>47.0</td>\n",
       "      <td>1</td>\n",
       "      <td>0</td>\n",
       "      <td>363272</td>\n",
       "      <td>7.0000</td>\n",
       "      <td>NaN</td>\n",
       "      <td>S</td>\n",
       "      <td>Mrs.</td>\n",
       "    </tr>\n",
       "    <tr>\n",
       "      <th>2</th>\n",
       "      <td>894</td>\n",
       "      <td>2</td>\n",
       "      <td>Myles, Mr. Thomas Francis</td>\n",
       "      <td>male</td>\n",
       "      <td>62.0</td>\n",
       "      <td>0</td>\n",
       "      <td>0</td>\n",
       "      <td>240276</td>\n",
       "      <td>9.6875</td>\n",
       "      <td>NaN</td>\n",
       "      <td>Q</td>\n",
       "      <td>Mr.</td>\n",
       "    </tr>\n",
       "    <tr>\n",
       "      <th>3</th>\n",
       "      <td>895</td>\n",
       "      <td>3</td>\n",
       "      <td>Wirz, Mr. Albert</td>\n",
       "      <td>male</td>\n",
       "      <td>27.0</td>\n",
       "      <td>0</td>\n",
       "      <td>0</td>\n",
       "      <td>315154</td>\n",
       "      <td>8.6625</td>\n",
       "      <td>NaN</td>\n",
       "      <td>S</td>\n",
       "      <td>Mr.</td>\n",
       "    </tr>\n",
       "    <tr>\n",
       "      <th>4</th>\n",
       "      <td>896</td>\n",
       "      <td>3</td>\n",
       "      <td>Hirvonen, Mrs. Alexander (Helga E Lindqvist)</td>\n",
       "      <td>female</td>\n",
       "      <td>22.0</td>\n",
       "      <td>1</td>\n",
       "      <td>1</td>\n",
       "      <td>3101298</td>\n",
       "      <td>12.2875</td>\n",
       "      <td>NaN</td>\n",
       "      <td>S</td>\n",
       "      <td>Mrs.</td>\n",
       "    </tr>\n",
       "    <tr>\n",
       "      <th>...</th>\n",
       "      <td>...</td>\n",
       "      <td>...</td>\n",
       "      <td>...</td>\n",
       "      <td>...</td>\n",
       "      <td>...</td>\n",
       "      <td>...</td>\n",
       "      <td>...</td>\n",
       "      <td>...</td>\n",
       "      <td>...</td>\n",
       "      <td>...</td>\n",
       "      <td>...</td>\n",
       "      <td>...</td>\n",
       "    </tr>\n",
       "    <tr>\n",
       "      <th>413</th>\n",
       "      <td>1305</td>\n",
       "      <td>3</td>\n",
       "      <td>Spector, Mr. Woolf</td>\n",
       "      <td>male</td>\n",
       "      <td>NaN</td>\n",
       "      <td>0</td>\n",
       "      <td>0</td>\n",
       "      <td>A.5. 3236</td>\n",
       "      <td>8.0500</td>\n",
       "      <td>NaN</td>\n",
       "      <td>S</td>\n",
       "      <td>Mr.</td>\n",
       "    </tr>\n",
       "    <tr>\n",
       "      <th>414</th>\n",
       "      <td>1306</td>\n",
       "      <td>1</td>\n",
       "      <td>Oliva y Ocana, Dona. Fermina</td>\n",
       "      <td>female</td>\n",
       "      <td>39.0</td>\n",
       "      <td>0</td>\n",
       "      <td>0</td>\n",
       "      <td>PC 17758</td>\n",
       "      <td>108.9000</td>\n",
       "      <td>C105</td>\n",
       "      <td>C</td>\n",
       "      <td>other</td>\n",
       "    </tr>\n",
       "    <tr>\n",
       "      <th>415</th>\n",
       "      <td>1307</td>\n",
       "      <td>3</td>\n",
       "      <td>Saether, Mr. Simon Sivertsen</td>\n",
       "      <td>male</td>\n",
       "      <td>38.5</td>\n",
       "      <td>0</td>\n",
       "      <td>0</td>\n",
       "      <td>SOTON/O.Q. 3101262</td>\n",
       "      <td>7.2500</td>\n",
       "      <td>NaN</td>\n",
       "      <td>S</td>\n",
       "      <td>Mr.</td>\n",
       "    </tr>\n",
       "    <tr>\n",
       "      <th>416</th>\n",
       "      <td>1308</td>\n",
       "      <td>3</td>\n",
       "      <td>Ware, Mr. Frederick</td>\n",
       "      <td>male</td>\n",
       "      <td>NaN</td>\n",
       "      <td>0</td>\n",
       "      <td>0</td>\n",
       "      <td>359309</td>\n",
       "      <td>8.0500</td>\n",
       "      <td>NaN</td>\n",
       "      <td>S</td>\n",
       "      <td>Mr.</td>\n",
       "    </tr>\n",
       "    <tr>\n",
       "      <th>417</th>\n",
       "      <td>1309</td>\n",
       "      <td>3</td>\n",
       "      <td>Peter, Master. Michael J</td>\n",
       "      <td>male</td>\n",
       "      <td>NaN</td>\n",
       "      <td>1</td>\n",
       "      <td>1</td>\n",
       "      <td>2668</td>\n",
       "      <td>22.3583</td>\n",
       "      <td>NaN</td>\n",
       "      <td>C</td>\n",
       "      <td>Master.</td>\n",
       "    </tr>\n",
       "  </tbody>\n",
       "</table>\n",
       "<p>418 rows × 12 columns</p>\n",
       "</div>"
      ],
      "text/plain": [
       "     PassengerId  Pclass                                          Name  \\\n",
       "0            892       3                              Kelly, Mr. James   \n",
       "1            893       3              Wilkes, Mrs. James (Ellen Needs)   \n",
       "2            894       2                     Myles, Mr. Thomas Francis   \n",
       "3            895       3                              Wirz, Mr. Albert   \n",
       "4            896       3  Hirvonen, Mrs. Alexander (Helga E Lindqvist)   \n",
       "..           ...     ...                                           ...   \n",
       "413         1305       3                            Spector, Mr. Woolf   \n",
       "414         1306       1                  Oliva y Ocana, Dona. Fermina   \n",
       "415         1307       3                  Saether, Mr. Simon Sivertsen   \n",
       "416         1308       3                           Ware, Mr. Frederick   \n",
       "417         1309       3                      Peter, Master. Michael J   \n",
       "\n",
       "        Sex   Age  SibSp  Parch              Ticket      Fare Cabin Embarked  \\\n",
       "0      male  34.5      0      0              330911    7.8292   NaN        Q   \n",
       "1    female  47.0      1      0              363272    7.0000   NaN        S   \n",
       "2      male  62.0      0      0              240276    9.6875   NaN        Q   \n",
       "3      male  27.0      0      0              315154    8.6625   NaN        S   \n",
       "4    female  22.0      1      1             3101298   12.2875   NaN        S   \n",
       "..      ...   ...    ...    ...                 ...       ...   ...      ...   \n",
       "413    male   NaN      0      0           A.5. 3236    8.0500   NaN        S   \n",
       "414  female  39.0      0      0            PC 17758  108.9000  C105        C   \n",
       "415    male  38.5      0      0  SOTON/O.Q. 3101262    7.2500   NaN        S   \n",
       "416    male   NaN      0      0              359309    8.0500   NaN        S   \n",
       "417    male   NaN      1      1                2668   22.3583   NaN        C   \n",
       "\n",
       "       Title  \n",
       "0        Mr.  \n",
       "1       Mrs.  \n",
       "2        Mr.  \n",
       "3        Mr.  \n",
       "4       Mrs.  \n",
       "..       ...  \n",
       "413      Mr.  \n",
       "414    other  \n",
       "415      Mr.  \n",
       "416      Mr.  \n",
       "417  Master.  \n",
       "\n",
       "[418 rows x 12 columns]"
      ]
     },
     "execution_count": 27,
     "metadata": {},
     "output_type": "execute_result"
    }
   ],
   "source": [
    "df_test['Title'] = df_test['Name'].apply(lambda x: x.split(', ')[1].split()[0])\n",
    "df_test['Title'] = df_test['Title'].apply(lambda x: \n",
    "                                          x if value_cnt.loc[x] > 10 else 'other')\n",
    "df_test"
   ]
  },
  {
   "cell_type": "markdown",
   "id": "c77f5958",
   "metadata": {},
   "source": [
    "# Train-validation split"
   ]
  },
  {
   "cell_type": "code",
   "execution_count": 28,
   "id": "d24ebdbb",
   "metadata": {
    "ExecuteTime": {
     "end_time": "2022-06-07T13:49:42.188329Z",
     "start_time": "2022-06-07T13:49:41.459325Z"
    }
   },
   "outputs": [],
   "source": [
    "from sklearn.model_selection import train_test_split\n",
    "features = ['Pclass', 'Sex', 'Age', 'SibSp', \n",
    "            'Parch', 'Fare', 'Embarked', 'Ticket', 'Title'] # added ticket\n",
    "X = df[features] #.drop(columns=features)\n",
    "y = df['Survived']"
   ]
  },
  {
   "cell_type": "code",
   "execution_count": 29,
   "id": "80161c3e",
   "metadata": {
    "ExecuteTime": {
     "end_time": "2022-06-07T13:49:42.769322Z",
     "start_time": "2022-06-07T13:49:42.758316Z"
    }
   },
   "outputs": [],
   "source": [
    "X_train, X_val, y_train, y_val = train_test_split(\n",
    "    X, y, test_size=0.3, random_state=42)"
   ]
  },
  {
   "cell_type": "code",
   "execution_count": 30,
   "id": "5c6dc5a4",
   "metadata": {
    "ExecuteTime": {
     "end_time": "2022-06-07T13:49:43.128388Z",
     "start_time": "2022-06-07T13:49:43.114422Z"
    }
   },
   "outputs": [
    {
     "data": {
      "text/plain": [
       "['Embarked', 'Ticket', 'Title', 'Sex', 'Pclass', 'Parch', 'SibSp']"
      ]
     },
     "execution_count": 30,
     "metadata": {},
     "output_type": "execute_result"
    }
   ],
   "source": [
    "list(X_train.select_dtypes([object]).columns) + list(set(X_train.select_dtypes([np.number]).columns) - {'Age', 'Fare'})"
   ]
  },
  {
   "cell_type": "code",
   "execution_count": 31,
   "id": "386c2cf1",
   "metadata": {
    "ExecuteTime": {
     "end_time": "2022-06-07T13:49:44.851374Z",
     "start_time": "2022-06-07T13:49:44.823377Z"
    }
   },
   "outputs": [],
   "source": [
    "from sklearn.preprocessing import OneHotEncoder\n",
    "from sklearn.preprocessing import StandardScaler\n",
    "from sklearn.compose import ColumnTransformer\n",
    "\n",
    "# numeric_features = X_train.select_dtypes([np.number]).columns\n",
    "# categorical = X_train.select_dtypes([object]).columns\n",
    "\n",
    "numeric_features = ['Age', 'Fare']\n",
    "categorical = list(X_train.select_dtypes([object]).columns) + \\\n",
    "                list(set(X_train.select_dtypes([np.number]).columns) - {'Age', 'Fare'})\n",
    "\n",
    "column_transformer = ColumnTransformer([\n",
    "    ('ohe', OneHotEncoder(sparse=False, handle_unknown=\"ignore\"), categorical),\n",
    "    ('scaling', StandardScaler(), numeric_features)\n",
    "])"
   ]
  },
  {
   "cell_type": "markdown",
   "id": "528be297",
   "metadata": {},
   "source": [
    "# SVM"
   ]
  },
  {
   "cell_type": "code",
   "execution_count": 32,
   "id": "f61e85ac",
   "metadata": {
    "ExecuteTime": {
     "end_time": "2022-06-07T13:49:46.285064Z",
     "start_time": "2022-06-07T13:49:46.114052Z"
    }
   },
   "outputs": [
    {
     "name": "stdout",
     "output_type": "stream",
     "text": [
      "AUC-PR для дефолтного SVM (с линейным ядром) = 0.86\n",
      "Accuracy для дефолтного SVM (с линейным ядром) = 0.79\n"
     ]
    }
   ],
   "source": [
    "from sklearn.svm import SVC\n",
    "from sklearn.svm import LinearSVC\n",
    "from sklearn.linear_model import LogisticRegression\n",
    "from sklearn import metrics\n",
    "from sklearn.pipeline import Pipeline\n",
    "from sklearn.preprocessing import StandardScaler\n",
    "\n",
    "pipeline = Pipeline(steps=[\n",
    "     ('transf', column_transformer),\n",
    "     ('SVM', SVC(C=0.01, kernel='linear'))\n",
    " ])\n",
    "\n",
    "pipeline.fit(X_train, y_train)\n",
    "y_pred = pipeline.predict(X_val)\n",
    "\n",
    "a = pipeline.decision_function(X_val)\n",
    "P = (a - a.min())/(a.max() - a.min())\n",
    "\n",
    "precision, recall, thresholds = metrics.precision_recall_curve(y_val, P)\n",
    "auc_pr = metrics.auc(recall, precision)\n",
    "acc = metrics.accuracy_score(y_val, y_pred)\n",
    "print('AUC-PR для дефолтного SVM (с линейным ядром) = {:.2f}'.format(auc_pr))\n",
    "print('Accuracy для дефолтного SVM (с линейным ядром) = {:.2f}'.format(acc))"
   ]
  },
  {
   "cell_type": "code",
   "execution_count": 33,
   "id": "f051c3c7",
   "metadata": {
    "ExecuteTime": {
     "end_time": "2022-06-07T13:49:49.165408Z",
     "start_time": "2022-06-07T13:49:49.153403Z"
    }
   },
   "outputs": [
    {
     "data": {
      "text/plain": [
       "array([[0., 0., 1.],\n",
       "       [0., 0., 1.],\n",
       "       [0., 0., 1.],\n",
       "       ...,\n",
       "       [0., 0., 1.],\n",
       "       [0., 0., 1.],\n",
       "       [0., 0., 1.]])"
      ]
     },
     "execution_count": 33,
     "metadata": {},
     "output_type": "execute_result"
    }
   ],
   "source": [
    "ohe = OneHotEncoder(sparse=False, handle_unknown=\"ignore\")\n",
    "ohe.fit_transform(X_train['Embarked'].to_numpy().reshape(-1, 1))"
   ]
  },
  {
   "cell_type": "code",
   "execution_count": 34,
   "id": "7bafbc35",
   "metadata": {
    "ExecuteTime": {
     "end_time": "2022-06-07T13:49:49.446759Z",
     "start_time": "2022-06-07T13:49:49.422758Z"
    }
   },
   "outputs": [],
   "source": [
    "X_train_transf = column_transformer.fit_transform(X_train)"
   ]
  },
  {
   "cell_type": "code",
   "execution_count": 35,
   "id": "6242a699",
   "metadata": {
    "ExecuteTime": {
     "end_time": "2022-06-07T13:49:49.773890Z",
     "start_time": "2022-06-07T13:49:49.756847Z"
    }
   },
   "outputs": [
    {
     "name": "stdout",
     "output_type": "stream",
     "text": [
      "amount of features before transf: 9\n",
      "amount of features after transf: 524\n"
     ]
    }
   ],
   "source": [
    "print('amount of features before transf:', X_train.shape[1])\n",
    "print('amount of features after transf:', X_train_transf.shape[1])"
   ]
  },
  {
   "cell_type": "markdown",
   "id": "d84cda99",
   "metadata": {},
   "source": [
    "## GridSearch for SVM"
   ]
  },
  {
   "cell_type": "code",
   "execution_count": 38,
   "id": "c643bea3",
   "metadata": {
    "ExecuteTime": {
     "end_time": "2022-06-07T13:50:46.834188Z",
     "start_time": "2022-06-07T13:50:29.966153Z"
    }
   },
   "outputs": [
    {
     "name": "stdout",
     "output_type": "stream",
     "text": [
      "Best C = 0.7000\n",
      "Best Accuracy = 0.8411\n"
     ]
    }
   ],
   "source": [
    "from sklearn.model_selection import GridSearchCV\n",
    "\n",
    "c_set = np.linspace(0.15, 0.8, 40)\n",
    "# c_set = np.logspace(2, -4, 50)\n",
    "searcher = GridSearchCV(SVC(kernel='linear'), [{\"C\": c_set}], \n",
    "                        scoring='accuracy', cv=10)\n",
    "\n",
    "searcher.fit(X_train_transf, y_train)\n",
    "\n",
    "best_c = searcher.best_params_[\"C\"]\n",
    "best_score = searcher.best_score_\n",
    "print(\"Best C = %.4f\" % best_c)\n",
    "print(\"Best Accuracy = %.4f\" % best_score)"
   ]
  },
  {
   "cell_type": "code",
   "execution_count": 39,
   "id": "5c33df8b",
   "metadata": {
    "ExecuteTime": {
     "end_time": "2022-06-07T13:50:47.356156Z",
     "start_time": "2022-06-07T13:50:46.836154Z"
    }
   },
   "outputs": [
    {
     "data": {
      "image/png": "[encoded data removed]",
      "text/plain": [
       "<Figure size 504x432 with 1 Axes>"
      ]
     },
     "metadata": {
      "image/png": {
       "height": 376,
       "width": 452
      }
     },
     "output_type": "display_data"
    }
   ],
   "source": [
    "plt.figure(figsize=(7, 6))\n",
    "plt.plot(c_set, searcher.cv_results_[\"mean_test_score\"])\n",
    "plt.xscale(\"log\")\n",
    "plt.xlabel(\"С\", fontsize=12)\n",
    "plt.ylabel(\"CV score (Accuracy)\", fontsize=12)\n",
    "plt.show()"
   ]
  },
  {
   "cell_type": "code",
   "execution_count": 40,
   "id": "a2008ef8",
   "metadata": {
    "ExecuteTime": {
     "end_time": "2022-06-07T13:50:56.143749Z",
     "start_time": "2022-06-07T13:50:56.044731Z"
    }
   },
   "outputs": [
    {
     "name": "stdout",
     "output_type": "stream",
     "text": [
      "CV based SVM accuracy = 0.84\n"
     ]
    }
   ],
   "source": [
    "X_val_transf = column_transformer.transform(X_val)\n",
    "svm_best = SVC(C=best_c, kernel='linear')\n",
    "svm_best.fit(X_train_transf, y_train)\n",
    "y_pred_best = svm_best.predict(X_val_transf)\n",
    "\n",
    "print('CV based SVM accuracy = {:.2f}'.format(metrics.accuracy_score(y_val, y_pred_best)))"
   ]
  },
  {
   "cell_type": "code",
   "execution_count": 41,
   "id": "ba047b20",
   "metadata": {
    "ExecuteTime": {
     "end_time": "2022-06-07T13:51:00.743810Z",
     "start_time": "2022-06-07T13:51:00.375812Z"
    }
   },
   "outputs": [
    {
     "name": "stdout",
     "output_type": "stream",
     "text": [
      "AUC-PR для SVM с C из кросс-валидации = 0.88782\n",
      "AUC-ROC для SVM с C из кросс-валидации = 0.90434\n"
     ]
    },
    {
     "data": {
      "image/png": "[encoded data removed]",
      "text/plain": [
       "<Figure size 864x432 with 2 Axes>"
      ]
     },
     "metadata": {
      "image/png": {
       "height": 385,
       "width": 718
      }
     },
     "output_type": "display_data"
    }
   ],
   "source": [
    "def roc_pr_plot(X_test, y_test, model):\n",
    "    a = model.decision_function(X_test)\n",
    "    P = (a - a.min())/(a.max() - a.min())\n",
    "\n",
    "    precision, recall, thresholds = metrics.precision_recall_curve(y_test, P)\n",
    "    fpr, tpr, thresholds = metrics.roc_curve(y_test, P)\n",
    "    print('AUC-PR для SVM с C из кросс-валидации = %.5f' % metrics.auc(recall, precision))\n",
    "    print('AUC-ROC для SVM с C из кросс-валидации = %.5f' % metrics.auc(fpr, tpr))\n",
    "\n",
    "\n",
    "    fig, ax = plt.subplots(1, 2, figsize=(12, 6))\n",
    "    ax[0].plot(fpr, tpr)\n",
    "    ax[0].set_xlabel('FPR')\n",
    "    ax[0].set_ylabel('TPR')\n",
    "    ax[0].set_title('ROC-curve')\n",
    "\n",
    "    ax[1].plot(recall, precision)\n",
    "    ax[1].set_xlabel('recall')\n",
    "    ax[1].set_ylabel('precision')\n",
    "    ax[1].set_title('PR-curve')\n",
    "    plt.show()\n",
    "    \n",
    "roc_pr_plot(X_val_transf, y_val, svm_best)"
   ]
  },
  {
   "cell_type": "markdown",
   "id": "7467cfe9",
   "metadata": {},
   "source": [
    "## preparing test dataset"
   ]
  },
  {
   "cell_type": "code",
   "execution_count": 42,
   "id": "63ee455d",
   "metadata": {
    "ExecuteTime": {
     "end_time": "2022-06-07T13:51:06.254698Z",
     "start_time": "2022-06-07T13:51:06.216699Z"
    }
   },
   "outputs": [
    {
     "name": "stdout",
     "output_type": "stream",
     "text": [
      "PassengerId      0\n",
      "Pclass           0\n",
      "Name             0\n",
      "Sex              0\n",
      "Age              0\n",
      "SibSp            0\n",
      "Parch            0\n",
      "Ticket           0\n",
      "Fare             0\n",
      "Cabin          327\n",
      "Embarked         0\n",
      "Title            0\n",
      "dtype: int64\n"
     ]
    }
   ],
   "source": [
    "prep(df_test)"
   ]
  },
  {
   "cell_type": "code",
   "execution_count": 33,
   "id": "5e0f3325",
   "metadata": {
    "ExecuteTime": {
     "end_time": "2022-06-06T16:41:25.044925Z",
     "start_time": "2022-06-06T16:41:25.031918Z"
    }
   },
   "outputs": [
    {
     "data": {
      "text/html": [
       "<div>\n",
       "<style scoped>\n",
       "    .dataframe tbody tr th:only-of-type {\n",
       "        vertical-align: middle;\n",
       "    }\n",
       "\n",
       "    .dataframe tbody tr th {\n",
       "        vertical-align: top;\n",
       "    }\n",
       "\n",
       "    .dataframe thead th {\n",
       "        text-align: right;\n",
       "    }\n",
       "</style>\n",
       "<table border=\"1\" class=\"dataframe\">\n",
       "  <thead>\n",
       "    <tr style=\"text-align: right;\">\n",
       "      <th></th>\n",
       "      <th>PassengerId</th>\n",
       "      <th>Pclass</th>\n",
       "      <th>Name</th>\n",
       "      <th>Sex</th>\n",
       "      <th>Age</th>\n",
       "      <th>SibSp</th>\n",
       "      <th>Parch</th>\n",
       "      <th>Ticket</th>\n",
       "      <th>Fare</th>\n",
       "      <th>Cabin</th>\n",
       "      <th>Embarked</th>\n",
       "    </tr>\n",
       "  </thead>\n",
       "  <tbody>\n",
       "  </tbody>\n",
       "</table>\n",
       "</div>"
      ],
      "text/plain": [
       "Empty DataFrame\n",
       "Columns: [PassengerId, Pclass, Name, Sex, Age, SibSp, Parch, Ticket, Fare, Cabin, Embarked]\n",
       "Index: []"
      ]
     },
     "execution_count": 33,
     "metadata": {},
     "output_type": "execute_result"
    }
   ],
   "source": [
    "df_test[df_test['Age'].isna()]"
   ]
  },
  {
   "cell_type": "code",
   "execution_count": 56,
   "id": "b3702643",
   "metadata": {
    "ExecuteTime": {
     "end_time": "2022-05-18T20:18:48.322257Z",
     "start_time": "2022-05-18T20:18:48.286298Z"
    }
   },
   "outputs": [
    {
     "data": {
      "text/html": [
       "<div>\n",
       "<style scoped>\n",
       "    .dataframe tbody tr th:only-of-type {\n",
       "        vertical-align: middle;\n",
       "    }\n",
       "\n",
       "    .dataframe tbody tr th {\n",
       "        vertical-align: top;\n",
       "    }\n",
       "\n",
       "    .dataframe thead th {\n",
       "        text-align: right;\n",
       "    }\n",
       "</style>\n",
       "<table border=\"1\" class=\"dataframe\">\n",
       "  <thead>\n",
       "    <tr style=\"text-align: right;\">\n",
       "      <th></th>\n",
       "      <th>PassengerId</th>\n",
       "      <th>Pclass</th>\n",
       "      <th>Name</th>\n",
       "      <th>Sex</th>\n",
       "      <th>Age</th>\n",
       "      <th>SibSp</th>\n",
       "      <th>Parch</th>\n",
       "      <th>Ticket</th>\n",
       "      <th>Fare</th>\n",
       "      <th>Cabin</th>\n",
       "      <th>Embarked</th>\n",
       "    </tr>\n",
       "  </thead>\n",
       "  <tbody>\n",
       "    <tr>\n",
       "      <th>152</th>\n",
       "      <td>1044</td>\n",
       "      <td>3</td>\n",
       "      <td>Storey, Mr. Thomas</td>\n",
       "      <td>0</td>\n",
       "      <td>60.5</td>\n",
       "      <td>0</td>\n",
       "      <td>0</td>\n",
       "      <td>3701</td>\n",
       "      <td>NaN</td>\n",
       "      <td>NaN</td>\n",
       "      <td>S</td>\n",
       "    </tr>\n",
       "  </tbody>\n",
       "</table>\n",
       "</div>"
      ],
      "text/plain": [
       "     PassengerId  Pclass                Name  Sex   Age  SibSp  Parch Ticket  \\\n",
       "152         1044       3  Storey, Mr. Thomas    0  60.5      0      0   3701   \n",
       "\n",
       "     Fare Cabin Embarked  \n",
       "152   NaN   NaN        S  "
      ]
     },
     "execution_count": 56,
     "metadata": {},
     "output_type": "execute_result"
    }
   ],
   "source": [
    "df_test[df_test['Fare'].isna()]"
   ]
  },
  {
   "cell_type": "markdown",
   "id": "007fe93e",
   "metadata": {},
   "source": [
    "## predicting for test data using SVM model"
   ]
  },
  {
   "cell_type": "code",
   "execution_count": 43,
   "id": "9d8bd78a",
   "metadata": {
    "ExecuteTime": {
     "end_time": "2022-06-07T13:51:13.933635Z",
     "start_time": "2022-06-07T13:51:13.909635Z"
    }
   },
   "outputs": [
    {
     "data": {
      "text/plain": [
       "array([[ 0.        ,  1.        ,  0.        , ...,  0.        ,\n",
       "         0.41103686, -0.47093987],\n",
       "       [ 0.        ,  0.        ,  1.        , ...,  0.        ,\n",
       "         1.30150543, -0.48720303],\n",
       "       [ 0.        ,  1.        ,  0.        , ...,  0.        ,\n",
       "         2.37006771, -0.4344929 ],\n",
       "       ...,\n",
       "       [ 0.        ,  0.        ,  1.        , ...,  0.        ,\n",
       "         0.6959868 , -0.48229976],\n",
       "       [ 0.        ,  0.        ,  1.        , ...,  0.        ,\n",
       "         0.24719064, -0.4666093 ],\n",
       "       [ 1.        ,  0.        ,  0.        , ...,  0.        ,\n",
       "        -1.54799399, -0.18597958]])"
      ]
     },
     "execution_count": 43,
     "metadata": {},
     "output_type": "execute_result"
    }
   ],
   "source": [
    "X_test = df_test[features]\n",
    "X_test_transf = column_transformer.transform(X_test)\n",
    "X_test_transf"
   ]
  },
  {
   "cell_type": "code",
   "execution_count": 44,
   "id": "788d7bb6",
   "metadata": {
    "ExecuteTime": {
     "end_time": "2022-06-07T13:51:31.316566Z",
     "start_time": "2022-06-07T13:51:31.283565Z"
    }
   },
   "outputs": [],
   "source": [
    "predictions = svm_best.predict(X_test_transf)\n",
    "output = pd.DataFrame({'PassengerId': df_test.PassengerId, 'Survived': predictions})\n",
    "output.to_csv('submission_svm.csv', index=False)"
   ]
  },
  {
   "cell_type": "code",
   "execution_count": 45,
   "id": "56d76234",
   "metadata": {
    "ExecuteTime": {
     "end_time": "2022-06-07T13:51:33.405622Z",
     "start_time": "2022-06-07T13:51:33.384623Z"
    }
   },
   "outputs": [
    {
     "data": {
      "text/html": [
       "<div>\n",
       "<style scoped>\n",
       "    .dataframe tbody tr th:only-of-type {\n",
       "        vertical-align: middle;\n",
       "    }\n",
       "\n",
       "    .dataframe tbody tr th {\n",
       "        vertical-align: top;\n",
       "    }\n",
       "\n",
       "    .dataframe thead th {\n",
       "        text-align: right;\n",
       "    }\n",
       "</style>\n",
       "<table border=\"1\" class=\"dataframe\">\n",
       "  <thead>\n",
       "    <tr style=\"text-align: right;\">\n",
       "      <th></th>\n",
       "      <th>PassengerId</th>\n",
       "      <th>Survived</th>\n",
       "    </tr>\n",
       "  </thead>\n",
       "  <tbody>\n",
       "    <tr>\n",
       "      <th>0</th>\n",
       "      <td>892</td>\n",
       "      <td>0</td>\n",
       "    </tr>\n",
       "    <tr>\n",
       "      <th>1</th>\n",
       "      <td>893</td>\n",
       "      <td>1</td>\n",
       "    </tr>\n",
       "    <tr>\n",
       "      <th>2</th>\n",
       "      <td>894</td>\n",
       "      <td>0</td>\n",
       "    </tr>\n",
       "    <tr>\n",
       "      <th>3</th>\n",
       "      <td>895</td>\n",
       "      <td>0</td>\n",
       "    </tr>\n",
       "    <tr>\n",
       "      <th>4</th>\n",
       "      <td>896</td>\n",
       "      <td>1</td>\n",
       "    </tr>\n",
       "    <tr>\n",
       "      <th>...</th>\n",
       "      <td>...</td>\n",
       "      <td>...</td>\n",
       "    </tr>\n",
       "    <tr>\n",
       "      <th>413</th>\n",
       "      <td>1305</td>\n",
       "      <td>0</td>\n",
       "    </tr>\n",
       "    <tr>\n",
       "      <th>414</th>\n",
       "      <td>1306</td>\n",
       "      <td>1</td>\n",
       "    </tr>\n",
       "    <tr>\n",
       "      <th>415</th>\n",
       "      <td>1307</td>\n",
       "      <td>0</td>\n",
       "    </tr>\n",
       "    <tr>\n",
       "      <th>416</th>\n",
       "      <td>1308</td>\n",
       "      <td>0</td>\n",
       "    </tr>\n",
       "    <tr>\n",
       "      <th>417</th>\n",
       "      <td>1309</td>\n",
       "      <td>1</td>\n",
       "    </tr>\n",
       "  </tbody>\n",
       "</table>\n",
       "<p>418 rows × 2 columns</p>\n",
       "</div>"
      ],
      "text/plain": [
       "     PassengerId  Survived\n",
       "0            892         0\n",
       "1            893         1\n",
       "2            894         0\n",
       "3            895         0\n",
       "4            896         1\n",
       "..           ...       ...\n",
       "413         1305         0\n",
       "414         1306         1\n",
       "415         1307         0\n",
       "416         1308         0\n",
       "417         1309         1\n",
       "\n",
       "[418 rows x 2 columns]"
      ]
     },
     "execution_count": 45,
     "metadata": {},
     "output_type": "execute_result"
    }
   ],
   "source": [
    "output"
   ]
  },
  {
   "cell_type": "markdown",
   "id": "af0d9570",
   "metadata": {},
   "source": [
    "# Decision Trees"
   ]
  },
  {
   "cell_type": "markdown",
   "id": "79fc6b66",
   "metadata": {},
   "source": [
    "## default stuff"
   ]
  },
  {
   "cell_type": "code",
   "execution_count": 46,
   "id": "2fbf5551",
   "metadata": {
    "ExecuteTime": {
     "end_time": "2022-06-07T13:51:39.222087Z",
     "start_time": "2022-06-07T13:51:39.148088Z"
    }
   },
   "outputs": [],
   "source": [
    "from sklearn.tree import DecisionTreeClassifier\n",
    "tree = DecisionTreeClassifier(random_state=42)"
   ]
  },
  {
   "cell_type": "code",
   "execution_count": 47,
   "id": "5eb89ad8",
   "metadata": {
    "ExecuteTime": {
     "end_time": "2022-06-07T13:51:39.641755Z",
     "start_time": "2022-06-07T13:51:39.602750Z"
    }
   },
   "outputs": [],
   "source": [
    "tree.fit(X_train_transf, y_train)\n",
    "y_pred = tree.predict(X_val_transf)"
   ]
  },
  {
   "cell_type": "code",
   "execution_count": 48,
   "id": "388468ad",
   "metadata": {
    "ExecuteTime": {
     "end_time": "2022-06-07T13:51:42.136498Z",
     "start_time": "2022-06-07T13:51:42.125460Z"
    }
   },
   "outputs": [
    {
     "name": "stdout",
     "output_type": "stream",
     "text": [
      "accuracy = 0.80224\n",
      "F1 score = 0.73096\n",
      "AUC-PR = 0.81792\n",
      "AUC-ROC = 0.78384\n"
     ]
    }
   ],
   "source": [
    "def print_metrics(model, y_val, X_val, y_pred):\n",
    "    print('accuracy = {:.5f}'.format(metrics.accuracy_score(y_val, y_pred)))\n",
    "    print('F1 score = {:.5f}'.format(metrics.f1_score(y_val, y_pred)))\n",
    "\n",
    "    precision, recall, thresholds = metrics.precision_recall_curve(y_val, \n",
    "                                                                   model.predict_proba(X_val)[:, 1])\n",
    "    fpr, tpr, thresholds = metrics.roc_curve(y_val, model.predict_proba(X_val)[:, 1])\n",
    "    print('AUC-PR = %.5f' % metrics.auc(recall, precision))\n",
    "    print('AUC-ROC = %.5f' % metrics.auc(fpr, tpr))\n",
    "\n",
    "print_metrics(tree, y_val, X_val_transf, y_pred)"
   ]
  },
  {
   "cell_type": "markdown",
   "id": "e4aa5653",
   "metadata": {},
   "source": [
    "## GridSearch for DT"
   ]
  },
  {
   "cell_type": "code",
   "execution_count": 66,
   "id": "0b663a67",
   "metadata": {
    "ExecuteTime": {
     "end_time": "2022-06-07T13:57:28.117905Z",
     "start_time": "2022-06-07T13:57:25.378865Z"
    }
   },
   "outputs": [
    {
     "name": "stdout",
     "output_type": "stream",
     "text": [
      "0.81701\n"
     ]
    }
   ],
   "source": [
    "def grid_search(model, X, y, params, scoring='accuracy', nfolds=5):    \n",
    "    #use gridsearch to test all values\n",
    "    gscv = GridSearchCV(model, params, scoring=scoring, cv=nfolds, n_jobs=-1)\n",
    "    #fit model to data\n",
    "    gscv.fit(X, y)\n",
    "    print('%.5f' % gscv.best_score_)\n",
    "    return gscv.best_params_\n",
    "\n",
    "param_grid = {'criterion':['gini', 'entropy'], \n",
    "              'max_depth': np.arange(1, 12), \n",
    "              'min_samples_leaf': np.arange(5, 19, 2)}\n",
    "tree = DecisionTreeClassifier(random_state=42)\n",
    "best_params_dtree = grid_search(tree, X_train_transf, y_train, param_grid)"
   ]
  },
  {
   "cell_type": "code",
   "execution_count": 67,
   "id": "0e9d3d7f",
   "metadata": {
    "ExecuteTime": {
     "end_time": "2022-06-07T13:57:29.764113Z",
     "start_time": "2022-06-07T13:57:29.749113Z"
    }
   },
   "outputs": [
    {
     "data": {
      "text/plain": [
       "{'criterion': 'gini', 'max_depth': 5, 'min_samples_leaf': 15}"
      ]
     },
     "execution_count": 67,
     "metadata": {},
     "output_type": "execute_result"
    }
   ],
   "source": [
    "best_params_dtree"
   ]
  },
  {
   "cell_type": "code",
   "execution_count": 68,
   "id": "f4d0599f",
   "metadata": {
    "ExecuteTime": {
     "end_time": "2022-06-07T13:57:32.338180Z",
     "start_time": "2022-06-07T13:57:32.309150Z"
    }
   },
   "outputs": [
    {
     "name": "stdout",
     "output_type": "stream",
     "text": [
      "accuracy = 0.81343\n",
      "F1 score = 0.75490\n",
      "AUC-PR = 0.81782\n",
      "AUC-ROC = 0.82848\n"
     ]
    }
   ],
   "source": [
    "best_tree = DecisionTreeClassifier(**{'criterion': 'gini', 'max_depth': 11, 'min_samples_leaf': 6}, \n",
    "                                   random_state=42)\n",
    "best_tree.fit(X_train_transf, y_train)\n",
    "y_pred = best_tree.predict(X_val_transf)\n",
    "\n",
    "print_metrics(best_tree, y_val, X_val_transf, y_pred)"
   ]
  },
  {
   "cell_type": "code",
   "execution_count": 51,
   "id": "641a4abe",
   "metadata": {
    "ExecuteTime": {
     "end_time": "2022-06-07T12:23:57.600602Z",
     "start_time": "2022-06-07T12:23:57.578564Z"
    }
   },
   "outputs": [],
   "source": [
    "predictions_tree = best_tree.predict(X_test_transf)\n",
    "output = pd.DataFrame({'PassengerId': df_test.PassengerId, 'Survived': predictions_tree})\n",
    "output.to_csv('submission.csv', index=False)"
   ]
  },
  {
   "cell_type": "markdown",
   "id": "71966230",
   "metadata": {},
   "source": [
    "## Dumb attempts with full train data and implementing MTE"
   ]
  },
  {
   "cell_type": "code",
   "execution_count": 69,
   "id": "bb48a24b",
   "metadata": {
    "ExecuteTime": {
     "end_time": "2022-06-07T13:57:45.269790Z",
     "start_time": "2022-06-07T13:57:40.848832Z"
    }
   },
   "outputs": [
    {
     "name": "stdout",
     "output_type": "stream",
     "text": [
      "0.82378\n"
     ]
    }
   ],
   "source": [
    "X_transf = column_transformer.transform(X)\n",
    "tree = DecisionTreeClassifier(random_state=42)\n",
    "best_params_full_train = grid_search(tree, X_transf, y, param_grid)"
   ]
  },
  {
   "cell_type": "code",
   "execution_count": 70,
   "id": "07c24faf",
   "metadata": {
    "ExecuteTime": {
     "end_time": "2022-06-07T13:57:49.656271Z",
     "start_time": "2022-06-07T13:57:49.613279Z"
    }
   },
   "outputs": [],
   "source": [
    "def mean_target_enc(X, columns, df=df):\n",
    "    X_copy = X.copy()\n",
    "    for c in columns:\n",
    "        d = df.groupby(c).mean()['Survived'].to_dict()\n",
    "        X_copy[c] = X_copy[c].apply(lambda x: d.get(x, 0.5))\n",
    "    return X_copy\n",
    "X_transf1 = mean_target_enc(X, categorical)"
   ]
  },
  {
   "cell_type": "code",
   "execution_count": 71,
   "id": "45d39345",
   "metadata": {
    "ExecuteTime": {
     "end_time": "2022-06-07T13:57:59.321869Z",
     "start_time": "2022-06-07T13:57:59.287874Z"
    }
   },
   "outputs": [
    {
     "data": {
      "text/html": [
       "<div>\n",
       "<style scoped>\n",
       "    .dataframe tbody tr th:only-of-type {\n",
       "        vertical-align: middle;\n",
       "    }\n",
       "\n",
       "    .dataframe tbody tr th {\n",
       "        vertical-align: top;\n",
       "    }\n",
       "\n",
       "    .dataframe thead th {\n",
       "        text-align: right;\n",
       "    }\n",
       "</style>\n",
       "<table border=\"1\" class=\"dataframe\">\n",
       "  <thead>\n",
       "    <tr style=\"text-align: right;\">\n",
       "      <th></th>\n",
       "      <th>Pclass</th>\n",
       "      <th>Sex</th>\n",
       "      <th>Age</th>\n",
       "      <th>SibSp</th>\n",
       "      <th>Parch</th>\n",
       "      <th>Fare</th>\n",
       "      <th>Embarked</th>\n",
       "      <th>Ticket</th>\n",
       "      <th>Title</th>\n",
       "    </tr>\n",
       "  </thead>\n",
       "  <tbody>\n",
       "    <tr>\n",
       "      <th>0</th>\n",
       "      <td>0.242363</td>\n",
       "      <td>0.188908</td>\n",
       "      <td>22.0</td>\n",
       "      <td>0.535885</td>\n",
       "      <td>0.343658</td>\n",
       "      <td>7.2500</td>\n",
       "      <td>0.339009</td>\n",
       "      <td>0.0</td>\n",
       "      <td>0.156673</td>\n",
       "    </tr>\n",
       "    <tr>\n",
       "      <th>1</th>\n",
       "      <td>0.629630</td>\n",
       "      <td>0.742038</td>\n",
       "      <td>38.0</td>\n",
       "      <td>0.535885</td>\n",
       "      <td>0.343658</td>\n",
       "      <td>71.2833</td>\n",
       "      <td>0.553571</td>\n",
       "      <td>1.0</td>\n",
       "      <td>0.792000</td>\n",
       "    </tr>\n",
       "    <tr>\n",
       "      <th>2</th>\n",
       "      <td>0.242363</td>\n",
       "      <td>0.742038</td>\n",
       "      <td>26.0</td>\n",
       "      <td>0.345395</td>\n",
       "      <td>0.343658</td>\n",
       "      <td>7.9250</td>\n",
       "      <td>0.339009</td>\n",
       "      <td>1.0</td>\n",
       "      <td>0.697802</td>\n",
       "    </tr>\n",
       "    <tr>\n",
       "      <th>3</th>\n",
       "      <td>0.629630</td>\n",
       "      <td>0.742038</td>\n",
       "      <td>35.0</td>\n",
       "      <td>0.535885</td>\n",
       "      <td>0.343658</td>\n",
       "      <td>53.1000</td>\n",
       "      <td>0.339009</td>\n",
       "      <td>0.5</td>\n",
       "      <td>0.792000</td>\n",
       "    </tr>\n",
       "    <tr>\n",
       "      <th>4</th>\n",
       "      <td>0.242363</td>\n",
       "      <td>0.188908</td>\n",
       "      <td>35.0</td>\n",
       "      <td>0.345395</td>\n",
       "      <td>0.343658</td>\n",
       "      <td>8.0500</td>\n",
       "      <td>0.339009</td>\n",
       "      <td>0.0</td>\n",
       "      <td>0.156673</td>\n",
       "    </tr>\n",
       "    <tr>\n",
       "      <th>...</th>\n",
       "      <td>...</td>\n",
       "      <td>...</td>\n",
       "      <td>...</td>\n",
       "      <td>...</td>\n",
       "      <td>...</td>\n",
       "      <td>...</td>\n",
       "      <td>...</td>\n",
       "      <td>...</td>\n",
       "      <td>...</td>\n",
       "    </tr>\n",
       "    <tr>\n",
       "      <th>886</th>\n",
       "      <td>0.472826</td>\n",
       "      <td>0.188908</td>\n",
       "      <td>27.0</td>\n",
       "      <td>0.345395</td>\n",
       "      <td>0.343658</td>\n",
       "      <td>13.0000</td>\n",
       "      <td>0.339009</td>\n",
       "      <td>0.0</td>\n",
       "      <td>0.444444</td>\n",
       "    </tr>\n",
       "    <tr>\n",
       "      <th>887</th>\n",
       "      <td>0.629630</td>\n",
       "      <td>0.742038</td>\n",
       "      <td>19.0</td>\n",
       "      <td>0.345395</td>\n",
       "      <td>0.343658</td>\n",
       "      <td>30.0000</td>\n",
       "      <td>0.339009</td>\n",
       "      <td>1.0</td>\n",
       "      <td>0.697802</td>\n",
       "    </tr>\n",
       "    <tr>\n",
       "      <th>888</th>\n",
       "      <td>0.242363</td>\n",
       "      <td>0.742038</td>\n",
       "      <td>5.3</td>\n",
       "      <td>0.535885</td>\n",
       "      <td>0.500000</td>\n",
       "      <td>23.4500</td>\n",
       "      <td>0.339009</td>\n",
       "      <td>0.0</td>\n",
       "      <td>0.697802</td>\n",
       "    </tr>\n",
       "    <tr>\n",
       "      <th>889</th>\n",
       "      <td>0.629630</td>\n",
       "      <td>0.188908</td>\n",
       "      <td>26.0</td>\n",
       "      <td>0.345395</td>\n",
       "      <td>0.343658</td>\n",
       "      <td>30.0000</td>\n",
       "      <td>0.553571</td>\n",
       "      <td>1.0</td>\n",
       "      <td>0.156673</td>\n",
       "    </tr>\n",
       "    <tr>\n",
       "      <th>890</th>\n",
       "      <td>0.242363</td>\n",
       "      <td>0.188908</td>\n",
       "      <td>32.0</td>\n",
       "      <td>0.345395</td>\n",
       "      <td>0.343658</td>\n",
       "      <td>7.7500</td>\n",
       "      <td>0.389610</td>\n",
       "      <td>0.0</td>\n",
       "      <td>0.156673</td>\n",
       "    </tr>\n",
       "  </tbody>\n",
       "</table>\n",
       "<p>891 rows × 9 columns</p>\n",
       "</div>"
      ],
      "text/plain": [
       "       Pclass       Sex   Age     SibSp     Parch     Fare  Embarked  Ticket  \\\n",
       "0    0.242363  0.188908  22.0  0.535885  0.343658   7.2500  0.339009     0.0   \n",
       "1    0.629630  0.742038  38.0  0.535885  0.343658  71.2833  0.553571     1.0   \n",
       "2    0.242363  0.742038  26.0  0.345395  0.343658   7.9250  0.339009     1.0   \n",
       "3    0.629630  0.742038  35.0  0.535885  0.343658  53.1000  0.339009     0.5   \n",
       "4    0.242363  0.188908  35.0  0.345395  0.343658   8.0500  0.339009     0.0   \n",
       "..        ...       ...   ...       ...       ...      ...       ...     ...   \n",
       "886  0.472826  0.188908  27.0  0.345395  0.343658  13.0000  0.339009     0.0   \n",
       "887  0.629630  0.742038  19.0  0.345395  0.343658  30.0000  0.339009     1.0   \n",
       "888  0.242363  0.742038   5.3  0.535885  0.500000  23.4500  0.339009     0.0   \n",
       "889  0.629630  0.188908  26.0  0.345395  0.343658  30.0000  0.553571     1.0   \n",
       "890  0.242363  0.188908  32.0  0.345395  0.343658   7.7500  0.389610     0.0   \n",
       "\n",
       "        Title  \n",
       "0    0.156673  \n",
       "1    0.792000  \n",
       "2    0.697802  \n",
       "3    0.792000  \n",
       "4    0.156673  \n",
       "..        ...  \n",
       "886  0.444444  \n",
       "887  0.697802  \n",
       "888  0.697802  \n",
       "889  0.156673  \n",
       "890  0.156673  \n",
       "\n",
       "[891 rows x 9 columns]"
      ]
     },
     "execution_count": 71,
     "metadata": {},
     "output_type": "execute_result"
    }
   ],
   "source": [
    "X_transf1"
   ]
  },
  {
   "cell_type": "code",
   "execution_count": 55,
   "id": "b4761114",
   "metadata": {
    "ExecuteTime": {
     "end_time": "2022-06-07T13:52:39.080143Z",
     "start_time": "2022-06-07T13:52:39.064143Z"
    }
   },
   "outputs": [],
   "source": [
    "for col in categorical:\n",
    "    X_transf1[col] += np.random.normal(loc=0, scale=0.05, size=X_transf1.shape[0])"
   ]
  },
  {
   "cell_type": "code",
   "execution_count": 56,
   "id": "d53c867f",
   "metadata": {
    "ExecuteTime": {
     "end_time": "2022-06-07T13:52:39.662345Z",
     "start_time": "2022-06-07T13:52:39.628303Z"
    }
   },
   "outputs": [
    {
     "data": {
      "text/html": [
       "<div>\n",
       "<style scoped>\n",
       "    .dataframe tbody tr th:only-of-type {\n",
       "        vertical-align: middle;\n",
       "    }\n",
       "\n",
       "    .dataframe tbody tr th {\n",
       "        vertical-align: top;\n",
       "    }\n",
       "\n",
       "    .dataframe thead th {\n",
       "        text-align: right;\n",
       "    }\n",
       "</style>\n",
       "<table border=\"1\" class=\"dataframe\">\n",
       "  <thead>\n",
       "    <tr style=\"text-align: right;\">\n",
       "      <th></th>\n",
       "      <th>Pclass</th>\n",
       "      <th>Sex</th>\n",
       "      <th>Age</th>\n",
       "      <th>SibSp</th>\n",
       "      <th>Parch</th>\n",
       "      <th>Fare</th>\n",
       "      <th>Embarked</th>\n",
       "      <th>Ticket</th>\n",
       "      <th>Title</th>\n",
       "    </tr>\n",
       "  </thead>\n",
       "  <tbody>\n",
       "    <tr>\n",
       "      <th>0</th>\n",
       "      <td>0.259329</td>\n",
       "      <td>0.205496</td>\n",
       "      <td>22.0</td>\n",
       "      <td>0.529404</td>\n",
       "      <td>0.358108</td>\n",
       "      <td>7.2500</td>\n",
       "      <td>0.231746</td>\n",
       "      <td>0.005374</td>\n",
       "      <td>0.190705</td>\n",
       "    </tr>\n",
       "    <tr>\n",
       "      <th>1</th>\n",
       "      <td>0.645874</td>\n",
       "      <td>0.747607</td>\n",
       "      <td>38.0</td>\n",
       "      <td>0.541825</td>\n",
       "      <td>0.333185</td>\n",
       "      <td>71.2833</td>\n",
       "      <td>0.525132</td>\n",
       "      <td>1.079611</td>\n",
       "      <td>0.828321</td>\n",
       "    </tr>\n",
       "    <tr>\n",
       "      <th>2</th>\n",
       "      <td>0.200153</td>\n",
       "      <td>0.738324</td>\n",
       "      <td>26.0</td>\n",
       "      <td>0.346998</td>\n",
       "      <td>0.340324</td>\n",
       "      <td>7.9250</td>\n",
       "      <td>0.337597</td>\n",
       "      <td>0.966215</td>\n",
       "      <td>0.723527</td>\n",
       "    </tr>\n",
       "    <tr>\n",
       "      <th>3</th>\n",
       "      <td>0.604994</td>\n",
       "      <td>0.679494</td>\n",
       "      <td>35.0</td>\n",
       "      <td>0.611366</td>\n",
       "      <td>0.355690</td>\n",
       "      <td>53.1000</td>\n",
       "      <td>0.378102</td>\n",
       "      <td>0.443501</td>\n",
       "      <td>0.794723</td>\n",
       "    </tr>\n",
       "    <tr>\n",
       "      <th>4</th>\n",
       "      <td>0.273420</td>\n",
       "      <td>0.128712</td>\n",
       "      <td>35.0</td>\n",
       "      <td>0.342541</td>\n",
       "      <td>0.323687</td>\n",
       "      <td>8.0500</td>\n",
       "      <td>0.330738</td>\n",
       "      <td>-0.061376</td>\n",
       "      <td>0.064752</td>\n",
       "    </tr>\n",
       "    <tr>\n",
       "      <th>...</th>\n",
       "      <td>...</td>\n",
       "      <td>...</td>\n",
       "      <td>...</td>\n",
       "      <td>...</td>\n",
       "      <td>...</td>\n",
       "      <td>...</td>\n",
       "      <td>...</td>\n",
       "      <td>...</td>\n",
       "      <td>...</td>\n",
       "    </tr>\n",
       "    <tr>\n",
       "      <th>886</th>\n",
       "      <td>0.500322</td>\n",
       "      <td>0.143909</td>\n",
       "      <td>27.0</td>\n",
       "      <td>0.247956</td>\n",
       "      <td>0.299017</td>\n",
       "      <td>13.0000</td>\n",
       "      <td>0.354761</td>\n",
       "      <td>-0.049088</td>\n",
       "      <td>0.450614</td>\n",
       "    </tr>\n",
       "    <tr>\n",
       "      <th>887</th>\n",
       "      <td>0.510610</td>\n",
       "      <td>0.750843</td>\n",
       "      <td>19.0</td>\n",
       "      <td>0.344639</td>\n",
       "      <td>0.195601</td>\n",
       "      <td>30.0000</td>\n",
       "      <td>0.336480</td>\n",
       "      <td>0.989552</td>\n",
       "      <td>0.662682</td>\n",
       "    </tr>\n",
       "    <tr>\n",
       "      <th>888</th>\n",
       "      <td>0.224596</td>\n",
       "      <td>0.825141</td>\n",
       "      <td>5.3</td>\n",
       "      <td>0.526545</td>\n",
       "      <td>0.548655</td>\n",
       "      <td>23.4500</td>\n",
       "      <td>0.305988</td>\n",
       "      <td>-0.025141</td>\n",
       "      <td>0.700141</td>\n",
       "    </tr>\n",
       "    <tr>\n",
       "      <th>889</th>\n",
       "      <td>0.647039</td>\n",
       "      <td>0.128577</td>\n",
       "      <td>26.0</td>\n",
       "      <td>0.325906</td>\n",
       "      <td>0.326124</td>\n",
       "      <td>30.0000</td>\n",
       "      <td>0.640598</td>\n",
       "      <td>0.994277</td>\n",
       "      <td>0.176263</td>\n",
       "    </tr>\n",
       "    <tr>\n",
       "      <th>890</th>\n",
       "      <td>0.201021</td>\n",
       "      <td>0.241949</td>\n",
       "      <td>32.0</td>\n",
       "      <td>0.285189</td>\n",
       "      <td>0.326781</td>\n",
       "      <td>7.7500</td>\n",
       "      <td>0.402098</td>\n",
       "      <td>0.001193</td>\n",
       "      <td>0.260261</td>\n",
       "    </tr>\n",
       "  </tbody>\n",
       "</table>\n",
       "<p>891 rows × 9 columns</p>\n",
       "</div>"
      ],
      "text/plain": [
       "       Pclass       Sex   Age     SibSp     Parch     Fare  Embarked  \\\n",
       "0    0.259329  0.205496  22.0  0.529404  0.358108   7.2500  0.231746   \n",
       "1    0.645874  0.747607  38.0  0.541825  0.333185  71.2833  0.525132   \n",
       "2    0.200153  0.738324  26.0  0.346998  0.340324   7.9250  0.337597   \n",
       "3    0.604994  0.679494  35.0  0.611366  0.355690  53.1000  0.378102   \n",
       "4    0.273420  0.128712  35.0  0.342541  0.323687   8.0500  0.330738   \n",
       "..        ...       ...   ...       ...       ...      ...       ...   \n",
       "886  0.500322  0.143909  27.0  0.247956  0.299017  13.0000  0.354761   \n",
       "887  0.510610  0.750843  19.0  0.344639  0.195601  30.0000  0.336480   \n",
       "888  0.224596  0.825141   5.3  0.526545  0.548655  23.4500  0.305988   \n",
       "889  0.647039  0.128577  26.0  0.325906  0.326124  30.0000  0.640598   \n",
       "890  0.201021  0.241949  32.0  0.285189  0.326781   7.7500  0.402098   \n",
       "\n",
       "       Ticket     Title  \n",
       "0    0.005374  0.190705  \n",
       "1    1.079611  0.828321  \n",
       "2    0.966215  0.723527  \n",
       "3    0.443501  0.794723  \n",
       "4   -0.061376  0.064752  \n",
       "..        ...       ...  \n",
       "886 -0.049088  0.450614  \n",
       "887  0.989552  0.662682  \n",
       "888 -0.025141  0.700141  \n",
       "889  0.994277  0.176263  \n",
       "890  0.001193  0.260261  \n",
       "\n",
       "[891 rows x 9 columns]"
      ]
     },
     "execution_count": 56,
     "metadata": {},
     "output_type": "execute_result"
    }
   ],
   "source": [
    "X_transf1"
   ]
  },
  {
   "cell_type": "code",
   "execution_count": 72,
   "id": "8a10c643",
   "metadata": {
    "ExecuteTime": {
     "end_time": "2022-06-07T13:59:33.696784Z",
     "start_time": "2022-06-07T13:59:33.674747Z"
    }
   },
   "outputs": [],
   "source": [
    "column_transformer_numeric = ColumnTransformer([\n",
    "    ('scaling', StandardScaler(), numeric_features),\n",
    "], remainder='passthrough')\n",
    "X_transf1 = column_transformer_numeric.fit_transform(X_transf1)"
   ]
  },
  {
   "cell_type": "code",
   "execution_count": 73,
   "id": "ecaba686",
   "metadata": {
    "ExecuteTime": {
     "end_time": "2022-06-07T13:59:34.148320Z",
     "start_time": "2022-06-07T13:59:34.126280Z"
    }
   },
   "outputs": [
    {
     "data": {
      "text/plain": [
       "array([[-0.50434874, -0.50244517,  0.24236253, ...,  0.33900929,\n",
       "         0.        ,  0.15667311],\n",
       "       [ 0.63603887,  0.78684529,  0.62962963, ...,  0.55357143,\n",
       "         1.        ,  0.792     ],\n",
       "       [-0.21925184, -0.48885426,  0.24236253, ...,  0.33900929,\n",
       "         1.        ,  0.6978022 ],\n",
       "       ...,\n",
       "       [-1.69462831, -0.17626324,  0.24236253, ...,  0.33900929,\n",
       "         0.        ,  0.6978022 ],\n",
       "       [-0.21925184, -0.04438104,  0.62962963, ...,  0.55357143,\n",
       "         1.        ,  0.15667311],\n",
       "       [ 0.20839352, -0.49237783,  0.24236253, ...,  0.38961039,\n",
       "         0.        ,  0.15667311]])"
      ]
     },
     "execution_count": 73,
     "metadata": {},
     "output_type": "execute_result"
    }
   ],
   "source": [
    "X_transf1"
   ]
  },
  {
   "cell_type": "code",
   "execution_count": 74,
   "id": "ebdffb8e",
   "metadata": {
    "ExecuteTime": {
     "end_time": "2022-06-07T13:59:49.782849Z",
     "start_time": "2022-06-07T13:59:49.738857Z"
    }
   },
   "outputs": [],
   "source": [
    "X_test_transf1 = mean_target_enc(X_test, categorical)\n",
    "X_test_transf1 = column_transformer_numeric.transform(X_test_transf1)\n",
    "# for col in categorical:\n",
    "#     X_test_transf1[col] += np.random.normal(loc=0, scale=0.05, \n",
    "#                                             size=X_test_transf1.shape[0])"
   ]
  },
  {
   "cell_type": "code",
   "execution_count": 75,
   "id": "c9f1ae6b",
   "metadata": {
    "ExecuteTime": {
     "end_time": "2022-06-07T13:59:52.884990Z",
     "start_time": "2022-06-07T13:59:52.363993Z"
    }
   },
   "outputs": [
    {
     "name": "stdout",
     "output_type": "stream",
     "text": [
      "0.98879\n"
     ]
    }
   ],
   "source": [
    "X_train1, X_val1, y_train1, y_val1 = train_test_split(\n",
    "    X_transf1, y, test_size=0.3, random_state=123)\n",
    "tree = DecisionTreeClassifier(random_state=42)\n",
    "best_params_full_train = grid_search(tree, X_train1, y_train1, param_grid)"
   ]
  },
  {
   "cell_type": "code",
   "execution_count": 76,
   "id": "3ccc722c",
   "metadata": {
    "ExecuteTime": {
     "end_time": "2022-06-07T13:59:54.620813Z",
     "start_time": "2022-06-07T13:59:54.604813Z"
    }
   },
   "outputs": [
    {
     "data": {
      "text/plain": [
       "{'criterion': 'entropy', 'max_depth': 3, 'min_samples_leaf': 5}"
      ]
     },
     "execution_count": 76,
     "metadata": {},
     "output_type": "execute_result"
    }
   ],
   "source": [
    "best_params_full_train"
   ]
  },
  {
   "cell_type": "code",
   "execution_count": 77,
   "id": "3d9cc8c3",
   "metadata": {
    "ExecuteTime": {
     "end_time": "2022-06-07T13:59:58.987527Z",
     "start_time": "2022-06-07T13:59:58.964492Z"
    }
   },
   "outputs": [
    {
     "name": "stdout",
     "output_type": "stream",
     "text": [
      "accuracy = 0.98507\n",
      "F1 score = 0.97959\n",
      "AUC-PR = 0.99633\n",
      "AUC-ROC = 0.99778\n"
     ]
    }
   ],
   "source": [
    "best_tree = DecisionTreeClassifier(**best_params_full_train, random_state=777)\n",
    "best_tree.fit(X_train1, y_train1)\n",
    "# best_tree.fit(X_transf1, y)\n",
    "# y_pred = best_tree.predict(X_val_transf)\n",
    "y_pred = best_tree.predict(X_val1)\n",
    "print_metrics(best_tree, y_val1, X_val1, y_pred)"
   ]
  },
  {
   "cell_type": "code",
   "execution_count": 62,
   "id": "96403537",
   "metadata": {
    "ExecuteTime": {
     "end_time": "2022-06-07T12:26:17.790194Z",
     "start_time": "2022-06-07T12:26:17.778186Z"
    }
   },
   "outputs": [],
   "source": [
    "predictions_tree_full = best_tree.predict(X_test_transf1)\n",
    "output = pd.DataFrame({'PassengerId': df_test.PassengerId, \n",
    "                       'Survived': predictions_tree_full})\n",
    "output.to_csv('submission.csv', index=False)"
   ]
  },
  {
   "cell_type": "markdown",
   "id": "9a548b99",
   "metadata": {},
   "source": [
    "## Feature selection (Greedy)"
   ]
  },
  {
   "cell_type": "code",
   "execution_count": 78,
   "id": "156e39ea",
   "metadata": {
    "ExecuteTime": {
     "end_time": "2022-06-07T14:00:11.224113Z",
     "start_time": "2022-06-07T14:00:11.140115Z"
    }
   },
   "outputs": [
    {
     "name": "stdout",
     "output_type": "stream",
     "text": [
      "0.9253731343283582\n",
      "0.9850746268656716\n",
      "0.9850746268656716\n",
      "[0.9253731343283582, 0.9850746268656716, 0.9850746268656716, 0.9850746268656716]\n"
     ]
    }
   ],
   "source": [
    "def feat_selection(X, y, X_test, y_test, alt_cond=False):\n",
    "    feat_l = list(range(X.shape[1]))\n",
    "    metr_l = []\n",
    "    metr_hist = []\n",
    "    feat_to_keep = []\n",
    "    while True:\n",
    "        for i in feat_l:\n",
    "            best_tree.fit(X[:, feat_to_keep + [i]], y)\n",
    "            y_pred = best_tree.predict(X_test[:, feat_to_keep + [i]])\n",
    "            metr_l.append(metrics.accuracy_score(y_test, y_pred))\n",
    "    #     print(metr_l)\n",
    "    #     print(np.argmax(metr_l), max(metr_l))\n",
    "        feat_to_keep.append(feat_l[np.argmax(metr_l)])\n",
    "        feat_l.remove(feat_l[np.argmax(metr_l)])    \n",
    "        metr_hist.append(max(metr_l))\n",
    "        if not alt_cond:\n",
    "            if len(metr_hist) > 2:\n",
    "                if (metr_hist[-1] <= metr_hist[-2] and metr_hist[-2] <= metr_hist[-3]) or len(feat_l) == 0:\n",
    "                    break\n",
    "        else:\n",
    "            if len(metr_hist) > 15:\n",
    "                if all([x == metr_hist[-15] for x in metr_hist[-15::]]) or len(feat_l) == 0:\n",
    "                    break\n",
    "        metr_l = []\n",
    "        print(metr_hist[-1])\n",
    "    print(metr_hist)    \n",
    "    return sorted(feat_to_keep)\n",
    "feat_to_keep = feat_selection(X_train1, y_train1, X_val1, y_val1)"
   ]
  },
  {
   "cell_type": "code",
   "execution_count": 80,
   "id": "56922963",
   "metadata": {
    "ExecuteTime": {
     "end_time": "2022-06-07T14:00:38.991337Z",
     "start_time": "2022-06-07T14:00:38.968297Z"
    }
   },
   "outputs": [
    {
     "name": "stdout",
     "output_type": "stream",
     "text": [
      "accuracy = 0.98507\n",
      "F1 score = 0.97959\n",
      "AUC-PR = 0.99633\n",
      "AUC-ROC = 0.99778\n"
     ]
    }
   ],
   "source": [
    "best_tree.fit(X_train1[:, feat_to_keep], y_train1)\n",
    "y_pred = best_tree.predict(X_val1[:, feat_to_keep])\n",
    "print_metrics(best_tree, y_val1, X_val1[:, feat_to_keep], y_pred)"
   ]
  },
  {
   "cell_type": "code",
   "execution_count": 115,
   "id": "1787331e",
   "metadata": {
    "ExecuteTime": {
     "end_time": "2022-06-07T09:59:07.666950Z",
     "start_time": "2022-06-07T09:59:07.644021Z"
    }
   },
   "outputs": [],
   "source": [
    "predictions_tree_select_mte = best_tree.predict(X_test_transf1[:, feat_to_keep])\n",
    "output = pd.DataFrame({'PassengerId': df_test.PassengerId, \n",
    "                       'Survived': predictions_tree_select_mte})\n",
    "output.to_csv('submission.csv', index=False)"
   ]
  },
  {
   "cell_type": "code",
   "execution_count": null,
   "id": "556c636e",
   "metadata": {
    "ExecuteTime": {
     "end_time": "2022-06-07T09:38:06.574968Z",
     "start_time": "2022-06-07T09:38:06.552959Z"
    }
   },
   "outputs": [],
   "source": []
  },
  {
   "cell_type": "code",
   "execution_count": null,
   "id": "8ad6e2af",
   "metadata": {
    "ExecuteTime": {
     "end_time": "2022-06-07T09:38:13.522877Z",
     "start_time": "2022-06-07T09:38:13.507736Z"
    }
   },
   "outputs": [],
   "source": []
  },
  {
   "cell_type": "code",
   "execution_count": 81,
   "id": "53418d85",
   "metadata": {
    "ExecuteTime": {
     "end_time": "2022-06-07T14:00:58.419728Z",
     "start_time": "2022-06-07T14:00:48.098731Z"
    }
   },
   "outputs": [
    {
     "name": "stdout",
     "output_type": "stream",
     "text": [
      "0.7910447761194029\n",
      "0.8097014925373134\n",
      "0.8208955223880597\n",
      "0.8246268656716418\n",
      "0.8246268656716418\n",
      "0.8246268656716418\n",
      "0.8246268656716418\n",
      "0.8246268656716418\n",
      "0.8246268656716418\n",
      "0.8246268656716418\n",
      "0.8246268656716418\n",
      "0.8246268656716418\n",
      "0.8246268656716418\n",
      "0.8246268656716418\n",
      "0.8246268656716418\n",
      "0.8246268656716418\n",
      "0.8246268656716418\n",
      "[0.7910447761194029, 0.8097014925373134, 0.8208955223880597, 0.8246268656716418, 0.8246268656716418, 0.8246268656716418, 0.8246268656716418, 0.8246268656716418, 0.8246268656716418, 0.8246268656716418, 0.8246268656716418, 0.8246268656716418, 0.8246268656716418, 0.8246268656716418, 0.8246268656716418, 0.8246268656716418, 0.8246268656716418, 0.8246268656716418]\n"
     ]
    }
   ],
   "source": [
    "feat_to_keep1 = feat_selection(X_train_transf, y_train, X_val_transf, y_val, alt_cond=True)"
   ]
  },
  {
   "cell_type": "code",
   "execution_count": 82,
   "id": "6257c1b8",
   "metadata": {
    "ExecuteTime": {
     "end_time": "2022-06-07T14:01:00.351700Z",
     "start_time": "2022-06-07T14:01:00.347698Z"
    },
    "scrolled": true
   },
   "outputs": [
    {
     "data": {
      "text/plain": [
       "[1, 3, 4, 5, 6, 7, 8, 9, 10, 11, 12, 13, 14, 15, 62, 500, 518, 519]"
      ]
     },
     "execution_count": 82,
     "metadata": {},
     "output_type": "execute_result"
    }
   ],
   "source": [
    "feat_to_keep1"
   ]
  },
  {
   "cell_type": "code",
   "execution_count": 87,
   "id": "94fd75c3",
   "metadata": {
    "ExecuteTime": {
     "end_time": "2022-06-07T14:02:25.771375Z",
     "start_time": "2022-06-07T14:02:25.756370Z"
    }
   },
   "outputs": [
    {
     "name": "stdout",
     "output_type": "stream",
     "text": [
      "accuracy = 0.82463\n",
      "F1 score = 0.78924\n",
      "AUC-PR = 0.71468\n",
      "AUC-ROC = 0.81615\n"
     ]
    }
   ],
   "source": [
    "best_tree = DecisionTreeClassifier(**{'criterion': 'gini', \n",
    "                                      'max_depth': 11, 'min_samples_leaf': 6}, random_state=42)\n",
    "best_tree.fit(X_train_transf[:, feat_to_keep1], y_train)\n",
    "y_pred = best_tree.predict(X_val_transf[:, feat_to_keep1])\n",
    "print_metrics(best_tree, y_val, X_val_transf[:, feat_to_keep1], y_pred)"
   ]
  },
  {
   "cell_type": "code",
   "execution_count": 68,
   "id": "64060e8f",
   "metadata": {
    "ExecuteTime": {
     "end_time": "2022-06-07T12:28:37.602513Z",
     "start_time": "2022-06-07T12:28:37.582515Z"
    }
   },
   "outputs": [],
   "source": [
    "predictions_tree_select = best_tree.predict(X_test_transf[:, feat_to_keep1])\n",
    "output = pd.DataFrame({'PassengerId': df_test.PassengerId, \n",
    "                       'Survived': predictions_tree_select})\n",
    "output.to_csv('submission.csv', index=False)"
   ]
  },
  {
   "cell_type": "markdown",
   "id": "f3357f00",
   "metadata": {},
   "source": [
    "# Random Forest"
   ]
  },
  {
   "cell_type": "code",
   "execution_count": 88,
   "id": "3e0e7895",
   "metadata": {
    "ExecuteTime": {
     "end_time": "2022-06-07T14:03:00.941340Z",
     "start_time": "2022-06-07T14:03:00.917338Z"
    }
   },
   "outputs": [],
   "source": [
    "from sklearn.ensemble import RandomForestClassifier\n",
    "param_grid_rfc = {\"n_estimators\": [100, 200, 500],\n",
    "              \"max_depth\": range(1, 11, 2),\n",
    "              'criterion': [\"gini\", \"entropy\"],\n",
    "              \"min_samples_leaf\": range(5, 12, 2),\n",
    "              \"max_features\": [\"sqrt\", \"log2\"],\n",
    "              'oob_score': [True, False]\n",
    "             }"
   ]
  },
  {
   "cell_type": "code",
   "execution_count": 90,
   "id": "681a21da",
   "metadata": {
    "ExecuteTime": {
     "end_time": "2022-06-07T14:03:13.379093Z",
     "start_time": "2022-06-07T14:03:13.360092Z"
    }
   },
   "outputs": [
    {
     "data": {
      "text/plain": [
       "(623, 524)"
      ]
     },
     "execution_count": 90,
     "metadata": {},
     "output_type": "execute_result"
    }
   ],
   "source": [
    "X_train_transf.shape"
   ]
  },
  {
   "cell_type": "code",
   "execution_count": 91,
   "id": "c6a67564",
   "metadata": {
    "ExecuteTime": {
     "end_time": "2022-06-07T14:10:02.625506Z",
     "start_time": "2022-06-07T14:03:24.935470Z"
    }
   },
   "outputs": [
    {
     "name": "stdout",
     "output_type": "stream",
     "text": [
      "0.98716\n"
     ]
    }
   ],
   "source": [
    "rfc = RandomForestClassifier(random_state=42, n_jobs=-1)\n",
    "# rfc.fit(X_train_transf, y_train)\n",
    "# y_pred = rfc.predict(X_val_transf)\n",
    "# print_metrics(rfc, y_val, X_val_transf, y_pred)\n",
    "best_params_rfc = grid_search(rfc, X_train1, \n",
    "                                y_train1, param_grid_rfc)"
   ]
  },
  {
   "cell_type": "code",
   "execution_count": 92,
   "id": "10607a98",
   "metadata": {
    "ExecuteTime": {
     "end_time": "2022-06-07T14:10:02.641522Z",
     "start_time": "2022-06-07T14:10:02.627473Z"
    }
   },
   "outputs": [
    {
     "data": {
      "text/plain": [
       "{'criterion': 'gini',\n",
       " 'max_depth': 9,\n",
       " 'max_features': 'sqrt',\n",
       " 'min_samples_leaf': 9,\n",
       " 'n_estimators': 500,\n",
       " 'oob_score': True}"
      ]
     },
     "execution_count": 92,
     "metadata": {},
     "output_type": "execute_result"
    }
   ],
   "source": [
    "best_params_rfc"
   ]
  },
  {
   "cell_type": "code",
   "execution_count": 93,
   "id": "8e0ebe79",
   "metadata": {
    "ExecuteTime": {
     "end_time": "2022-06-07T14:10:23.403420Z",
     "start_time": "2022-06-07T14:10:22.421421Z"
    }
   },
   "outputs": [
    {
     "name": "stdout",
     "output_type": "stream",
     "text": [
      "accuracy = 0.98881\n",
      "F1 score = 0.98492\n",
      "AUC-PR = 0.99747\n",
      "AUC-ROC = 0.99862\n"
     ]
    }
   ],
   "source": [
    "best_rfc = RandomForestClassifier(**{'criterion': 'gini',\n",
    "                                     'max_depth': 9,\n",
    "                                     'max_features': 'sqrt',\n",
    "                                     'min_samples_leaf': 9,\n",
    "                                     'n_estimators': 500,\n",
    "                                     'oob_score': True}, random_state=42)\n",
    "best_rfc.fit(X_train1, y_train1)\n",
    "y_pred = best_rfc.predict(X_val1)\n",
    "print_metrics(best_rfc, y_val1, X_val1, y_pred)"
   ]
  },
  {
   "cell_type": "code",
   "execution_count": 101,
   "id": "f604df6a",
   "metadata": {
    "ExecuteTime": {
     "end_time": "2022-06-07T13:48:22.192071Z",
     "start_time": "2022-06-07T13:48:22.108912Z"
    }
   },
   "outputs": [],
   "source": [
    "predictions_rf_mte = best_rfc.predict(X_test_transf1)\n",
    "output = pd.DataFrame({'PassengerId': df_test.PassengerId, \n",
    "                       'Survived': predictions_rf})\n",
    "output.to_csv('submission.csv', index=False)"
   ]
  },
  {
   "cell_type": "code",
   "execution_count": 96,
   "id": "9bc32acc",
   "metadata": {
    "ExecuteTime": {
     "end_time": "2022-06-07T14:11:55.910098Z",
     "start_time": "2022-06-07T14:11:55.809079Z"
    }
   },
   "outputs": [
    {
     "data": {
      "text/plain": [
       "0.8779904306220095"
      ]
     },
     "execution_count": 96,
     "metadata": {},
     "output_type": "execute_result"
    }
   ],
   "source": [
    "predictions_rf_mte = best_rfc.predict(X_test_transf1)\n",
    "(predictions_rf_mte == predictions).mean()"
   ]
  },
  {
   "cell_type": "code",
   "execution_count": null,
   "id": "472c250a",
   "metadata": {},
   "outputs": [],
   "source": []
  },
  {
   "cell_type": "code",
   "execution_count": null,
   "id": "dfad0dfb",
   "metadata": {},
   "outputs": [],
   "source": []
  },
  {
   "cell_type": "code",
   "execution_count": null,
   "id": "f56f0349",
   "metadata": {},
   "outputs": [],
   "source": []
  }
 ],
 "metadata": {
  "kernelspec": {
   "display_name": "Python 3",
   "language": "python",
   "name": "python3"
  },
  "language_info": {
   "codemirror_mode": {
    "name": "ipython",
    "version": 3
   },
   "file_extension": ".py",
   "mimetype": "text/x-python",
   "name": "python",
   "nbconvert_exporter": "python",
   "pygments_lexer": "ipython3",
   "version": "3.8.8"
  }
 },
 "nbformat": 4,
 "nbformat_minor": 5
}
