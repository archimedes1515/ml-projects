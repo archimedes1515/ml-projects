{
 "cells": [
  {
   "cell_type": "code",
   "execution_count": 1,
   "id": "4698769e",
   "metadata": {
    "ExecuteTime": {
     "end_time": "2022-07-23T10:18:27.757356Z",
     "start_time": "2022-07-23T10:18:24.802241Z"
    }
   },
   "outputs": [],
   "source": [
    "import pandas as pd\n",
    "import numpy as np\n",
    "import matplotlib.pyplot as plt\n",
    "%matplotlib inline\n",
    "import seaborn as sns\n",
    "import math as mt\n",
    "sns.set_style('darkgrid')\n",
    "%config InlineBackend.figure_format = 'retina'"
   ]
  },
  {
   "cell_type": "markdown",
   "id": "9d018a1b",
   "metadata": {},
   "source": [
    "# EDA"
   ]
  },
  {
   "cell_type": "code",
   "execution_count": 2,
   "id": "d17c323f",
   "metadata": {
    "ExecuteTime": {
     "end_time": "2022-07-23T10:18:27.835347Z",
     "start_time": "2022-07-23T10:18:27.760236Z"
    }
   },
   "outputs": [
    {
     "data": {
      "text/html": [
       "<div>\n",
       "<style scoped>\n",
       "    .dataframe tbody tr th:only-of-type {\n",
       "        vertical-align: middle;\n",
       "    }\n",
       "\n",
       "    .dataframe tbody tr th {\n",
       "        vertical-align: top;\n",
       "    }\n",
       "\n",
       "    .dataframe thead th {\n",
       "        text-align: right;\n",
       "    }\n",
       "</style>\n",
       "<table border=\"1\" class=\"dataframe\">\n",
       "  <thead>\n",
       "    <tr style=\"text-align: right;\">\n",
       "      <th></th>\n",
       "      <th>Pclass</th>\n",
       "      <th>Name</th>\n",
       "      <th>Sex</th>\n",
       "      <th>Age</th>\n",
       "      <th>SibSp</th>\n",
       "      <th>Parch</th>\n",
       "      <th>Ticket</th>\n",
       "      <th>Fare</th>\n",
       "      <th>Cabin</th>\n",
       "      <th>Embarked</th>\n",
       "      <th>Survived</th>\n",
       "    </tr>\n",
       "    <tr>\n",
       "      <th>PassengerId</th>\n",
       "      <th></th>\n",
       "      <th></th>\n",
       "      <th></th>\n",
       "      <th></th>\n",
       "      <th></th>\n",
       "      <th></th>\n",
       "      <th></th>\n",
       "      <th></th>\n",
       "      <th></th>\n",
       "      <th></th>\n",
       "      <th></th>\n",
       "    </tr>\n",
       "  </thead>\n",
       "  <tbody>\n",
       "    <tr>\n",
       "      <th>1</th>\n",
       "      <td>3</td>\n",
       "      <td>Braund, Mr. Owen Harris</td>\n",
       "      <td>male</td>\n",
       "      <td>22.0</td>\n",
       "      <td>1</td>\n",
       "      <td>0</td>\n",
       "      <td>A/5 21171</td>\n",
       "      <td>7.2500</td>\n",
       "      <td>NaN</td>\n",
       "      <td>S</td>\n",
       "      <td>0</td>\n",
       "    </tr>\n",
       "    <tr>\n",
       "      <th>2</th>\n",
       "      <td>1</td>\n",
       "      <td>Cumings, Mrs. John Bradley (Florence Briggs Th...</td>\n",
       "      <td>female</td>\n",
       "      <td>38.0</td>\n",
       "      <td>1</td>\n",
       "      <td>0</td>\n",
       "      <td>PC 17599</td>\n",
       "      <td>71.2833</td>\n",
       "      <td>C85</td>\n",
       "      <td>C</td>\n",
       "      <td>1</td>\n",
       "    </tr>\n",
       "    <tr>\n",
       "      <th>3</th>\n",
       "      <td>3</td>\n",
       "      <td>Heikkinen, Miss. Laina</td>\n",
       "      <td>female</td>\n",
       "      <td>26.0</td>\n",
       "      <td>0</td>\n",
       "      <td>0</td>\n",
       "      <td>STON/O2. 3101282</td>\n",
       "      <td>7.9250</td>\n",
       "      <td>NaN</td>\n",
       "      <td>S</td>\n",
       "      <td>1</td>\n",
       "    </tr>\n",
       "    <tr>\n",
       "      <th>4</th>\n",
       "      <td>1</td>\n",
       "      <td>Futrelle, Mrs. Jacques Heath (Lily May Peel)</td>\n",
       "      <td>female</td>\n",
       "      <td>35.0</td>\n",
       "      <td>1</td>\n",
       "      <td>0</td>\n",
       "      <td>113803</td>\n",
       "      <td>53.1000</td>\n",
       "      <td>C123</td>\n",
       "      <td>S</td>\n",
       "      <td>1</td>\n",
       "    </tr>\n",
       "    <tr>\n",
       "      <th>5</th>\n",
       "      <td>3</td>\n",
       "      <td>Allen, Mr. William Henry</td>\n",
       "      <td>male</td>\n",
       "      <td>35.0</td>\n",
       "      <td>0</td>\n",
       "      <td>0</td>\n",
       "      <td>373450</td>\n",
       "      <td>8.0500</td>\n",
       "      <td>NaN</td>\n",
       "      <td>S</td>\n",
       "      <td>0</td>\n",
       "    </tr>\n",
       "    <tr>\n",
       "      <th>...</th>\n",
       "      <td>...</td>\n",
       "      <td>...</td>\n",
       "      <td>...</td>\n",
       "      <td>...</td>\n",
       "      <td>...</td>\n",
       "      <td>...</td>\n",
       "      <td>...</td>\n",
       "      <td>...</td>\n",
       "      <td>...</td>\n",
       "      <td>...</td>\n",
       "      <td>...</td>\n",
       "    </tr>\n",
       "    <tr>\n",
       "      <th>887</th>\n",
       "      <td>2</td>\n",
       "      <td>Montvila, Rev. Juozas</td>\n",
       "      <td>male</td>\n",
       "      <td>27.0</td>\n",
       "      <td>0</td>\n",
       "      <td>0</td>\n",
       "      <td>211536</td>\n",
       "      <td>13.0000</td>\n",
       "      <td>NaN</td>\n",
       "      <td>S</td>\n",
       "      <td>0</td>\n",
       "    </tr>\n",
       "    <tr>\n",
       "      <th>888</th>\n",
       "      <td>1</td>\n",
       "      <td>Graham, Miss. Margaret Edith</td>\n",
       "      <td>female</td>\n",
       "      <td>19.0</td>\n",
       "      <td>0</td>\n",
       "      <td>0</td>\n",
       "      <td>112053</td>\n",
       "      <td>30.0000</td>\n",
       "      <td>B42</td>\n",
       "      <td>S</td>\n",
       "      <td>1</td>\n",
       "    </tr>\n",
       "    <tr>\n",
       "      <th>889</th>\n",
       "      <td>3</td>\n",
       "      <td>Johnston, Miss. Catherine Helen \"Carrie\"</td>\n",
       "      <td>female</td>\n",
       "      <td>NaN</td>\n",
       "      <td>1</td>\n",
       "      <td>2</td>\n",
       "      <td>W./C. 6607</td>\n",
       "      <td>23.4500</td>\n",
       "      <td>NaN</td>\n",
       "      <td>S</td>\n",
       "      <td>0</td>\n",
       "    </tr>\n",
       "    <tr>\n",
       "      <th>890</th>\n",
       "      <td>1</td>\n",
       "      <td>Behr, Mr. Karl Howell</td>\n",
       "      <td>male</td>\n",
       "      <td>26.0</td>\n",
       "      <td>0</td>\n",
       "      <td>0</td>\n",
       "      <td>111369</td>\n",
       "      <td>30.0000</td>\n",
       "      <td>C148</td>\n",
       "      <td>C</td>\n",
       "      <td>1</td>\n",
       "    </tr>\n",
       "    <tr>\n",
       "      <th>891</th>\n",
       "      <td>3</td>\n",
       "      <td>Dooley, Mr. Patrick</td>\n",
       "      <td>male</td>\n",
       "      <td>32.0</td>\n",
       "      <td>0</td>\n",
       "      <td>0</td>\n",
       "      <td>370376</td>\n",
       "      <td>7.7500</td>\n",
       "      <td>NaN</td>\n",
       "      <td>Q</td>\n",
       "      <td>0</td>\n",
       "    </tr>\n",
       "  </tbody>\n",
       "</table>\n",
       "<p>891 rows × 11 columns</p>\n",
       "</div>"
      ],
      "text/plain": [
       "             Pclass                                               Name  \\\n",
       "PassengerId                                                              \n",
       "1                 3                            Braund, Mr. Owen Harris   \n",
       "2                 1  Cumings, Mrs. John Bradley (Florence Briggs Th...   \n",
       "3                 3                             Heikkinen, Miss. Laina   \n",
       "4                 1       Futrelle, Mrs. Jacques Heath (Lily May Peel)   \n",
       "5                 3                           Allen, Mr. William Henry   \n",
       "...             ...                                                ...   \n",
       "887               2                              Montvila, Rev. Juozas   \n",
       "888               1                       Graham, Miss. Margaret Edith   \n",
       "889               3           Johnston, Miss. Catherine Helen \"Carrie\"   \n",
       "890               1                              Behr, Mr. Karl Howell   \n",
       "891               3                                Dooley, Mr. Patrick   \n",
       "\n",
       "                Sex   Age  SibSp  Parch            Ticket     Fare Cabin  \\\n",
       "PassengerId                                                                \n",
       "1              male  22.0      1      0         A/5 21171   7.2500   NaN   \n",
       "2            female  38.0      1      0          PC 17599  71.2833   C85   \n",
       "3            female  26.0      0      0  STON/O2. 3101282   7.9250   NaN   \n",
       "4            female  35.0      1      0            113803  53.1000  C123   \n",
       "5              male  35.0      0      0            373450   8.0500   NaN   \n",
       "...             ...   ...    ...    ...               ...      ...   ...   \n",
       "887            male  27.0      0      0            211536  13.0000   NaN   \n",
       "888          female  19.0      0      0            112053  30.0000   B42   \n",
       "889          female   NaN      1      2        W./C. 6607  23.4500   NaN   \n",
       "890            male  26.0      0      0            111369  30.0000  C148   \n",
       "891            male  32.0      0      0            370376   7.7500   NaN   \n",
       "\n",
       "            Embarked  Survived  \n",
       "PassengerId                     \n",
       "1                  S         0  \n",
       "2                  C         1  \n",
       "3                  S         1  \n",
       "4                  S         1  \n",
       "5                  S         0  \n",
       "...              ...       ...  \n",
       "887                S         0  \n",
       "888                S         1  \n",
       "889                S         0  \n",
       "890                C         1  \n",
       "891                Q         0  \n",
       "\n",
       "[891 rows x 11 columns]"
      ]
     },
     "execution_count": 2,
     "metadata": {},
     "output_type": "execute_result"
    }
   ],
   "source": [
    "df_train = pd.read_csv('titanic_train.csv',\n",
    "                       index_col='PassengerId')  # считаем данные трейна\n",
    "df_train = pd.concat([df_train.iloc[:, 1:], df_train['Survived']],\n",
    "                     axis=1)  # сделаем таргет последним столбцом\n",
    "df_train"
   ]
  },
  {
   "cell_type": "code",
   "execution_count": 3,
   "id": "cb6f3d9c",
   "metadata": {
    "ExecuteTime": {
     "end_time": "2022-07-23T10:18:27.898597Z",
     "start_time": "2022-07-23T10:18:27.853447Z"
    }
   },
   "outputs": [
    {
     "data": {
      "text/html": [
       "<div>\n",
       "<style scoped>\n",
       "    .dataframe tbody tr th:only-of-type {\n",
       "        vertical-align: middle;\n",
       "    }\n",
       "\n",
       "    .dataframe tbody tr th {\n",
       "        vertical-align: top;\n",
       "    }\n",
       "\n",
       "    .dataframe thead th {\n",
       "        text-align: right;\n",
       "    }\n",
       "</style>\n",
       "<table border=\"1\" class=\"dataframe\">\n",
       "  <thead>\n",
       "    <tr style=\"text-align: right;\">\n",
       "      <th></th>\n",
       "      <th>PassengerId</th>\n",
       "      <th>Pclass</th>\n",
       "      <th>Name</th>\n",
       "      <th>Sex</th>\n",
       "      <th>Age</th>\n",
       "      <th>SibSp</th>\n",
       "      <th>Parch</th>\n",
       "      <th>Ticket</th>\n",
       "      <th>Fare</th>\n",
       "      <th>Cabin</th>\n",
       "      <th>Embarked</th>\n",
       "    </tr>\n",
       "  </thead>\n",
       "  <tbody>\n",
       "    <tr>\n",
       "      <th>0</th>\n",
       "      <td>892</td>\n",
       "      <td>3</td>\n",
       "      <td>Kelly, Mr. James</td>\n",
       "      <td>male</td>\n",
       "      <td>34.5</td>\n",
       "      <td>0</td>\n",
       "      <td>0</td>\n",
       "      <td>330911</td>\n",
       "      <td>7.8292</td>\n",
       "      <td>NaN</td>\n",
       "      <td>Q</td>\n",
       "    </tr>\n",
       "    <tr>\n",
       "      <th>1</th>\n",
       "      <td>893</td>\n",
       "      <td>3</td>\n",
       "      <td>Wilkes, Mrs. James (Ellen Needs)</td>\n",
       "      <td>female</td>\n",
       "      <td>47.0</td>\n",
       "      <td>1</td>\n",
       "      <td>0</td>\n",
       "      <td>363272</td>\n",
       "      <td>7.0000</td>\n",
       "      <td>NaN</td>\n",
       "      <td>S</td>\n",
       "    </tr>\n",
       "    <tr>\n",
       "      <th>2</th>\n",
       "      <td>894</td>\n",
       "      <td>2</td>\n",
       "      <td>Myles, Mr. Thomas Francis</td>\n",
       "      <td>male</td>\n",
       "      <td>62.0</td>\n",
       "      <td>0</td>\n",
       "      <td>0</td>\n",
       "      <td>240276</td>\n",
       "      <td>9.6875</td>\n",
       "      <td>NaN</td>\n",
       "      <td>Q</td>\n",
       "    </tr>\n",
       "    <tr>\n",
       "      <th>3</th>\n",
       "      <td>895</td>\n",
       "      <td>3</td>\n",
       "      <td>Wirz, Mr. Albert</td>\n",
       "      <td>male</td>\n",
       "      <td>27.0</td>\n",
       "      <td>0</td>\n",
       "      <td>0</td>\n",
       "      <td>315154</td>\n",
       "      <td>8.6625</td>\n",
       "      <td>NaN</td>\n",
       "      <td>S</td>\n",
       "    </tr>\n",
       "    <tr>\n",
       "      <th>4</th>\n",
       "      <td>896</td>\n",
       "      <td>3</td>\n",
       "      <td>Hirvonen, Mrs. Alexander (Helga E Lindqvist)</td>\n",
       "      <td>female</td>\n",
       "      <td>22.0</td>\n",
       "      <td>1</td>\n",
       "      <td>1</td>\n",
       "      <td>3101298</td>\n",
       "      <td>12.2875</td>\n",
       "      <td>NaN</td>\n",
       "      <td>S</td>\n",
       "    </tr>\n",
       "    <tr>\n",
       "      <th>...</th>\n",
       "      <td>...</td>\n",
       "      <td>...</td>\n",
       "      <td>...</td>\n",
       "      <td>...</td>\n",
       "      <td>...</td>\n",
       "      <td>...</td>\n",
       "      <td>...</td>\n",
       "      <td>...</td>\n",
       "      <td>...</td>\n",
       "      <td>...</td>\n",
       "      <td>...</td>\n",
       "    </tr>\n",
       "    <tr>\n",
       "      <th>413</th>\n",
       "      <td>1305</td>\n",
       "      <td>3</td>\n",
       "      <td>Spector, Mr. Woolf</td>\n",
       "      <td>male</td>\n",
       "      <td>NaN</td>\n",
       "      <td>0</td>\n",
       "      <td>0</td>\n",
       "      <td>A.5. 3236</td>\n",
       "      <td>8.0500</td>\n",
       "      <td>NaN</td>\n",
       "      <td>S</td>\n",
       "    </tr>\n",
       "    <tr>\n",
       "      <th>414</th>\n",
       "      <td>1306</td>\n",
       "      <td>1</td>\n",
       "      <td>Oliva y Ocana, Dona. Fermina</td>\n",
       "      <td>female</td>\n",
       "      <td>39.0</td>\n",
       "      <td>0</td>\n",
       "      <td>0</td>\n",
       "      <td>PC 17758</td>\n",
       "      <td>108.9000</td>\n",
       "      <td>C105</td>\n",
       "      <td>C</td>\n",
       "    </tr>\n",
       "    <tr>\n",
       "      <th>415</th>\n",
       "      <td>1307</td>\n",
       "      <td>3</td>\n",
       "      <td>Saether, Mr. Simon Sivertsen</td>\n",
       "      <td>male</td>\n",
       "      <td>38.5</td>\n",
       "      <td>0</td>\n",
       "      <td>0</td>\n",
       "      <td>SOTON/O.Q. 3101262</td>\n",
       "      <td>7.2500</td>\n",
       "      <td>NaN</td>\n",
       "      <td>S</td>\n",
       "    </tr>\n",
       "    <tr>\n",
       "      <th>416</th>\n",
       "      <td>1308</td>\n",
       "      <td>3</td>\n",
       "      <td>Ware, Mr. Frederick</td>\n",
       "      <td>male</td>\n",
       "      <td>NaN</td>\n",
       "      <td>0</td>\n",
       "      <td>0</td>\n",
       "      <td>359309</td>\n",
       "      <td>8.0500</td>\n",
       "      <td>NaN</td>\n",
       "      <td>S</td>\n",
       "    </tr>\n",
       "    <tr>\n",
       "      <th>417</th>\n",
       "      <td>1309</td>\n",
       "      <td>3</td>\n",
       "      <td>Peter, Master. Michael J</td>\n",
       "      <td>male</td>\n",
       "      <td>NaN</td>\n",
       "      <td>1</td>\n",
       "      <td>1</td>\n",
       "      <td>2668</td>\n",
       "      <td>22.3583</td>\n",
       "      <td>NaN</td>\n",
       "      <td>C</td>\n",
       "    </tr>\n",
       "  </tbody>\n",
       "</table>\n",
       "<p>418 rows × 11 columns</p>\n",
       "</div>"
      ],
      "text/plain": [
       "     PassengerId  Pclass                                          Name  \\\n",
       "0            892       3                              Kelly, Mr. James   \n",
       "1            893       3              Wilkes, Mrs. James (Ellen Needs)   \n",
       "2            894       2                     Myles, Mr. Thomas Francis   \n",
       "3            895       3                              Wirz, Mr. Albert   \n",
       "4            896       3  Hirvonen, Mrs. Alexander (Helga E Lindqvist)   \n",
       "..           ...     ...                                           ...   \n",
       "413         1305       3                            Spector, Mr. Woolf   \n",
       "414         1306       1                  Oliva y Ocana, Dona. Fermina   \n",
       "415         1307       3                  Saether, Mr. Simon Sivertsen   \n",
       "416         1308       3                           Ware, Mr. Frederick   \n",
       "417         1309       3                      Peter, Master. Michael J   \n",
       "\n",
       "        Sex   Age  SibSp  Parch              Ticket      Fare Cabin Embarked  \n",
       "0      male  34.5      0      0              330911    7.8292   NaN        Q  \n",
       "1    female  47.0      1      0              363272    7.0000   NaN        S  \n",
       "2      male  62.0      0      0              240276    9.6875   NaN        Q  \n",
       "3      male  27.0      0      0              315154    8.6625   NaN        S  \n",
       "4    female  22.0      1      1             3101298   12.2875   NaN        S  \n",
       "..      ...   ...    ...    ...                 ...       ...   ...      ...  \n",
       "413    male   NaN      0      0           A.5. 3236    8.0500   NaN        S  \n",
       "414  female  39.0      0      0            PC 17758  108.9000  C105        C  \n",
       "415    male  38.5      0      0  SOTON/O.Q. 3101262    7.2500   NaN        S  \n",
       "416    male   NaN      0      0              359309    8.0500   NaN        S  \n",
       "417    male   NaN      1      1                2668   22.3583   NaN        C  \n",
       "\n",
       "[418 rows x 11 columns]"
      ]
     },
     "execution_count": 3,
     "metadata": {},
     "output_type": "execute_result"
    }
   ],
   "source": [
    "df_test = pd.read_csv('titanic_test.csv')  # считаем данные тестовой выборки\n",
    "df_test"
   ]
  },
  {
   "cell_type": "code",
   "execution_count": 5,
   "id": "7260da0f",
   "metadata": {
    "ExecuteTime": {
     "end_time": "2022-07-23T10:18:30.568980Z",
     "start_time": "2022-07-23T10:18:30.526652Z"
    }
   },
   "outputs": [
    {
     "data": {
      "text/html": [
       "<div>\n",
       "<style scoped>\n",
       "    .dataframe tbody tr th:only-of-type {\n",
       "        vertical-align: middle;\n",
       "    }\n",
       "\n",
       "    .dataframe tbody tr th {\n",
       "        vertical-align: top;\n",
       "    }\n",
       "\n",
       "    .dataframe thead th {\n",
       "        text-align: right;\n",
       "    }\n",
       "</style>\n",
       "<table border=\"1\" class=\"dataframe\">\n",
       "  <thead>\n",
       "    <tr style=\"text-align: right;\">\n",
       "      <th></th>\n",
       "      <th>Pclass</th>\n",
       "      <th>Name</th>\n",
       "      <th>Sex</th>\n",
       "      <th>Age</th>\n",
       "      <th>SibSp</th>\n",
       "      <th>Parch</th>\n",
       "      <th>Ticket</th>\n",
       "      <th>Fare</th>\n",
       "      <th>Cabin</th>\n",
       "      <th>Embarked</th>\n",
       "      <th>Survived</th>\n",
       "    </tr>\n",
       "    <tr>\n",
       "      <th>PassengerId</th>\n",
       "      <th></th>\n",
       "      <th></th>\n",
       "      <th></th>\n",
       "      <th></th>\n",
       "      <th></th>\n",
       "      <th></th>\n",
       "      <th></th>\n",
       "      <th></th>\n",
       "      <th></th>\n",
       "      <th></th>\n",
       "      <th></th>\n",
       "    </tr>\n",
       "  </thead>\n",
       "  <tbody>\n",
       "    <tr>\n",
       "      <th>1</th>\n",
       "      <td>3</td>\n",
       "      <td>Braund, Mr. Owen Harris</td>\n",
       "      <td>0</td>\n",
       "      <td>22.0</td>\n",
       "      <td>1</td>\n",
       "      <td>0</td>\n",
       "      <td>A/5 21171</td>\n",
       "      <td>7.2500</td>\n",
       "      <td>NaN</td>\n",
       "      <td>S</td>\n",
       "      <td>0</td>\n",
       "    </tr>\n",
       "    <tr>\n",
       "      <th>2</th>\n",
       "      <td>1</td>\n",
       "      <td>Cumings, Mrs. John Bradley (Florence Briggs Th...</td>\n",
       "      <td>1</td>\n",
       "      <td>38.0</td>\n",
       "      <td>1</td>\n",
       "      <td>0</td>\n",
       "      <td>PC 17599</td>\n",
       "      <td>71.2833</td>\n",
       "      <td>C85</td>\n",
       "      <td>C</td>\n",
       "      <td>1</td>\n",
       "    </tr>\n",
       "    <tr>\n",
       "      <th>3</th>\n",
       "      <td>3</td>\n",
       "      <td>Heikkinen, Miss. Laina</td>\n",
       "      <td>1</td>\n",
       "      <td>26.0</td>\n",
       "      <td>0</td>\n",
       "      <td>0</td>\n",
       "      <td>STON/O2. 3101282</td>\n",
       "      <td>7.9250</td>\n",
       "      <td>NaN</td>\n",
       "      <td>S</td>\n",
       "      <td>1</td>\n",
       "    </tr>\n",
       "    <tr>\n",
       "      <th>4</th>\n",
       "      <td>1</td>\n",
       "      <td>Futrelle, Mrs. Jacques Heath (Lily May Peel)</td>\n",
       "      <td>1</td>\n",
       "      <td>35.0</td>\n",
       "      <td>1</td>\n",
       "      <td>0</td>\n",
       "      <td>113803</td>\n",
       "      <td>53.1000</td>\n",
       "      <td>C123</td>\n",
       "      <td>S</td>\n",
       "      <td>1</td>\n",
       "    </tr>\n",
       "    <tr>\n",
       "      <th>5</th>\n",
       "      <td>3</td>\n",
       "      <td>Allen, Mr. William Henry</td>\n",
       "      <td>0</td>\n",
       "      <td>35.0</td>\n",
       "      <td>0</td>\n",
       "      <td>0</td>\n",
       "      <td>373450</td>\n",
       "      <td>8.0500</td>\n",
       "      <td>NaN</td>\n",
       "      <td>S</td>\n",
       "      <td>0</td>\n",
       "    </tr>\n",
       "    <tr>\n",
       "      <th>...</th>\n",
       "      <td>...</td>\n",
       "      <td>...</td>\n",
       "      <td>...</td>\n",
       "      <td>...</td>\n",
       "      <td>...</td>\n",
       "      <td>...</td>\n",
       "      <td>...</td>\n",
       "      <td>...</td>\n",
       "      <td>...</td>\n",
       "      <td>...</td>\n",
       "      <td>...</td>\n",
       "    </tr>\n",
       "    <tr>\n",
       "      <th>887</th>\n",
       "      <td>2</td>\n",
       "      <td>Montvila, Rev. Juozas</td>\n",
       "      <td>0</td>\n",
       "      <td>27.0</td>\n",
       "      <td>0</td>\n",
       "      <td>0</td>\n",
       "      <td>211536</td>\n",
       "      <td>13.0000</td>\n",
       "      <td>NaN</td>\n",
       "      <td>S</td>\n",
       "      <td>0</td>\n",
       "    </tr>\n",
       "    <tr>\n",
       "      <th>888</th>\n",
       "      <td>1</td>\n",
       "      <td>Graham, Miss. Margaret Edith</td>\n",
       "      <td>1</td>\n",
       "      <td>19.0</td>\n",
       "      <td>0</td>\n",
       "      <td>0</td>\n",
       "      <td>112053</td>\n",
       "      <td>30.0000</td>\n",
       "      <td>B42</td>\n",
       "      <td>S</td>\n",
       "      <td>1</td>\n",
       "    </tr>\n",
       "    <tr>\n",
       "      <th>889</th>\n",
       "      <td>3</td>\n",
       "      <td>Johnston, Miss. Catherine Helen \"Carrie\"</td>\n",
       "      <td>1</td>\n",
       "      <td>NaN</td>\n",
       "      <td>1</td>\n",
       "      <td>2</td>\n",
       "      <td>W./C. 6607</td>\n",
       "      <td>23.4500</td>\n",
       "      <td>NaN</td>\n",
       "      <td>S</td>\n",
       "      <td>0</td>\n",
       "    </tr>\n",
       "    <tr>\n",
       "      <th>890</th>\n",
       "      <td>1</td>\n",
       "      <td>Behr, Mr. Karl Howell</td>\n",
       "      <td>0</td>\n",
       "      <td>26.0</td>\n",
       "      <td>0</td>\n",
       "      <td>0</td>\n",
       "      <td>111369</td>\n",
       "      <td>30.0000</td>\n",
       "      <td>C148</td>\n",
       "      <td>C</td>\n",
       "      <td>1</td>\n",
       "    </tr>\n",
       "    <tr>\n",
       "      <th>891</th>\n",
       "      <td>3</td>\n",
       "      <td>Dooley, Mr. Patrick</td>\n",
       "      <td>0</td>\n",
       "      <td>32.0</td>\n",
       "      <td>0</td>\n",
       "      <td>0</td>\n",
       "      <td>370376</td>\n",
       "      <td>7.7500</td>\n",
       "      <td>NaN</td>\n",
       "      <td>Q</td>\n",
       "      <td>0</td>\n",
       "    </tr>\n",
       "  </tbody>\n",
       "</table>\n",
       "<p>891 rows × 11 columns</p>\n",
       "</div>"
      ],
      "text/plain": [
       "             Pclass                                               Name  Sex  \\\n",
       "PassengerId                                                                   \n",
       "1                 3                            Braund, Mr. Owen Harris    0   \n",
       "2                 1  Cumings, Mrs. John Bradley (Florence Briggs Th...    1   \n",
       "3                 3                             Heikkinen, Miss. Laina    1   \n",
       "4                 1       Futrelle, Mrs. Jacques Heath (Lily May Peel)    1   \n",
       "5                 3                           Allen, Mr. William Henry    0   \n",
       "...             ...                                                ...  ...   \n",
       "887               2                              Montvila, Rev. Juozas    0   \n",
       "888               1                       Graham, Miss. Margaret Edith    1   \n",
       "889               3           Johnston, Miss. Catherine Helen \"Carrie\"    1   \n",
       "890               1                              Behr, Mr. Karl Howell    0   \n",
       "891               3                                Dooley, Mr. Patrick    0   \n",
       "\n",
       "              Age  SibSp  Parch            Ticket     Fare Cabin Embarked  \\\n",
       "PassengerId                                                                 \n",
       "1            22.0      1      0         A/5 21171   7.2500   NaN        S   \n",
       "2            38.0      1      0          PC 17599  71.2833   C85        C   \n",
       "3            26.0      0      0  STON/O2. 3101282   7.9250   NaN        S   \n",
       "4            35.0      1      0            113803  53.1000  C123        S   \n",
       "5            35.0      0      0            373450   8.0500   NaN        S   \n",
       "...           ...    ...    ...               ...      ...   ...      ...   \n",
       "887          27.0      0      0            211536  13.0000   NaN        S   \n",
       "888          19.0      0      0            112053  30.0000   B42        S   \n",
       "889           NaN      1      2        W./C. 6607  23.4500   NaN        S   \n",
       "890          26.0      0      0            111369  30.0000  C148        C   \n",
       "891          32.0      0      0            370376   7.7500   NaN        Q   \n",
       "\n",
       "             Survived  \n",
       "PassengerId            \n",
       "1                   0  \n",
       "2                   1  \n",
       "3                   1  \n",
       "4                   1  \n",
       "5                   0  \n",
       "...               ...  \n",
       "887                 0  \n",
       "888                 1  \n",
       "889                 0  \n",
       "890                 1  \n",
       "891                 0  \n",
       "\n",
       "[891 rows x 11 columns]"
      ]
     },
     "execution_count": 5,
     "metadata": {},
     "output_type": "execute_result"
    }
   ],
   "source": [
    "df_train['Sex'] = df_train['Sex'].apply(lambda x: 0 if x == 'male' else 1)\n",
    "df_train"
   ]
  },
  {
   "cell_type": "code",
   "execution_count": 6,
   "id": "2583ff15",
   "metadata": {
    "ExecuteTime": {
     "end_time": "2022-07-23T10:18:32.083285Z",
     "start_time": "2022-07-23T10:18:32.062967Z"
    }
   },
   "outputs": [
    {
     "data": {
      "text/plain": [
       "Pclass        int64\n",
       "Name         object\n",
       "Sex           int64\n",
       "Age         float64\n",
       "SibSp         int64\n",
       "Parch         int64\n",
       "Ticket       object\n",
       "Fare        float64\n",
       "Cabin        object\n",
       "Embarked     object\n",
       "Survived      int64\n",
       "dtype: object"
      ]
     },
     "execution_count": 6,
     "metadata": {},
     "output_type": "execute_result"
    }
   ],
   "source": [
    "df_train.dtypes"
   ]
  },
  {
   "cell_type": "code",
   "execution_count": 8,
   "id": "37b82b1c",
   "metadata": {
    "ExecuteTime": {
     "end_time": "2022-07-22T18:17:53.014785Z",
     "start_time": "2022-07-22T18:17:52.992680Z"
    }
   },
   "outputs": [
    {
     "name": "stdout",
     "output_type": "stream",
     "text": [
      "681\n",
      "\n",
      "0    549\n",
      "1    342\n",
      "Name: Survived, dtype: int64\n",
      "\n",
      "0    577\n",
      "1    314\n",
      "Name: Sex, dtype: int64\n"
     ]
    }
   ],
   "source": [
    "print(df_train['Ticket'].nunique())"
   ]
  },
  {
   "cell_type": "code",
   "execution_count": 7,
   "id": "4bf3e32c",
   "metadata": {
    "ExecuteTime": {
     "end_time": "2022-07-23T09:21:07.449722Z",
     "start_time": "2022-07-23T09:21:07.423753Z"
    }
   },
   "outputs": [
    {
     "data": {
      "text/plain": [
       "Pclass        0\n",
       "Name          0\n",
       "Sex           0\n",
       "Age         177\n",
       "SibSp         0\n",
       "Parch         0\n",
       "Ticket        0\n",
       "Fare          0\n",
       "Cabin       687\n",
       "Embarked      2\n",
       "Survived      0\n",
       "dtype: int64"
      ]
     },
     "execution_count": 7,
     "metadata": {},
     "output_type": "execute_result"
    }
   ],
   "source": [
    "df_train.isna().sum()  # проверим наличие пропусков"
   ]
  },
  {
   "cell_type": "code",
   "execution_count": 8,
   "id": "2efd1085",
   "metadata": {
    "ExecuteTime": {
     "end_time": "2022-07-23T10:18:36.887895Z",
     "start_time": "2022-07-23T10:18:36.864896Z"
    }
   },
   "outputs": [],
   "source": [
    "df_train['Embarked'].fillna(df_train['Embarked'].mode().loc[0], inplace=True)"
   ]
  },
  {
   "cell_type": "code",
   "execution_count": 9,
   "id": "ae81d1c0",
   "metadata": {
    "ExecuteTime": {
     "end_time": "2022-07-23T10:18:37.168973Z",
     "start_time": "2022-07-23T10:18:37.101830Z"
    }
   },
   "outputs": [
    {
     "data": {
      "text/html": [
       "<div>\n",
       "<style scoped>\n",
       "    .dataframe tbody tr th:only-of-type {\n",
       "        vertical-align: middle;\n",
       "    }\n",
       "\n",
       "    .dataframe tbody tr th {\n",
       "        vertical-align: top;\n",
       "    }\n",
       "\n",
       "    .dataframe thead th {\n",
       "        text-align: right;\n",
       "    }\n",
       "</style>\n",
       "<table border=\"1\" class=\"dataframe\">\n",
       "  <thead>\n",
       "    <tr style=\"text-align: right;\">\n",
       "      <th></th>\n",
       "      <th>Pclass</th>\n",
       "      <th>Name</th>\n",
       "      <th>Sex</th>\n",
       "      <th>Age</th>\n",
       "      <th>SibSp</th>\n",
       "      <th>Parch</th>\n",
       "      <th>Ticket</th>\n",
       "      <th>Fare</th>\n",
       "      <th>Cabin</th>\n",
       "      <th>Embarked</th>\n",
       "      <th>Survived</th>\n",
       "    </tr>\n",
       "    <tr>\n",
       "      <th>PassengerId</th>\n",
       "      <th></th>\n",
       "      <th></th>\n",
       "      <th></th>\n",
       "      <th></th>\n",
       "      <th></th>\n",
       "      <th></th>\n",
       "      <th></th>\n",
       "      <th></th>\n",
       "      <th></th>\n",
       "      <th></th>\n",
       "      <th></th>\n",
       "    </tr>\n",
       "  </thead>\n",
       "  <tbody>\n",
       "    <tr>\n",
       "      <th>1</th>\n",
       "      <td>3</td>\n",
       "      <td>Braund, Mr. Owen Harris</td>\n",
       "      <td>0</td>\n",
       "      <td>22</td>\n",
       "      <td>1</td>\n",
       "      <td>0</td>\n",
       "      <td>A/5 21171</td>\n",
       "      <td>7.2500</td>\n",
       "      <td>NaN</td>\n",
       "      <td>S</td>\n",
       "      <td>0</td>\n",
       "    </tr>\n",
       "    <tr>\n",
       "      <th>2</th>\n",
       "      <td>1</td>\n",
       "      <td>Cumings, Mrs. John Bradley (Florence Briggs Th...</td>\n",
       "      <td>1</td>\n",
       "      <td>38</td>\n",
       "      <td>1</td>\n",
       "      <td>0</td>\n",
       "      <td>PC 17599</td>\n",
       "      <td>71.2833</td>\n",
       "      <td>C85</td>\n",
       "      <td>C</td>\n",
       "      <td>1</td>\n",
       "    </tr>\n",
       "    <tr>\n",
       "      <th>3</th>\n",
       "      <td>3</td>\n",
       "      <td>Heikkinen, Miss. Laina</td>\n",
       "      <td>1</td>\n",
       "      <td>26</td>\n",
       "      <td>0</td>\n",
       "      <td>0</td>\n",
       "      <td>STON/O2. 3101282</td>\n",
       "      <td>7.9250</td>\n",
       "      <td>NaN</td>\n",
       "      <td>S</td>\n",
       "      <td>1</td>\n",
       "    </tr>\n",
       "    <tr>\n",
       "      <th>4</th>\n",
       "      <td>1</td>\n",
       "      <td>Futrelle, Mrs. Jacques Heath (Lily May Peel)</td>\n",
       "      <td>1</td>\n",
       "      <td>35</td>\n",
       "      <td>1</td>\n",
       "      <td>0</td>\n",
       "      <td>113803</td>\n",
       "      <td>53.1000</td>\n",
       "      <td>C123</td>\n",
       "      <td>S</td>\n",
       "      <td>1</td>\n",
       "    </tr>\n",
       "    <tr>\n",
       "      <th>5</th>\n",
       "      <td>3</td>\n",
       "      <td>Allen, Mr. William Henry</td>\n",
       "      <td>0</td>\n",
       "      <td>35</td>\n",
       "      <td>0</td>\n",
       "      <td>0</td>\n",
       "      <td>373450</td>\n",
       "      <td>8.0500</td>\n",
       "      <td>NaN</td>\n",
       "      <td>S</td>\n",
       "      <td>0</td>\n",
       "    </tr>\n",
       "  </tbody>\n",
       "</table>\n",
       "</div>"
      ],
      "text/plain": [
       "             Pclass                                               Name  Sex  \\\n",
       "PassengerId                                                                   \n",
       "1                 3                            Braund, Mr. Owen Harris    0   \n",
       "2                 1  Cumings, Mrs. John Bradley (Florence Briggs Th...    1   \n",
       "3                 3                             Heikkinen, Miss. Laina    1   \n",
       "4                 1       Futrelle, Mrs. Jacques Heath (Lily May Peel)    1   \n",
       "5                 3                           Allen, Mr. William Henry    0   \n",
       "\n",
       "             Age  SibSp  Parch            Ticket     Fare Cabin Embarked  \\\n",
       "PassengerId                                                                \n",
       "1             22      1      0         A/5 21171   7.2500   NaN        S   \n",
       "2             38      1      0          PC 17599  71.2833   C85        C   \n",
       "3             26      0      0  STON/O2. 3101282   7.9250   NaN        S   \n",
       "4             35      1      0            113803  53.1000  C123        S   \n",
       "5             35      0      0            373450   8.0500   NaN        S   \n",
       "\n",
       "             Survived  \n",
       "PassengerId            \n",
       "1                   0  \n",
       "2                   1  \n",
       "3                   1  \n",
       "4                   1  \n",
       "5                   0  "
      ]
     },
     "execution_count": 9,
     "metadata": {},
     "output_type": "execute_result"
    }
   ],
   "source": [
    "# заполним пропуски в возрасте, используем медианный возраст \n",
    "# каждого пола внутри каждого пассажирского класса\n",
    "fill_age = np.zeros((2, 3))\n",
    "\n",
    "for i in range(0, 2):\n",
    "    for j in range(1, 4):\n",
    "        age_fill = df_train[(df_train['Sex'] == i) & \\\n",
    "                            (df_train['Pclass'] == j)]['Age'].median() #.dropna()\n",
    "        # Convert random age float to nearest .5 age\n",
    "        fill_age[i, j-1] = int(age_fill / 0.5 + 0.5) * 0.5\n",
    "\n",
    "for i in range(0, 2):\n",
    "    for j in range(1, 4):\n",
    "        df_train.loc[(df_train.Age.isnull()) & (df_train.Sex == i) &\n",
    "                       (df_train.Pclass == j), 'Age'] = fill_age[i, j-1]\n",
    "\n",
    "df_train['Age'] = df_train['Age'].astype(int)\n",
    "df_train.head()"
   ]
  },
  {
   "cell_type": "code",
   "execution_count": 10,
   "id": "c2588dac",
   "metadata": {
    "ExecuteTime": {
     "end_time": "2022-07-23T10:18:38.206198Z",
     "start_time": "2022-07-23T10:18:38.149145Z"
    }
   },
   "outputs": [
    {
     "data": {
      "text/html": [
       "<div>\n",
       "<style scoped>\n",
       "    .dataframe tbody tr th:only-of-type {\n",
       "        vertical-align: middle;\n",
       "    }\n",
       "\n",
       "    .dataframe tbody tr th {\n",
       "        vertical-align: top;\n",
       "    }\n",
       "\n",
       "    .dataframe thead th {\n",
       "        text-align: right;\n",
       "    }\n",
       "</style>\n",
       "<table border=\"1\" class=\"dataframe\">\n",
       "  <thead>\n",
       "    <tr style=\"text-align: right;\">\n",
       "      <th></th>\n",
       "      <th>Pclass</th>\n",
       "      <th>Name</th>\n",
       "      <th>Sex</th>\n",
       "      <th>Age</th>\n",
       "      <th>SibSp</th>\n",
       "      <th>Parch</th>\n",
       "      <th>Ticket</th>\n",
       "      <th>Fare</th>\n",
       "      <th>Cabin</th>\n",
       "      <th>Embarked</th>\n",
       "      <th>Family_size</th>\n",
       "      <th>Is_alone</th>\n",
       "      <th>Survived</th>\n",
       "    </tr>\n",
       "    <tr>\n",
       "      <th>PassengerId</th>\n",
       "      <th></th>\n",
       "      <th></th>\n",
       "      <th></th>\n",
       "      <th></th>\n",
       "      <th></th>\n",
       "      <th></th>\n",
       "      <th></th>\n",
       "      <th></th>\n",
       "      <th></th>\n",
       "      <th></th>\n",
       "      <th></th>\n",
       "      <th></th>\n",
       "      <th></th>\n",
       "    </tr>\n",
       "  </thead>\n",
       "  <tbody>\n",
       "    <tr>\n",
       "      <th>1</th>\n",
       "      <td>3</td>\n",
       "      <td>Braund, Mr. Owen Harris</td>\n",
       "      <td>0</td>\n",
       "      <td>22</td>\n",
       "      <td>1</td>\n",
       "      <td>0</td>\n",
       "      <td>A/5 21171</td>\n",
       "      <td>7.2500</td>\n",
       "      <td>NaN</td>\n",
       "      <td>S</td>\n",
       "      <td>2</td>\n",
       "      <td>0</td>\n",
       "      <td>0</td>\n",
       "    </tr>\n",
       "    <tr>\n",
       "      <th>2</th>\n",
       "      <td>1</td>\n",
       "      <td>Cumings, Mrs. John Bradley (Florence Briggs Th...</td>\n",
       "      <td>1</td>\n",
       "      <td>38</td>\n",
       "      <td>1</td>\n",
       "      <td>0</td>\n",
       "      <td>PC 17599</td>\n",
       "      <td>71.2833</td>\n",
       "      <td>C85</td>\n",
       "      <td>C</td>\n",
       "      <td>2</td>\n",
       "      <td>0</td>\n",
       "      <td>1</td>\n",
       "    </tr>\n",
       "    <tr>\n",
       "      <th>3</th>\n",
       "      <td>3</td>\n",
       "      <td>Heikkinen, Miss. Laina</td>\n",
       "      <td>1</td>\n",
       "      <td>26</td>\n",
       "      <td>0</td>\n",
       "      <td>0</td>\n",
       "      <td>STON/O2. 3101282</td>\n",
       "      <td>7.9250</td>\n",
       "      <td>NaN</td>\n",
       "      <td>S</td>\n",
       "      <td>1</td>\n",
       "      <td>1</td>\n",
       "      <td>1</td>\n",
       "    </tr>\n",
       "    <tr>\n",
       "      <th>4</th>\n",
       "      <td>1</td>\n",
       "      <td>Futrelle, Mrs. Jacques Heath (Lily May Peel)</td>\n",
       "      <td>1</td>\n",
       "      <td>35</td>\n",
       "      <td>1</td>\n",
       "      <td>0</td>\n",
       "      <td>113803</td>\n",
       "      <td>53.1000</td>\n",
       "      <td>C123</td>\n",
       "      <td>S</td>\n",
       "      <td>2</td>\n",
       "      <td>0</td>\n",
       "      <td>1</td>\n",
       "    </tr>\n",
       "    <tr>\n",
       "      <th>5</th>\n",
       "      <td>3</td>\n",
       "      <td>Allen, Mr. William Henry</td>\n",
       "      <td>0</td>\n",
       "      <td>35</td>\n",
       "      <td>0</td>\n",
       "      <td>0</td>\n",
       "      <td>373450</td>\n",
       "      <td>8.0500</td>\n",
       "      <td>NaN</td>\n",
       "      <td>S</td>\n",
       "      <td>1</td>\n",
       "      <td>1</td>\n",
       "      <td>0</td>\n",
       "    </tr>\n",
       "    <tr>\n",
       "      <th>...</th>\n",
       "      <td>...</td>\n",
       "      <td>...</td>\n",
       "      <td>...</td>\n",
       "      <td>...</td>\n",
       "      <td>...</td>\n",
       "      <td>...</td>\n",
       "      <td>...</td>\n",
       "      <td>...</td>\n",
       "      <td>...</td>\n",
       "      <td>...</td>\n",
       "      <td>...</td>\n",
       "      <td>...</td>\n",
       "      <td>...</td>\n",
       "    </tr>\n",
       "    <tr>\n",
       "      <th>887</th>\n",
       "      <td>2</td>\n",
       "      <td>Montvila, Rev. Juozas</td>\n",
       "      <td>0</td>\n",
       "      <td>27</td>\n",
       "      <td>0</td>\n",
       "      <td>0</td>\n",
       "      <td>211536</td>\n",
       "      <td>13.0000</td>\n",
       "      <td>NaN</td>\n",
       "      <td>S</td>\n",
       "      <td>1</td>\n",
       "      <td>1</td>\n",
       "      <td>0</td>\n",
       "    </tr>\n",
       "    <tr>\n",
       "      <th>888</th>\n",
       "      <td>1</td>\n",
       "      <td>Graham, Miss. Margaret Edith</td>\n",
       "      <td>1</td>\n",
       "      <td>19</td>\n",
       "      <td>0</td>\n",
       "      <td>0</td>\n",
       "      <td>112053</td>\n",
       "      <td>30.0000</td>\n",
       "      <td>B42</td>\n",
       "      <td>S</td>\n",
       "      <td>1</td>\n",
       "      <td>1</td>\n",
       "      <td>1</td>\n",
       "    </tr>\n",
       "    <tr>\n",
       "      <th>889</th>\n",
       "      <td>3</td>\n",
       "      <td>Johnston, Miss. Catherine Helen \"Carrie\"</td>\n",
       "      <td>1</td>\n",
       "      <td>21</td>\n",
       "      <td>1</td>\n",
       "      <td>2</td>\n",
       "      <td>W./C. 6607</td>\n",
       "      <td>23.4500</td>\n",
       "      <td>NaN</td>\n",
       "      <td>S</td>\n",
       "      <td>4</td>\n",
       "      <td>0</td>\n",
       "      <td>0</td>\n",
       "    </tr>\n",
       "    <tr>\n",
       "      <th>890</th>\n",
       "      <td>1</td>\n",
       "      <td>Behr, Mr. Karl Howell</td>\n",
       "      <td>0</td>\n",
       "      <td>26</td>\n",
       "      <td>0</td>\n",
       "      <td>0</td>\n",
       "      <td>111369</td>\n",
       "      <td>30.0000</td>\n",
       "      <td>C148</td>\n",
       "      <td>C</td>\n",
       "      <td>1</td>\n",
       "      <td>1</td>\n",
       "      <td>1</td>\n",
       "    </tr>\n",
       "    <tr>\n",
       "      <th>891</th>\n",
       "      <td>3</td>\n",
       "      <td>Dooley, Mr. Patrick</td>\n",
       "      <td>0</td>\n",
       "      <td>32</td>\n",
       "      <td>0</td>\n",
       "      <td>0</td>\n",
       "      <td>370376</td>\n",
       "      <td>7.7500</td>\n",
       "      <td>NaN</td>\n",
       "      <td>Q</td>\n",
       "      <td>1</td>\n",
       "      <td>1</td>\n",
       "      <td>0</td>\n",
       "    </tr>\n",
       "  </tbody>\n",
       "</table>\n",
       "<p>891 rows × 13 columns</p>\n",
       "</div>"
      ],
      "text/plain": [
       "             Pclass                                               Name  Sex  \\\n",
       "PassengerId                                                                   \n",
       "1                 3                            Braund, Mr. Owen Harris    0   \n",
       "2                 1  Cumings, Mrs. John Bradley (Florence Briggs Th...    1   \n",
       "3                 3                             Heikkinen, Miss. Laina    1   \n",
       "4                 1       Futrelle, Mrs. Jacques Heath (Lily May Peel)    1   \n",
       "5                 3                           Allen, Mr. William Henry    0   \n",
       "...             ...                                                ...  ...   \n",
       "887               2                              Montvila, Rev. Juozas    0   \n",
       "888               1                       Graham, Miss. Margaret Edith    1   \n",
       "889               3           Johnston, Miss. Catherine Helen \"Carrie\"    1   \n",
       "890               1                              Behr, Mr. Karl Howell    0   \n",
       "891               3                                Dooley, Mr. Patrick    0   \n",
       "\n",
       "             Age  SibSp  Parch            Ticket     Fare Cabin Embarked  \\\n",
       "PassengerId                                                                \n",
       "1             22      1      0         A/5 21171   7.2500   NaN        S   \n",
       "2             38      1      0          PC 17599  71.2833   C85        C   \n",
       "3             26      0      0  STON/O2. 3101282   7.9250   NaN        S   \n",
       "4             35      1      0            113803  53.1000  C123        S   \n",
       "5             35      0      0            373450   8.0500   NaN        S   \n",
       "...          ...    ...    ...               ...      ...   ...      ...   \n",
       "887           27      0      0            211536  13.0000   NaN        S   \n",
       "888           19      0      0            112053  30.0000   B42        S   \n",
       "889           21      1      2        W./C. 6607  23.4500   NaN        S   \n",
       "890           26      0      0            111369  30.0000  C148        C   \n",
       "891           32      0      0            370376   7.7500   NaN        Q   \n",
       "\n",
       "             Family_size  Is_alone  Survived  \n",
       "PassengerId                                   \n",
       "1                      2         0         0  \n",
       "2                      2         0         1  \n",
       "3                      1         1         1  \n",
       "4                      2         0         1  \n",
       "5                      1         1         0  \n",
       "...                  ...       ...       ...  \n",
       "887                    1         1         0  \n",
       "888                    1         1         1  \n",
       "889                    4         0         0  \n",
       "890                    1         1         1  \n",
       "891                    1         1         0  \n",
       "\n",
       "[891 rows x 13 columns]"
      ]
     },
     "execution_count": 10,
     "metadata": {},
     "output_type": "execute_result"
    }
   ],
   "source": [
    "# добавим признак с размером семьи и бинарный признак,\n",
    "# указывающий был ли человек без семьи \n",
    "df_train['Family_size'] = df_train['SibSp'] + df_train['Parch'] + 1\n",
    "df_train['Is_alone'] = df_train['Family_size'].apply(lambda x: int(x == 1))\n",
    "df_train = df_train.loc[:, ['Pclass', 'Name', 'Sex', 'Age', 'SibSp', 'Parch', 'Ticket', \n",
    "                     'Fare', 'Cabin', 'Embarked', 'Family_size', 'Is_alone', 'Survived']]\n",
    "df_train"
   ]
  },
  {
   "cell_type": "code",
   "execution_count": 9,
   "id": "957db902",
   "metadata": {
    "ExecuteTime": {
     "end_time": "2022-07-23T09:48:34.865458Z",
     "start_time": "2022-07-23T09:48:34.267567Z"
    }
   },
   "outputs": [
    {
     "data": {
      "image/png": "[encoded data removed]",
      "text/plain": [
       "<Figure size 576x576 with 1 Axes>"
      ]
     },
     "metadata": {
      "image/png": {
       "height": 465,
       "width": 477
      }
     },
     "output_type": "display_data"
    }
   ],
   "source": [
    "%config InlineBackend.figure_format = 'retina'\n",
    "fig = plt.figure(figsize=(8, 8))\n",
    "sns.heatmap(df_train.iloc[:, :-1].drop(columns=['Sex', 'Pclass', 'Is_alone']).corr(), \n",
    "            annot=True, cbar=False, cmap='coolwarm')\n",
    "plt.show()"
   ]
  },
  {
   "cell_type": "code",
   "execution_count": 10,
   "id": "4edc2dc6",
   "metadata": {
    "ExecuteTime": {
     "end_time": "2022-07-23T09:48:37.571085Z",
     "start_time": "2022-07-23T09:48:37.525500Z"
    }
   },
   "outputs": [
    {
     "data": {
      "text/html": [
       "<div>\n",
       "<style scoped>\n",
       "    .dataframe tbody tr th:only-of-type {\n",
       "        vertical-align: middle;\n",
       "    }\n",
       "\n",
       "    .dataframe tbody tr th {\n",
       "        vertical-align: top;\n",
       "    }\n",
       "\n",
       "    .dataframe thead th {\n",
       "        text-align: right;\n",
       "    }\n",
       "</style>\n",
       "<table border=\"1\" class=\"dataframe\">\n",
       "  <thead>\n",
       "    <tr style=\"text-align: right;\">\n",
       "      <th></th>\n",
       "      <th>Pclass</th>\n",
       "      <th>Sex</th>\n",
       "      <th>Age</th>\n",
       "      <th>SibSp</th>\n",
       "      <th>Parch</th>\n",
       "      <th>Fare</th>\n",
       "      <th>Family_size</th>\n",
       "      <th>Is_alone</th>\n",
       "      <th>Survived</th>\n",
       "    </tr>\n",
       "  </thead>\n",
       "  <tbody>\n",
       "    <tr>\n",
       "      <th>Pclass</th>\n",
       "      <td>1.000000</td>\n",
       "      <td>-0.131900</td>\n",
       "      <td>-0.414682</td>\n",
       "      <td>0.083081</td>\n",
       "      <td>0.018443</td>\n",
       "      <td>-0.549500</td>\n",
       "      <td>0.065997</td>\n",
       "      <td>0.135207</td>\n",
       "      <td>-0.338481</td>\n",
       "    </tr>\n",
       "    <tr>\n",
       "      <th>Sex</th>\n",
       "      <td>-0.131900</td>\n",
       "      <td>1.000000</td>\n",
       "      <td>-0.104584</td>\n",
       "      <td>0.114631</td>\n",
       "      <td>0.245489</td>\n",
       "      <td>0.182333</td>\n",
       "      <td>0.200988</td>\n",
       "      <td>-0.303646</td>\n",
       "      <td>0.543351</td>\n",
       "    </tr>\n",
       "    <tr>\n",
       "      <th>Age</th>\n",
       "      <td>-0.414682</td>\n",
       "      <td>-0.104584</td>\n",
       "      <td>1.000000</td>\n",
       "      <td>-0.250248</td>\n",
       "      <td>-0.175708</td>\n",
       "      <td>0.123250</td>\n",
       "      <td>-0.258817</td>\n",
       "      <td>0.175791</td>\n",
       "      <td>-0.060291</td>\n",
       "    </tr>\n",
       "    <tr>\n",
       "      <th>SibSp</th>\n",
       "      <td>0.083081</td>\n",
       "      <td>0.114631</td>\n",
       "      <td>-0.250248</td>\n",
       "      <td>1.000000</td>\n",
       "      <td>0.414838</td>\n",
       "      <td>0.159651</td>\n",
       "      <td>0.890712</td>\n",
       "      <td>-0.584471</td>\n",
       "      <td>-0.035322</td>\n",
       "    </tr>\n",
       "    <tr>\n",
       "      <th>Parch</th>\n",
       "      <td>0.018443</td>\n",
       "      <td>0.245489</td>\n",
       "      <td>-0.175708</td>\n",
       "      <td>0.414838</td>\n",
       "      <td>1.000000</td>\n",
       "      <td>0.216225</td>\n",
       "      <td>0.783111</td>\n",
       "      <td>-0.583398</td>\n",
       "      <td>0.081629</td>\n",
       "    </tr>\n",
       "    <tr>\n",
       "      <th>Fare</th>\n",
       "      <td>-0.549500</td>\n",
       "      <td>0.182333</td>\n",
       "      <td>0.123250</td>\n",
       "      <td>0.159651</td>\n",
       "      <td>0.216225</td>\n",
       "      <td>1.000000</td>\n",
       "      <td>0.217138</td>\n",
       "      <td>-0.271832</td>\n",
       "      <td>0.257307</td>\n",
       "    </tr>\n",
       "    <tr>\n",
       "      <th>Family_size</th>\n",
       "      <td>0.065997</td>\n",
       "      <td>0.200988</td>\n",
       "      <td>-0.258817</td>\n",
       "      <td>0.890712</td>\n",
       "      <td>0.783111</td>\n",
       "      <td>0.217138</td>\n",
       "      <td>1.000000</td>\n",
       "      <td>-0.690922</td>\n",
       "      <td>0.016639</td>\n",
       "    </tr>\n",
       "    <tr>\n",
       "      <th>Is_alone</th>\n",
       "      <td>0.135207</td>\n",
       "      <td>-0.303646</td>\n",
       "      <td>0.175791</td>\n",
       "      <td>-0.584471</td>\n",
       "      <td>-0.583398</td>\n",
       "      <td>-0.271832</td>\n",
       "      <td>-0.690922</td>\n",
       "      <td>1.000000</td>\n",
       "      <td>-0.203367</td>\n",
       "    </tr>\n",
       "    <tr>\n",
       "      <th>Survived</th>\n",
       "      <td>-0.338481</td>\n",
       "      <td>0.543351</td>\n",
       "      <td>-0.060291</td>\n",
       "      <td>-0.035322</td>\n",
       "      <td>0.081629</td>\n",
       "      <td>0.257307</td>\n",
       "      <td>0.016639</td>\n",
       "      <td>-0.203367</td>\n",
       "      <td>1.000000</td>\n",
       "    </tr>\n",
       "  </tbody>\n",
       "</table>\n",
       "</div>"
      ],
      "text/plain": [
       "               Pclass       Sex       Age     SibSp     Parch      Fare  \\\n",
       "Pclass       1.000000 -0.131900 -0.414682  0.083081  0.018443 -0.549500   \n",
       "Sex         -0.131900  1.000000 -0.104584  0.114631  0.245489  0.182333   \n",
       "Age         -0.414682 -0.104584  1.000000 -0.250248 -0.175708  0.123250   \n",
       "SibSp        0.083081  0.114631 -0.250248  1.000000  0.414838  0.159651   \n",
       "Parch        0.018443  0.245489 -0.175708  0.414838  1.000000  0.216225   \n",
       "Fare        -0.549500  0.182333  0.123250  0.159651  0.216225  1.000000   \n",
       "Family_size  0.065997  0.200988 -0.258817  0.890712  0.783111  0.217138   \n",
       "Is_alone     0.135207 -0.303646  0.175791 -0.584471 -0.583398 -0.271832   \n",
       "Survived    -0.338481  0.543351 -0.060291 -0.035322  0.081629  0.257307   \n",
       "\n",
       "             Family_size  Is_alone  Survived  \n",
       "Pclass          0.065997  0.135207 -0.338481  \n",
       "Sex             0.200988 -0.303646  0.543351  \n",
       "Age            -0.258817  0.175791 -0.060291  \n",
       "SibSp           0.890712 -0.584471 -0.035322  \n",
       "Parch           0.783111 -0.583398  0.081629  \n",
       "Fare            0.217138 -0.271832  0.257307  \n",
       "Family_size     1.000000 -0.690922  0.016639  \n",
       "Is_alone       -0.690922  1.000000 -0.203367  \n",
       "Survived        0.016639 -0.203367  1.000000  "
      ]
     },
     "execution_count": 10,
     "metadata": {},
     "output_type": "execute_result"
    }
   ],
   "source": [
    "df_train.corr()"
   ]
  },
  {
   "cell_type": "markdown",
   "id": "8d54c0b6",
   "metadata": {},
   "source": [
    "### Отрисуем бар плоты для категориальных фичей"
   ]
  },
  {
   "cell_type": "code",
   "execution_count": 11,
   "id": "6cd6c1a3",
   "metadata": {
    "ExecuteTime": {
     "end_time": "2022-07-23T09:49:41.595650Z",
     "start_time": "2022-07-23T09:49:41.070318Z"
    }
   },
   "outputs": [
    {
     "data": {
      "image/png": "[encoded data removed]",
      "text/plain": [
       "<Figure size 432x360 with 1 Axes>"
      ]
     },
     "metadata": {
      "image/png": {
       "height": 317,
       "width": 372
      }
     },
     "output_type": "display_data"
    }
   ],
   "source": [
    "def bar_plt(col_name, figsize=(6, 5), tick_label=None):\n",
    "    col_vc = df_train[col_name].value_counts().sort_index()\n",
    "    plt.figure(figsize=figsize)\n",
    "    plt.bar(col_vc.index, col_vc.values, tick_label=tick_label)\n",
    "    plt.title(f'bar-plot for {col_name}', fontsize=12, weight='bold')\n",
    "    plt.show()\n",
    "    \n",
    "bar_plt('Pclass', tick_label=['1', '2', '3'])"
   ]
  },
  {
   "cell_type": "markdown",
   "id": "f4db0001",
   "metadata": {},
   "source": [
    "Явный дисбаланс: значительное преобладание билетов 3 класса"
   ]
  },
  {
   "cell_type": "code",
   "execution_count": 17,
   "id": "51edc91a",
   "metadata": {
    "ExecuteTime": {
     "end_time": "2022-07-22T13:54:42.309372Z",
     "start_time": "2022-07-22T13:54:42.102735Z"
    }
   },
   "outputs": [
    {
     "data": {
      "image/png": "[encoded data removed]",
      "text/plain": [
       "<Figure size 432x360 with 1 Axes>"
      ]
     },
     "metadata": {
      "image/png": {
       "height": 317,
       "width": 372
      }
     },
     "output_type": "display_data"
    }
   ],
   "source": [
    "bar_plt('Sex', tick_label=['Male', 'Female'])"
   ]
  },
  {
   "cell_type": "markdown",
   "id": "5ba0b539",
   "metadata": {},
   "source": [
    "Больше мужчин"
   ]
  },
  {
   "cell_type": "code",
   "execution_count": 14,
   "id": "4020b29f",
   "metadata": {
    "ExecuteTime": {
     "end_time": "2022-07-22T13:52:59.120599Z",
     "start_time": "2022-07-22T13:52:58.791588Z"
    }
   },
   "outputs": [
    {
     "data": {
      "image/png": "[encoded data removed]",
      "text/plain": [
       "<Figure size 432x360 with 1 Axes>"
      ]
     },
     "metadata": {
      "image/png": {
       "height": 317,
       "width": 372
      }
     },
     "output_type": "display_data"
    }
   ],
   "source": [
    "bar_plt('Embarked')"
   ]
  },
  {
   "cell_type": "markdown",
   "id": "82392ac9",
   "metadata": {
    "ExecuteTime": {
     "end_time": "2022-07-22T13:54:34.812333Z",
     "start_time": "2022-07-22T13:54:34.792334Z"
    }
   },
   "source": [
    "Явный дисбаланс: значительное преобладание севших в порте S (Southampton)"
   ]
  },
  {
   "cell_type": "code",
   "execution_count": 14,
   "id": "9b003aac",
   "metadata": {
    "ExecuteTime": {
     "end_time": "2022-05-18T20:24:07.942960Z",
     "start_time": "2022-05-18T20:24:07.806961Z"
    }
   },
   "outputs": [
    {
     "data": {
      "image/png": "[encoded data removed]",
      "text/plain": [
       "<Figure size 432x360 with 1 Axes>"
      ]
     },
     "metadata": {
      "image/png": {
       "height": 317,
       "width": 372
      }
     },
     "output_type": "display_data"
    }
   ],
   "source": [
    "bar_plt('Survived', tick_label=['Dead', 'Survived'])"
   ]
  },
  {
   "cell_type": "markdown",
   "id": "e9a00156",
   "metadata": {},
   "source": [
    "В таргете также дисбаланс"
   ]
  },
  {
   "cell_type": "code",
   "execution_count": 13,
   "id": "42394994",
   "metadata": {
    "ExecuteTime": {
     "end_time": "2022-07-23T09:53:11.055197Z",
     "start_time": "2022-07-23T09:53:10.760201Z"
    }
   },
   "outputs": [
    {
     "data": {
      "image/png": "[encoded data removed]",
      "text/plain": [
       "<Figure size 432x360 with 1 Axes>"
      ]
     },
     "metadata": {
      "image/png": {
       "height": 317,
       "width": 372
      }
     },
     "output_type": "display_data"
    }
   ],
   "source": [
    "bar_plt('Is_alone', tick_label=['With family', 'Alone'])"
   ]
  },
  {
   "cell_type": "markdown",
   "id": "049507a9",
   "metadata": {},
   "source": [
    "Заметное преобладание одиноких"
   ]
  },
  {
   "cell_type": "code",
   "execution_count": 18,
   "id": "27c47c96",
   "metadata": {
    "ExecuteTime": {
     "end_time": "2022-07-22T13:56:00.331893Z",
     "start_time": "2022-07-22T13:55:58.777382Z"
    }
   },
   "outputs": [
    {
     "data": {
      "image/png": "[encoded data removed]",
      "text/plain": [
       "<Figure size 504x360 with 1 Axes>"
      ]
     },
     "metadata": {
      "image/png": {
       "height": 318,
       "width": 428
      }
     },
     "output_type": "display_data"
    }
   ],
   "source": [
    "plt.figure(figsize=(7, 5))\n",
    "df_train['Age'].hist()\n",
    "plt.title('Hist for age', fontsize=14, weight='bold')\n",
    "plt.show()"
   ]
  },
  {
   "cell_type": "code",
   "execution_count": 19,
   "id": "307e083e",
   "metadata": {
    "ExecuteTime": {
     "end_time": "2022-07-22T13:56:06.396629Z",
     "start_time": "2022-07-22T13:56:05.950646Z"
    }
   },
   "outputs": [
    {
     "data": {
      "image/png": "[encoded data removed]",
      "text/plain": [
       "<Figure size 504x360 with 1 Axes>"
      ]
     },
     "metadata": {
      "image/png": {
       "height": 318,
       "width": 428
      }
     },
     "output_type": "display_data"
    }
   ],
   "source": [
    "plt.figure(figsize=(7, 5))\n",
    "df_train['Fare'].hist()\n",
    "plt.title('Hist for fare', fontsize=14, weight='bold')\n",
    "plt.show()"
   ]
  },
  {
   "cell_type": "code",
   "execution_count": 14,
   "id": "ac7c84ab",
   "metadata": {
    "ExecuteTime": {
     "end_time": "2022-07-22T17:46:28.636778Z",
     "start_time": "2022-07-22T17:46:28.613777Z"
    }
   },
   "outputs": [
    {
     "data": {
      "text/plain": [
       "0.05948372615039282"
      ]
     },
     "execution_count": 14,
     "metadata": {},
     "output_type": "execute_result"
    }
   ],
   "source": [
    "df_train[df_train['Fare'] > 100].shape[0] / df_train.shape[0] "
   ]
  },
  {
   "cell_type": "markdown",
   "id": "30f926f0",
   "metadata": {},
   "source": [
    "доля пассажиров с билетами ценой больше 100 около 6% в трейне. В тесте примерно та же ситуация:"
   ]
  },
  {
   "cell_type": "code",
   "execution_count": 15,
   "id": "2977fd3a",
   "metadata": {
    "ExecuteTime": {
     "end_time": "2022-07-22T17:46:30.291692Z",
     "start_time": "2022-07-22T17:46:30.274705Z"
    }
   },
   "outputs": [
    {
     "data": {
      "text/plain": [
       "0.07416267942583732"
      ]
     },
     "execution_count": 15,
     "metadata": {},
     "output_type": "execute_result"
    }
   ],
   "source": [
    "df_test[df_test['Fare'] > 100].shape[0] / len(df_test)"
   ]
  },
  {
   "cell_type": "code",
   "execution_count": 16,
   "id": "4e1e0499",
   "metadata": {
    "ExecuteTime": {
     "end_time": "2022-07-22T17:46:32.321177Z",
     "start_time": "2022-07-22T17:46:31.748608Z"
    }
   },
   "outputs": [
    {
     "data": {
      "image/png": "[encoded data removed]",
      "text/plain": [
       "<Figure size 864x432 with 2 Axes>"
      ]
     },
     "metadata": {
      "image/png": {
       "height": 426,
       "width": 915
      }
     },
     "output_type": "display_data"
    }
   ],
   "source": [
    "fig, ax = plt.subplots(1, 2, figsize=(12, 6))\n",
    "sns.boxplot(x='Survived', y='Fare', data=df_train, ax=ax[0])\n",
    "ax[0].set_title('Box-plot Survived-Fare', weight='bold')\n",
    "sns.boxplot(x='Survived', y='Age', data=df_train, ax=ax[1])\n",
    "ax[1].set_title('Box-plot Survived-Age', weight='bold')\n",
    "fig.subplots_adjust(left=0, right=1, bottom=0.1, top=0.95,\n",
    "                    hspace=0.4, wspace=0.3)\n",
    "plt.show()"
   ]
  },
  {
   "cell_type": "code",
   "execution_count": 28,
   "id": "0103d8bf",
   "metadata": {
    "ExecuteTime": {
     "end_time": "2022-07-22T14:05:35.015493Z",
     "start_time": "2022-07-22T14:05:34.960587Z"
    }
   },
   "outputs": [
    {
     "data": {
      "text/html": [
       "<div>\n",
       "<style scoped>\n",
       "    .dataframe tbody tr th:only-of-type {\n",
       "        vertical-align: middle;\n",
       "    }\n",
       "\n",
       "    .dataframe tbody tr th {\n",
       "        vertical-align: top;\n",
       "    }\n",
       "\n",
       "    .dataframe thead th {\n",
       "        text-align: right;\n",
       "    }\n",
       "</style>\n",
       "<table border=\"1\" class=\"dataframe\">\n",
       "  <thead>\n",
       "    <tr style=\"text-align: right;\">\n",
       "      <th></th>\n",
       "      <th>Pclass</th>\n",
       "      <th>Name</th>\n",
       "      <th>Sex</th>\n",
       "      <th>Age</th>\n",
       "      <th>SibSp</th>\n",
       "      <th>Parch</th>\n",
       "      <th>Ticket</th>\n",
       "      <th>Fare</th>\n",
       "      <th>Cabin</th>\n",
       "      <th>Embarked</th>\n",
       "      <th>Survived</th>\n",
       "    </tr>\n",
       "    <tr>\n",
       "      <th>PassengerId</th>\n",
       "      <th></th>\n",
       "      <th></th>\n",
       "      <th></th>\n",
       "      <th></th>\n",
       "      <th></th>\n",
       "      <th></th>\n",
       "      <th></th>\n",
       "      <th></th>\n",
       "      <th></th>\n",
       "      <th></th>\n",
       "      <th></th>\n",
       "    </tr>\n",
       "  </thead>\n",
       "  <tbody>\n",
       "    <tr>\n",
       "      <th>780</th>\n",
       "      <td>1</td>\n",
       "      <td>Robert, Mrs. Edward Scott (Elisabeth Walton Mc...</td>\n",
       "      <td>1</td>\n",
       "      <td>43.0</td>\n",
       "      <td>0</td>\n",
       "      <td>1</td>\n",
       "      <td>24160</td>\n",
       "      <td>211.3375</td>\n",
       "      <td>B3</td>\n",
       "      <td>S</td>\n",
       "      <td>1</td>\n",
       "    </tr>\n",
       "    <tr>\n",
       "      <th>731</th>\n",
       "      <td>1</td>\n",
       "      <td>Allen, Miss. Elisabeth Walton</td>\n",
       "      <td>1</td>\n",
       "      <td>29.0</td>\n",
       "      <td>0</td>\n",
       "      <td>0</td>\n",
       "      <td>24160</td>\n",
       "      <td>211.3375</td>\n",
       "      <td>B5</td>\n",
       "      <td>S</td>\n",
       "      <td>1</td>\n",
       "    </tr>\n",
       "    <tr>\n",
       "      <th>690</th>\n",
       "      <td>1</td>\n",
       "      <td>Madill, Miss. Georgette Alexandra</td>\n",
       "      <td>1</td>\n",
       "      <td>15.0</td>\n",
       "      <td>0</td>\n",
       "      <td>1</td>\n",
       "      <td>24160</td>\n",
       "      <td>211.3375</td>\n",
       "      <td>B5</td>\n",
       "      <td>S</td>\n",
       "      <td>1</td>\n",
       "    </tr>\n",
       "    <tr>\n",
       "      <th>378</th>\n",
       "      <td>1</td>\n",
       "      <td>Widener, Mr. Harry Elkins</td>\n",
       "      <td>0</td>\n",
       "      <td>27.0</td>\n",
       "      <td>0</td>\n",
       "      <td>2</td>\n",
       "      <td>113503</td>\n",
       "      <td>211.5000</td>\n",
       "      <td>C82</td>\n",
       "      <td>C</td>\n",
       "      <td>0</td>\n",
       "    </tr>\n",
       "    <tr>\n",
       "      <th>528</th>\n",
       "      <td>1</td>\n",
       "      <td>Farthing, Mr. John</td>\n",
       "      <td>0</td>\n",
       "      <td>NaN</td>\n",
       "      <td>0</td>\n",
       "      <td>0</td>\n",
       "      <td>PC 17483</td>\n",
       "      <td>221.7792</td>\n",
       "      <td>C95</td>\n",
       "      <td>S</td>\n",
       "      <td>0</td>\n",
       "    </tr>\n",
       "    <tr>\n",
       "      <th>717</th>\n",
       "      <td>1</td>\n",
       "      <td>Endres, Miss. Caroline Louise</td>\n",
       "      <td>1</td>\n",
       "      <td>38.0</td>\n",
       "      <td>0</td>\n",
       "      <td>0</td>\n",
       "      <td>PC 17757</td>\n",
       "      <td>227.5250</td>\n",
       "      <td>C45</td>\n",
       "      <td>C</td>\n",
       "      <td>1</td>\n",
       "    </tr>\n",
       "    <tr>\n",
       "      <th>701</th>\n",
       "      <td>1</td>\n",
       "      <td>Astor, Mrs. John Jacob (Madeleine Talmadge Force)</td>\n",
       "      <td>1</td>\n",
       "      <td>18.0</td>\n",
       "      <td>1</td>\n",
       "      <td>0</td>\n",
       "      <td>PC 17757</td>\n",
       "      <td>227.5250</td>\n",
       "      <td>C62 C64</td>\n",
       "      <td>C</td>\n",
       "      <td>1</td>\n",
       "    </tr>\n",
       "    <tr>\n",
       "      <th>381</th>\n",
       "      <td>1</td>\n",
       "      <td>Bidois, Miss. Rosalie</td>\n",
       "      <td>1</td>\n",
       "      <td>42.0</td>\n",
       "      <td>0</td>\n",
       "      <td>0</td>\n",
       "      <td>PC 17757</td>\n",
       "      <td>227.5250</td>\n",
       "      <td>NaN</td>\n",
       "      <td>C</td>\n",
       "      <td>1</td>\n",
       "    </tr>\n",
       "    <tr>\n",
       "      <th>558</th>\n",
       "      <td>1</td>\n",
       "      <td>Robbins, Mr. Victor</td>\n",
       "      <td>0</td>\n",
       "      <td>NaN</td>\n",
       "      <td>0</td>\n",
       "      <td>0</td>\n",
       "      <td>PC 17757</td>\n",
       "      <td>227.5250</td>\n",
       "      <td>NaN</td>\n",
       "      <td>C</td>\n",
       "      <td>0</td>\n",
       "    </tr>\n",
       "    <tr>\n",
       "      <th>119</th>\n",
       "      <td>1</td>\n",
       "      <td>Baxter, Mr. Quigg Edmond</td>\n",
       "      <td>0</td>\n",
       "      <td>24.0</td>\n",
       "      <td>0</td>\n",
       "      <td>1</td>\n",
       "      <td>PC 17558</td>\n",
       "      <td>247.5208</td>\n",
       "      <td>B58 B60</td>\n",
       "      <td>C</td>\n",
       "      <td>0</td>\n",
       "    </tr>\n",
       "    <tr>\n",
       "      <th>300</th>\n",
       "      <td>1</td>\n",
       "      <td>Baxter, Mrs. James (Helene DeLaudeniere Chaput)</td>\n",
       "      <td>1</td>\n",
       "      <td>50.0</td>\n",
       "      <td>0</td>\n",
       "      <td>1</td>\n",
       "      <td>PC 17558</td>\n",
       "      <td>247.5208</td>\n",
       "      <td>B58 B60</td>\n",
       "      <td>C</td>\n",
       "      <td>1</td>\n",
       "    </tr>\n",
       "    <tr>\n",
       "      <th>312</th>\n",
       "      <td>1</td>\n",
       "      <td>Ryerson, Miss. Emily Borie</td>\n",
       "      <td>1</td>\n",
       "      <td>18.0</td>\n",
       "      <td>2</td>\n",
       "      <td>2</td>\n",
       "      <td>PC 17608</td>\n",
       "      <td>262.3750</td>\n",
       "      <td>B57 B59 B63 B66</td>\n",
       "      <td>C</td>\n",
       "      <td>1</td>\n",
       "    </tr>\n",
       "    <tr>\n",
       "      <th>743</th>\n",
       "      <td>1</td>\n",
       "      <td>Ryerson, Miss. Susan Parker \"Suzette\"</td>\n",
       "      <td>1</td>\n",
       "      <td>21.0</td>\n",
       "      <td>2</td>\n",
       "      <td>2</td>\n",
       "      <td>PC 17608</td>\n",
       "      <td>262.3750</td>\n",
       "      <td>B57 B59 B63 B66</td>\n",
       "      <td>C</td>\n",
       "      <td>1</td>\n",
       "    </tr>\n",
       "    <tr>\n",
       "      <th>28</th>\n",
       "      <td>1</td>\n",
       "      <td>Fortune, Mr. Charles Alexander</td>\n",
       "      <td>0</td>\n",
       "      <td>19.0</td>\n",
       "      <td>3</td>\n",
       "      <td>2</td>\n",
       "      <td>19950</td>\n",
       "      <td>263.0000</td>\n",
       "      <td>C23 C25 C27</td>\n",
       "      <td>S</td>\n",
       "      <td>0</td>\n",
       "    </tr>\n",
       "    <tr>\n",
       "      <th>342</th>\n",
       "      <td>1</td>\n",
       "      <td>Fortune, Miss. Alice Elizabeth</td>\n",
       "      <td>1</td>\n",
       "      <td>24.0</td>\n",
       "      <td>3</td>\n",
       "      <td>2</td>\n",
       "      <td>19950</td>\n",
       "      <td>263.0000</td>\n",
       "      <td>C23 C25 C27</td>\n",
       "      <td>S</td>\n",
       "      <td>1</td>\n",
       "    </tr>\n",
       "    <tr>\n",
       "      <th>89</th>\n",
       "      <td>1</td>\n",
       "      <td>Fortune, Miss. Mabel Helen</td>\n",
       "      <td>1</td>\n",
       "      <td>23.0</td>\n",
       "      <td>3</td>\n",
       "      <td>2</td>\n",
       "      <td>19950</td>\n",
       "      <td>263.0000</td>\n",
       "      <td>C23 C25 C27</td>\n",
       "      <td>S</td>\n",
       "      <td>1</td>\n",
       "    </tr>\n",
       "    <tr>\n",
       "      <th>439</th>\n",
       "      <td>1</td>\n",
       "      <td>Fortune, Mr. Mark</td>\n",
       "      <td>0</td>\n",
       "      <td>64.0</td>\n",
       "      <td>1</td>\n",
       "      <td>4</td>\n",
       "      <td>19950</td>\n",
       "      <td>263.0000</td>\n",
       "      <td>C23 C25 C27</td>\n",
       "      <td>S</td>\n",
       "      <td>0</td>\n",
       "    </tr>\n",
       "    <tr>\n",
       "      <th>259</th>\n",
       "      <td>1</td>\n",
       "      <td>Ward, Miss. Anna</td>\n",
       "      <td>1</td>\n",
       "      <td>35.0</td>\n",
       "      <td>0</td>\n",
       "      <td>0</td>\n",
       "      <td>PC 17755</td>\n",
       "      <td>512.3292</td>\n",
       "      <td>NaN</td>\n",
       "      <td>C</td>\n",
       "      <td>1</td>\n",
       "    </tr>\n",
       "    <tr>\n",
       "      <th>738</th>\n",
       "      <td>1</td>\n",
       "      <td>Lesurer, Mr. Gustave J</td>\n",
       "      <td>0</td>\n",
       "      <td>35.0</td>\n",
       "      <td>0</td>\n",
       "      <td>0</td>\n",
       "      <td>PC 17755</td>\n",
       "      <td>512.3292</td>\n",
       "      <td>B101</td>\n",
       "      <td>C</td>\n",
       "      <td>1</td>\n",
       "    </tr>\n",
       "    <tr>\n",
       "      <th>680</th>\n",
       "      <td>1</td>\n",
       "      <td>Cardeza, Mr. Thomas Drake Martinez</td>\n",
       "      <td>0</td>\n",
       "      <td>36.0</td>\n",
       "      <td>0</td>\n",
       "      <td>1</td>\n",
       "      <td>PC 17755</td>\n",
       "      <td>512.3292</td>\n",
       "      <td>B51 B53 B55</td>\n",
       "      <td>C</td>\n",
       "      <td>1</td>\n",
       "    </tr>\n",
       "  </tbody>\n",
       "</table>\n",
       "</div>"
      ],
      "text/plain": [
       "             Pclass                                               Name  Sex  \\\n",
       "PassengerId                                                                   \n",
       "780               1  Robert, Mrs. Edward Scott (Elisabeth Walton Mc...    1   \n",
       "731               1                      Allen, Miss. Elisabeth Walton    1   \n",
       "690               1                  Madill, Miss. Georgette Alexandra    1   \n",
       "378               1                          Widener, Mr. Harry Elkins    0   \n",
       "528               1                                 Farthing, Mr. John    0   \n",
       "717               1                      Endres, Miss. Caroline Louise    1   \n",
       "701               1  Astor, Mrs. John Jacob (Madeleine Talmadge Force)    1   \n",
       "381               1                              Bidois, Miss. Rosalie    1   \n",
       "558               1                                Robbins, Mr. Victor    0   \n",
       "119               1                           Baxter, Mr. Quigg Edmond    0   \n",
       "300               1    Baxter, Mrs. James (Helene DeLaudeniere Chaput)    1   \n",
       "312               1                         Ryerson, Miss. Emily Borie    1   \n",
       "743               1              Ryerson, Miss. Susan Parker \"Suzette\"    1   \n",
       "28                1                     Fortune, Mr. Charles Alexander    0   \n",
       "342               1                     Fortune, Miss. Alice Elizabeth    1   \n",
       "89                1                         Fortune, Miss. Mabel Helen    1   \n",
       "439               1                                  Fortune, Mr. Mark    0   \n",
       "259               1                                   Ward, Miss. Anna    1   \n",
       "738               1                             Lesurer, Mr. Gustave J    0   \n",
       "680               1                 Cardeza, Mr. Thomas Drake Martinez    0   \n",
       "\n",
       "              Age  SibSp  Parch    Ticket      Fare            Cabin Embarked  \\\n",
       "PassengerId                                                                     \n",
       "780          43.0      0      1     24160  211.3375               B3        S   \n",
       "731          29.0      0      0     24160  211.3375               B5        S   \n",
       "690          15.0      0      1     24160  211.3375               B5        S   \n",
       "378          27.0      0      2    113503  211.5000              C82        C   \n",
       "528           NaN      0      0  PC 17483  221.7792              C95        S   \n",
       "717          38.0      0      0  PC 17757  227.5250              C45        C   \n",
       "701          18.0      1      0  PC 17757  227.5250          C62 C64        C   \n",
       "381          42.0      0      0  PC 17757  227.5250              NaN        C   \n",
       "558           NaN      0      0  PC 17757  227.5250              NaN        C   \n",
       "119          24.0      0      1  PC 17558  247.5208          B58 B60        C   \n",
       "300          50.0      0      1  PC 17558  247.5208          B58 B60        C   \n",
       "312          18.0      2      2  PC 17608  262.3750  B57 B59 B63 B66        C   \n",
       "743          21.0      2      2  PC 17608  262.3750  B57 B59 B63 B66        C   \n",
       "28           19.0      3      2     19950  263.0000      C23 C25 C27        S   \n",
       "342          24.0      3      2     19950  263.0000      C23 C25 C27        S   \n",
       "89           23.0      3      2     19950  263.0000      C23 C25 C27        S   \n",
       "439          64.0      1      4     19950  263.0000      C23 C25 C27        S   \n",
       "259          35.0      0      0  PC 17755  512.3292              NaN        C   \n",
       "738          35.0      0      0  PC 17755  512.3292             B101        C   \n",
       "680          36.0      0      1  PC 17755  512.3292      B51 B53 B55        C   \n",
       "\n",
       "             Survived  \n",
       "PassengerId            \n",
       "780                 1  \n",
       "731                 1  \n",
       "690                 1  \n",
       "378                 0  \n",
       "528                 0  \n",
       "717                 1  \n",
       "701                 1  \n",
       "381                 1  \n",
       "558                 0  \n",
       "119                 0  \n",
       "300                 1  \n",
       "312                 1  \n",
       "743                 1  \n",
       "28                  0  \n",
       "342                 1  \n",
       "89                  1  \n",
       "439                 0  \n",
       "259                 1  \n",
       "738                 1  \n",
       "680                 1  "
      ]
     },
     "execution_count": 28,
     "metadata": {},
     "output_type": "execute_result"
    }
   ],
   "source": [
    "df_train[df_train['Fare'] >= 200].sort_values(by='Fare')"
   ]
  },
  {
   "cell_type": "code",
   "execution_count": 29,
   "id": "742ea31c",
   "metadata": {
    "ExecuteTime": {
     "end_time": "2022-07-22T14:05:37.208332Z",
     "start_time": "2022-07-22T14:05:37.190299Z"
    }
   },
   "outputs": [
    {
     "data": {
      "text/plain": [
       "0.7"
      ]
     },
     "execution_count": 29,
     "metadata": {},
     "output_type": "execute_result"
    }
   ],
   "source": [
    "df_train[df_train['Fare'] >= 200]['Survived'].mean()"
   ]
  },
  {
   "cell_type": "code",
   "execution_count": 30,
   "id": "188fc6e1",
   "metadata": {
    "ExecuteTime": {
     "end_time": "2022-07-22T14:05:40.699344Z",
     "start_time": "2022-07-22T14:05:40.632154Z"
    }
   },
   "outputs": [
    {
     "data": {
      "text/html": [
       "<div>\n",
       "<style scoped>\n",
       "    .dataframe tbody tr th:only-of-type {\n",
       "        vertical-align: middle;\n",
       "    }\n",
       "\n",
       "    .dataframe tbody tr th {\n",
       "        vertical-align: top;\n",
       "    }\n",
       "\n",
       "    .dataframe thead th {\n",
       "        text-align: right;\n",
       "    }\n",
       "</style>\n",
       "<table border=\"1\" class=\"dataframe\">\n",
       "  <thead>\n",
       "    <tr style=\"text-align: right;\">\n",
       "      <th></th>\n",
       "      <th>Pclass</th>\n",
       "      <th>Sex</th>\n",
       "      <th>Age</th>\n",
       "      <th>SibSp</th>\n",
       "      <th>Parch</th>\n",
       "      <th>Fare</th>\n",
       "      <th>Survived</th>\n",
       "    </tr>\n",
       "  </thead>\n",
       "  <tbody>\n",
       "    <tr>\n",
       "      <th>count</th>\n",
       "      <td>891.000000</td>\n",
       "      <td>891.000000</td>\n",
       "      <td>714.000000</td>\n",
       "      <td>891.000000</td>\n",
       "      <td>891.000000</td>\n",
       "      <td>891.000000</td>\n",
       "      <td>891.000000</td>\n",
       "    </tr>\n",
       "    <tr>\n",
       "      <th>mean</th>\n",
       "      <td>2.308642</td>\n",
       "      <td>0.352413</td>\n",
       "      <td>29.699118</td>\n",
       "      <td>0.523008</td>\n",
       "      <td>0.381594</td>\n",
       "      <td>32.204208</td>\n",
       "      <td>0.383838</td>\n",
       "    </tr>\n",
       "    <tr>\n",
       "      <th>std</th>\n",
       "      <td>0.836071</td>\n",
       "      <td>0.477990</td>\n",
       "      <td>14.526497</td>\n",
       "      <td>1.102743</td>\n",
       "      <td>0.806057</td>\n",
       "      <td>49.693429</td>\n",
       "      <td>0.486592</td>\n",
       "    </tr>\n",
       "    <tr>\n",
       "      <th>min</th>\n",
       "      <td>1.000000</td>\n",
       "      <td>0.000000</td>\n",
       "      <td>0.420000</td>\n",
       "      <td>0.000000</td>\n",
       "      <td>0.000000</td>\n",
       "      <td>0.000000</td>\n",
       "      <td>0.000000</td>\n",
       "    </tr>\n",
       "    <tr>\n",
       "      <th>25%</th>\n",
       "      <td>2.000000</td>\n",
       "      <td>0.000000</td>\n",
       "      <td>20.125000</td>\n",
       "      <td>0.000000</td>\n",
       "      <td>0.000000</td>\n",
       "      <td>7.910400</td>\n",
       "      <td>0.000000</td>\n",
       "    </tr>\n",
       "    <tr>\n",
       "      <th>50%</th>\n",
       "      <td>3.000000</td>\n",
       "      <td>0.000000</td>\n",
       "      <td>28.000000</td>\n",
       "      <td>0.000000</td>\n",
       "      <td>0.000000</td>\n",
       "      <td>14.454200</td>\n",
       "      <td>0.000000</td>\n",
       "    </tr>\n",
       "    <tr>\n",
       "      <th>75%</th>\n",
       "      <td>3.000000</td>\n",
       "      <td>1.000000</td>\n",
       "      <td>38.000000</td>\n",
       "      <td>1.000000</td>\n",
       "      <td>0.000000</td>\n",
       "      <td>31.000000</td>\n",
       "      <td>1.000000</td>\n",
       "    </tr>\n",
       "    <tr>\n",
       "      <th>max</th>\n",
       "      <td>3.000000</td>\n",
       "      <td>1.000000</td>\n",
       "      <td>80.000000</td>\n",
       "      <td>8.000000</td>\n",
       "      <td>6.000000</td>\n",
       "      <td>512.329200</td>\n",
       "      <td>1.000000</td>\n",
       "    </tr>\n",
       "  </tbody>\n",
       "</table>\n",
       "</div>"
      ],
      "text/plain": [
       "           Pclass         Sex         Age       SibSp       Parch        Fare  \\\n",
       "count  891.000000  891.000000  714.000000  891.000000  891.000000  891.000000   \n",
       "mean     2.308642    0.352413   29.699118    0.523008    0.381594   32.204208   \n",
       "std      0.836071    0.477990   14.526497    1.102743    0.806057   49.693429   \n",
       "min      1.000000    0.000000    0.420000    0.000000    0.000000    0.000000   \n",
       "25%      2.000000    0.000000   20.125000    0.000000    0.000000    7.910400   \n",
       "50%      3.000000    0.000000   28.000000    0.000000    0.000000   14.454200   \n",
       "75%      3.000000    1.000000   38.000000    1.000000    0.000000   31.000000   \n",
       "max      3.000000    1.000000   80.000000    8.000000    6.000000  512.329200   \n",
       "\n",
       "         Survived  \n",
       "count  891.000000  \n",
       "mean     0.383838  \n",
       "std      0.486592  \n",
       "min      0.000000  \n",
       "25%      0.000000  \n",
       "50%      0.000000  \n",
       "75%      1.000000  \n",
       "max      1.000000  "
      ]
     },
     "execution_count": 30,
     "metadata": {},
     "output_type": "execute_result"
    }
   ],
   "source": [
    "df_train.select_dtypes('number').describe()"
   ]
  },
  {
   "cell_type": "code",
   "execution_count": 14,
   "id": "81caaa09",
   "metadata": {
    "ExecuteTime": {
     "end_time": "2022-07-23T09:55:39.714887Z",
     "start_time": "2022-07-23T09:55:39.697887Z"
    }
   },
   "outputs": [],
   "source": [
    "# df_train[df_train['Name'].str.startswith('Fortune')]"
   ]
  },
  {
   "cell_type": "code",
   "execution_count": 32,
   "id": "5efc103e",
   "metadata": {
    "ExecuteTime": {
     "end_time": "2022-07-22T14:08:31.514923Z",
     "start_time": "2022-07-22T14:08:31.408763Z"
    }
   },
   "outputs": [
    {
     "data": {
      "text/plain": [
       "False"
      ]
     },
     "execution_count": 32,
     "metadata": {},
     "output_type": "execute_result"
    }
   ],
   "source": [
    "# проверка банальных ошибок в данных, связанных с полом\n",
    "any(df_train.apply(lambda x: (x.Name.split()[1] in ('Miss.', 'Mrs.') and x.Sex == 0) or\n",
    "               (x.Name.split()[1] in ('Mr.', 'Master.') and x.Sex == 1), axis=1))"
   ]
  },
  {
   "cell_type": "code",
   "execution_count": 17,
   "id": "b52334cc",
   "metadata": {
    "ExecuteTime": {
     "end_time": "2022-07-22T17:50:06.711336Z",
     "start_time": "2022-07-22T17:50:06.694656Z"
    }
   },
   "outputs": [],
   "source": [
    "# # посчитаем долю выживших с одинаковым билетом\n",
    "# df_mean_surv = df_train.groupby('Ticket').mean()['Survived'] \\\n",
    "#                        .to_frame().rename(columns={'Survived': 'Mean_survived'})\n",
    "# df_train = df_train.join(df_mean_surv, on='Ticket', how='inner', lsuffix='', rsuffix='_j')\n",
    "# df_train.sort_index(inplace=True)"
   ]
  },
  {
   "cell_type": "code",
   "execution_count": 14,
   "id": "8393e1c0",
   "metadata": {
    "ExecuteTime": {
     "end_time": "2022-06-07T08:52:49.447012Z",
     "start_time": "2022-06-07T08:52:49.433007Z"
    }
   },
   "outputs": [],
   "source": [
    "# s = df_train[df_train['Name'].str.contains('Miss', regex=False)]['Age'].isna()\n",
    "# df_train.loc[s[s].index]"
   ]
  },
  {
   "cell_type": "code",
   "execution_count": 12,
   "id": "d237a236",
   "metadata": {
    "ExecuteTime": {
     "end_time": "2022-07-23T10:18:53.492855Z",
     "start_time": "2022-07-23T10:18:53.470800Z"
    }
   },
   "outputs": [],
   "source": [
    "df = df_train.copy()\n",
    "df = df.reset_index().drop(columns='PassengerId')"
   ]
  },
  {
   "cell_type": "code",
   "execution_count": 14,
   "id": "85f26510",
   "metadata": {
    "ExecuteTime": {
     "end_time": "2022-07-23T10:19:13.099430Z",
     "start_time": "2022-07-23T10:19:13.084353Z"
    }
   },
   "outputs": [
    {
     "data": {
      "text/plain": [
       "Mr.          517\n",
       "Miss.        182\n",
       "Mrs.         125\n",
       "Master.       40\n",
       "Dr.            7\n",
       "Rev.           6\n",
       "Mlle.          2\n",
       "Major.         2\n",
       "Col.           2\n",
       "the            1\n",
       "Capt.          1\n",
       "Ms.            1\n",
       "Sir.           1\n",
       "Lady.          1\n",
       "Mme.           1\n",
       "Don.           1\n",
       "Jonkheer.      1\n",
       "Name: Title, dtype: int64"
      ]
     },
     "execution_count": 14,
     "metadata": {},
     "output_type": "execute_result"
    }
   ],
   "source": [
    "df['Title'] = df['Name'].apply(lambda x: x.split(', ')[1].split()[0])\n",
    "df['Title'].value_counts()  # посчитаем число людей с разной приставкой к имени"
   ]
  },
  {
   "cell_type": "markdown",
   "id": "8b614c30",
   "metadata": {},
   "source": [
    "\"the\" - соответствует \"the Countess\""
   ]
  },
  {
   "cell_type": "code",
   "execution_count": 15,
   "id": "efb814ca",
   "metadata": {
    "ExecuteTime": {
     "end_time": "2022-07-23T10:19:33.892235Z",
     "start_time": "2022-07-23T10:19:33.875131Z"
    }
   },
   "outputs": [
    {
     "data": {
      "text/plain": [
       "Dr.          7\n",
       "Rev.         6\n",
       "Mlle.        2\n",
       "Major.       2\n",
       "Col.         2\n",
       "the          1\n",
       "Capt.        1\n",
       "Ms.          1\n",
       "Sir.         1\n",
       "Lady.        1\n",
       "Mme.         1\n",
       "Don.         1\n",
       "Jonkheer.    1\n",
       "Name: Title, dtype: int64"
      ]
     },
     "execution_count": 15,
     "metadata": {},
     "output_type": "execute_result"
    }
   ],
   "source": [
    "value_cnt = df['Title'].value_counts()\n",
    "value_cnt[value_cnt < 10]"
   ]
  },
  {
   "cell_type": "code",
   "execution_count": 16,
   "id": "5a27b45b",
   "metadata": {
    "ExecuteTime": {
     "end_time": "2022-07-23T10:19:41.706851Z",
     "start_time": "2022-07-23T10:19:41.671848Z"
    }
   },
   "outputs": [
    {
     "data": {
      "text/html": [
       "<div>\n",
       "<style scoped>\n",
       "    .dataframe tbody tr th:only-of-type {\n",
       "        vertical-align: middle;\n",
       "    }\n",
       "\n",
       "    .dataframe tbody tr th {\n",
       "        vertical-align: top;\n",
       "    }\n",
       "\n",
       "    .dataframe thead th {\n",
       "        text-align: right;\n",
       "    }\n",
       "</style>\n",
       "<table border=\"1\" class=\"dataframe\">\n",
       "  <thead>\n",
       "    <tr style=\"text-align: right;\">\n",
       "      <th></th>\n",
       "      <th>Survived</th>\n",
       "    </tr>\n",
       "    <tr>\n",
       "      <th>Title</th>\n",
       "      <th></th>\n",
       "    </tr>\n",
       "  </thead>\n",
       "  <tbody>\n",
       "    <tr>\n",
       "      <th>Col.</th>\n",
       "      <td>0.500000</td>\n",
       "    </tr>\n",
       "    <tr>\n",
       "      <th>Dr.</th>\n",
       "      <td>0.428571</td>\n",
       "    </tr>\n",
       "    <tr>\n",
       "      <th>Major.</th>\n",
       "      <td>0.500000</td>\n",
       "    </tr>\n",
       "    <tr>\n",
       "      <th>Mlle.</th>\n",
       "      <td>1.000000</td>\n",
       "    </tr>\n",
       "    <tr>\n",
       "      <th>Rev.</th>\n",
       "      <td>0.000000</td>\n",
       "    </tr>\n",
       "  </tbody>\n",
       "</table>\n",
       "</div>"
      ],
      "text/plain": [
       "        Survived\n",
       "Title           \n",
       "Col.    0.500000\n",
       "Dr.     0.428571\n",
       "Major.  0.500000\n",
       "Mlle.   1.000000\n",
       "Rev.    0.000000"
      ]
     },
     "execution_count": 16,
     "metadata": {},
     "output_type": "execute_result"
    }
   ],
   "source": [
    "df[df['Title'].isin(value_cnt[(value_cnt < 10)\n",
    "                              & (value_cnt > 1)].index)].groupby('Title').agg(\n",
    "                                  {'Survived': 'mean'})"
   ]
  },
  {
   "cell_type": "code",
   "execution_count": 17,
   "id": "00118278",
   "metadata": {
    "ExecuteTime": {
     "end_time": "2022-07-23T10:19:44.109872Z",
     "start_time": "2022-07-23T10:19:44.030840Z"
    }
   },
   "outputs": [
    {
     "data": {
      "text/html": [
       "<div>\n",
       "<style scoped>\n",
       "    .dataframe tbody tr th:only-of-type {\n",
       "        vertical-align: middle;\n",
       "    }\n",
       "\n",
       "    .dataframe tbody tr th {\n",
       "        vertical-align: top;\n",
       "    }\n",
       "\n",
       "    .dataframe thead th {\n",
       "        text-align: right;\n",
       "    }\n",
       "</style>\n",
       "<table border=\"1\" class=\"dataframe\">\n",
       "  <thead>\n",
       "    <tr style=\"text-align: right;\">\n",
       "      <th></th>\n",
       "      <th>Pclass</th>\n",
       "      <th>Name</th>\n",
       "      <th>Sex</th>\n",
       "      <th>Age</th>\n",
       "      <th>SibSp</th>\n",
       "      <th>Parch</th>\n",
       "      <th>Ticket</th>\n",
       "      <th>Fare</th>\n",
       "      <th>Cabin</th>\n",
       "      <th>Embarked</th>\n",
       "      <th>Family_size</th>\n",
       "      <th>Is_alone</th>\n",
       "      <th>Survived</th>\n",
       "      <th>Title</th>\n",
       "    </tr>\n",
       "  </thead>\n",
       "  <tbody>\n",
       "    <tr>\n",
       "      <th>0</th>\n",
       "      <td>3</td>\n",
       "      <td>Braund, Mr. Owen Harris</td>\n",
       "      <td>0</td>\n",
       "      <td>22</td>\n",
       "      <td>1</td>\n",
       "      <td>0</td>\n",
       "      <td>A/5 21171</td>\n",
       "      <td>7.2500</td>\n",
       "      <td>NaN</td>\n",
       "      <td>S</td>\n",
       "      <td>2</td>\n",
       "      <td>0</td>\n",
       "      <td>0</td>\n",
       "      <td>Mr.</td>\n",
       "    </tr>\n",
       "    <tr>\n",
       "      <th>1</th>\n",
       "      <td>1</td>\n",
       "      <td>Cumings, Mrs. John Bradley (Florence Briggs Th...</td>\n",
       "      <td>1</td>\n",
       "      <td>38</td>\n",
       "      <td>1</td>\n",
       "      <td>0</td>\n",
       "      <td>PC 17599</td>\n",
       "      <td>71.2833</td>\n",
       "      <td>C85</td>\n",
       "      <td>C</td>\n",
       "      <td>2</td>\n",
       "      <td>0</td>\n",
       "      <td>1</td>\n",
       "      <td>Mrs.</td>\n",
       "    </tr>\n",
       "    <tr>\n",
       "      <th>2</th>\n",
       "      <td>3</td>\n",
       "      <td>Heikkinen, Miss. Laina</td>\n",
       "      <td>1</td>\n",
       "      <td>26</td>\n",
       "      <td>0</td>\n",
       "      <td>0</td>\n",
       "      <td>STON/O2. 3101282</td>\n",
       "      <td>7.9250</td>\n",
       "      <td>NaN</td>\n",
       "      <td>S</td>\n",
       "      <td>1</td>\n",
       "      <td>1</td>\n",
       "      <td>1</td>\n",
       "      <td>Miss.</td>\n",
       "    </tr>\n",
       "    <tr>\n",
       "      <th>3</th>\n",
       "      <td>1</td>\n",
       "      <td>Futrelle, Mrs. Jacques Heath (Lily May Peel)</td>\n",
       "      <td>1</td>\n",
       "      <td>35</td>\n",
       "      <td>1</td>\n",
       "      <td>0</td>\n",
       "      <td>113803</td>\n",
       "      <td>53.1000</td>\n",
       "      <td>C123</td>\n",
       "      <td>S</td>\n",
       "      <td>2</td>\n",
       "      <td>0</td>\n",
       "      <td>1</td>\n",
       "      <td>Mrs.</td>\n",
       "    </tr>\n",
       "    <tr>\n",
       "      <th>4</th>\n",
       "      <td>3</td>\n",
       "      <td>Allen, Mr. William Henry</td>\n",
       "      <td>0</td>\n",
       "      <td>35</td>\n",
       "      <td>0</td>\n",
       "      <td>0</td>\n",
       "      <td>373450</td>\n",
       "      <td>8.0500</td>\n",
       "      <td>NaN</td>\n",
       "      <td>S</td>\n",
       "      <td>1</td>\n",
       "      <td>1</td>\n",
       "      <td>0</td>\n",
       "      <td>Mr.</td>\n",
       "    </tr>\n",
       "    <tr>\n",
       "      <th>...</th>\n",
       "      <td>...</td>\n",
       "      <td>...</td>\n",
       "      <td>...</td>\n",
       "      <td>...</td>\n",
       "      <td>...</td>\n",
       "      <td>...</td>\n",
       "      <td>...</td>\n",
       "      <td>...</td>\n",
       "      <td>...</td>\n",
       "      <td>...</td>\n",
       "      <td>...</td>\n",
       "      <td>...</td>\n",
       "      <td>...</td>\n",
       "      <td>...</td>\n",
       "    </tr>\n",
       "    <tr>\n",
       "      <th>886</th>\n",
       "      <td>2</td>\n",
       "      <td>Montvila, Rev. Juozas</td>\n",
       "      <td>0</td>\n",
       "      <td>27</td>\n",
       "      <td>0</td>\n",
       "      <td>0</td>\n",
       "      <td>211536</td>\n",
       "      <td>13.0000</td>\n",
       "      <td>NaN</td>\n",
       "      <td>S</td>\n",
       "      <td>1</td>\n",
       "      <td>1</td>\n",
       "      <td>0</td>\n",
       "      <td>other</td>\n",
       "    </tr>\n",
       "    <tr>\n",
       "      <th>887</th>\n",
       "      <td>1</td>\n",
       "      <td>Graham, Miss. Margaret Edith</td>\n",
       "      <td>1</td>\n",
       "      <td>19</td>\n",
       "      <td>0</td>\n",
       "      <td>0</td>\n",
       "      <td>112053</td>\n",
       "      <td>30.0000</td>\n",
       "      <td>B42</td>\n",
       "      <td>S</td>\n",
       "      <td>1</td>\n",
       "      <td>1</td>\n",
       "      <td>1</td>\n",
       "      <td>Miss.</td>\n",
       "    </tr>\n",
       "    <tr>\n",
       "      <th>888</th>\n",
       "      <td>3</td>\n",
       "      <td>Johnston, Miss. Catherine Helen \"Carrie\"</td>\n",
       "      <td>1</td>\n",
       "      <td>21</td>\n",
       "      <td>1</td>\n",
       "      <td>2</td>\n",
       "      <td>W./C. 6607</td>\n",
       "      <td>23.4500</td>\n",
       "      <td>NaN</td>\n",
       "      <td>S</td>\n",
       "      <td>4</td>\n",
       "      <td>0</td>\n",
       "      <td>0</td>\n",
       "      <td>Miss.</td>\n",
       "    </tr>\n",
       "    <tr>\n",
       "      <th>889</th>\n",
       "      <td>1</td>\n",
       "      <td>Behr, Mr. Karl Howell</td>\n",
       "      <td>0</td>\n",
       "      <td>26</td>\n",
       "      <td>0</td>\n",
       "      <td>0</td>\n",
       "      <td>111369</td>\n",
       "      <td>30.0000</td>\n",
       "      <td>C148</td>\n",
       "      <td>C</td>\n",
       "      <td>1</td>\n",
       "      <td>1</td>\n",
       "      <td>1</td>\n",
       "      <td>Mr.</td>\n",
       "    </tr>\n",
       "    <tr>\n",
       "      <th>890</th>\n",
       "      <td>3</td>\n",
       "      <td>Dooley, Mr. Patrick</td>\n",
       "      <td>0</td>\n",
       "      <td>32</td>\n",
       "      <td>0</td>\n",
       "      <td>0</td>\n",
       "      <td>370376</td>\n",
       "      <td>7.7500</td>\n",
       "      <td>NaN</td>\n",
       "      <td>Q</td>\n",
       "      <td>1</td>\n",
       "      <td>1</td>\n",
       "      <td>0</td>\n",
       "      <td>Mr.</td>\n",
       "    </tr>\n",
       "  </tbody>\n",
       "</table>\n",
       "<p>891 rows × 14 columns</p>\n",
       "</div>"
      ],
      "text/plain": [
       "     Pclass                                               Name  Sex  Age  \\\n",
       "0         3                            Braund, Mr. Owen Harris    0   22   \n",
       "1         1  Cumings, Mrs. John Bradley (Florence Briggs Th...    1   38   \n",
       "2         3                             Heikkinen, Miss. Laina    1   26   \n",
       "3         1       Futrelle, Mrs. Jacques Heath (Lily May Peel)    1   35   \n",
       "4         3                           Allen, Mr. William Henry    0   35   \n",
       "..      ...                                                ...  ...  ...   \n",
       "886       2                              Montvila, Rev. Juozas    0   27   \n",
       "887       1                       Graham, Miss. Margaret Edith    1   19   \n",
       "888       3           Johnston, Miss. Catherine Helen \"Carrie\"    1   21   \n",
       "889       1                              Behr, Mr. Karl Howell    0   26   \n",
       "890       3                                Dooley, Mr. Patrick    0   32   \n",
       "\n",
       "     SibSp  Parch            Ticket     Fare Cabin Embarked  Family_size  \\\n",
       "0        1      0         A/5 21171   7.2500   NaN        S            2   \n",
       "1        1      0          PC 17599  71.2833   C85        C            2   \n",
       "2        0      0  STON/O2. 3101282   7.9250   NaN        S            1   \n",
       "3        1      0            113803  53.1000  C123        S            2   \n",
       "4        0      0            373450   8.0500   NaN        S            1   \n",
       "..     ...    ...               ...      ...   ...      ...          ...   \n",
       "886      0      0            211536  13.0000   NaN        S            1   \n",
       "887      0      0            112053  30.0000   B42        S            1   \n",
       "888      1      2        W./C. 6607  23.4500   NaN        S            4   \n",
       "889      0      0            111369  30.0000  C148        C            1   \n",
       "890      0      0            370376   7.7500   NaN        Q            1   \n",
       "\n",
       "     Is_alone  Survived  Title  \n",
       "0           0         0    Mr.  \n",
       "1           0         1   Mrs.  \n",
       "2           1         1  Miss.  \n",
       "3           0         1   Mrs.  \n",
       "4           1         0    Mr.  \n",
       "..        ...       ...    ...  \n",
       "886         1         0  other  \n",
       "887         1         1  Miss.  \n",
       "888         0         0  Miss.  \n",
       "889         1         1    Mr.  \n",
       "890         1         0    Mr.  \n",
       "\n",
       "[891 rows x 14 columns]"
      ]
     },
     "execution_count": 17,
     "metadata": {},
     "output_type": "execute_result"
    }
   ],
   "source": [
    "# избавимся от кучи приставок, которым соответствует мало пассажиров\n",
    "df['Title'] = df['Title'].replace('Mlle', 'Miss')\n",
    "df['Title'] = df['Title'].replace('Ms', 'Miss')\n",
    "df['Title'] = df['Title'].replace('Mme', 'Mrs')\n",
    "df['Title'] = df['Title'].apply(lambda x: x if value_cnt.loc[x] > 10 else 'other')\n",
    "df"
   ]
  },
  {
   "cell_type": "code",
   "execution_count": 18,
   "id": "6eb1023c",
   "metadata": {
    "ExecuteTime": {
     "end_time": "2022-07-23T10:19:49.393007Z",
     "start_time": "2022-07-23T10:19:49.330185Z"
    }
   },
   "outputs": [
    {
     "data": {
      "text/html": [
       "<div>\n",
       "<style scoped>\n",
       "    .dataframe tbody tr th:only-of-type {\n",
       "        vertical-align: middle;\n",
       "    }\n",
       "\n",
       "    .dataframe tbody tr th {\n",
       "        vertical-align: top;\n",
       "    }\n",
       "\n",
       "    .dataframe thead th {\n",
       "        text-align: right;\n",
       "    }\n",
       "</style>\n",
       "<table border=\"1\" class=\"dataframe\">\n",
       "  <thead>\n",
       "    <tr style=\"text-align: right;\">\n",
       "      <th></th>\n",
       "      <th>Pclass</th>\n",
       "      <th>Name</th>\n",
       "      <th>Sex</th>\n",
       "      <th>Age</th>\n",
       "      <th>SibSp</th>\n",
       "      <th>Parch</th>\n",
       "      <th>Ticket</th>\n",
       "      <th>Fare</th>\n",
       "      <th>Cabin</th>\n",
       "      <th>Embarked</th>\n",
       "      <th>Family_size</th>\n",
       "      <th>Is_alone</th>\n",
       "      <th>Survived</th>\n",
       "      <th>Title</th>\n",
       "      <th>Cabin_isnan</th>\n",
       "    </tr>\n",
       "  </thead>\n",
       "  <tbody>\n",
       "    <tr>\n",
       "      <th>0</th>\n",
       "      <td>3</td>\n",
       "      <td>Braund, Mr. Owen Harris</td>\n",
       "      <td>0</td>\n",
       "      <td>22</td>\n",
       "      <td>1</td>\n",
       "      <td>0</td>\n",
       "      <td>A/5 21171</td>\n",
       "      <td>7.2500</td>\n",
       "      <td>NaN</td>\n",
       "      <td>S</td>\n",
       "      <td>2</td>\n",
       "      <td>0</td>\n",
       "      <td>0</td>\n",
       "      <td>Mr.</td>\n",
       "      <td>1</td>\n",
       "    </tr>\n",
       "    <tr>\n",
       "      <th>1</th>\n",
       "      <td>1</td>\n",
       "      <td>Cumings, Mrs. John Bradley (Florence Briggs Th...</td>\n",
       "      <td>1</td>\n",
       "      <td>38</td>\n",
       "      <td>1</td>\n",
       "      <td>0</td>\n",
       "      <td>PC 17599</td>\n",
       "      <td>71.2833</td>\n",
       "      <td>C85</td>\n",
       "      <td>C</td>\n",
       "      <td>2</td>\n",
       "      <td>0</td>\n",
       "      <td>1</td>\n",
       "      <td>Mrs.</td>\n",
       "      <td>0</td>\n",
       "    </tr>\n",
       "    <tr>\n",
       "      <th>2</th>\n",
       "      <td>3</td>\n",
       "      <td>Heikkinen, Miss. Laina</td>\n",
       "      <td>1</td>\n",
       "      <td>26</td>\n",
       "      <td>0</td>\n",
       "      <td>0</td>\n",
       "      <td>STON/O2. 3101282</td>\n",
       "      <td>7.9250</td>\n",
       "      <td>NaN</td>\n",
       "      <td>S</td>\n",
       "      <td>1</td>\n",
       "      <td>1</td>\n",
       "      <td>1</td>\n",
       "      <td>Miss.</td>\n",
       "      <td>1</td>\n",
       "    </tr>\n",
       "    <tr>\n",
       "      <th>3</th>\n",
       "      <td>1</td>\n",
       "      <td>Futrelle, Mrs. Jacques Heath (Lily May Peel)</td>\n",
       "      <td>1</td>\n",
       "      <td>35</td>\n",
       "      <td>1</td>\n",
       "      <td>0</td>\n",
       "      <td>113803</td>\n",
       "      <td>53.1000</td>\n",
       "      <td>C123</td>\n",
       "      <td>S</td>\n",
       "      <td>2</td>\n",
       "      <td>0</td>\n",
       "      <td>1</td>\n",
       "      <td>Mrs.</td>\n",
       "      <td>0</td>\n",
       "    </tr>\n",
       "    <tr>\n",
       "      <th>4</th>\n",
       "      <td>3</td>\n",
       "      <td>Allen, Mr. William Henry</td>\n",
       "      <td>0</td>\n",
       "      <td>35</td>\n",
       "      <td>0</td>\n",
       "      <td>0</td>\n",
       "      <td>373450</td>\n",
       "      <td>8.0500</td>\n",
       "      <td>NaN</td>\n",
       "      <td>S</td>\n",
       "      <td>1</td>\n",
       "      <td>1</td>\n",
       "      <td>0</td>\n",
       "      <td>Mr.</td>\n",
       "      <td>1</td>\n",
       "    </tr>\n",
       "    <tr>\n",
       "      <th>...</th>\n",
       "      <td>...</td>\n",
       "      <td>...</td>\n",
       "      <td>...</td>\n",
       "      <td>...</td>\n",
       "      <td>...</td>\n",
       "      <td>...</td>\n",
       "      <td>...</td>\n",
       "      <td>...</td>\n",
       "      <td>...</td>\n",
       "      <td>...</td>\n",
       "      <td>...</td>\n",
       "      <td>...</td>\n",
       "      <td>...</td>\n",
       "      <td>...</td>\n",
       "      <td>...</td>\n",
       "    </tr>\n",
       "    <tr>\n",
       "      <th>886</th>\n",
       "      <td>2</td>\n",
       "      <td>Montvila, Rev. Juozas</td>\n",
       "      <td>0</td>\n",
       "      <td>27</td>\n",
       "      <td>0</td>\n",
       "      <td>0</td>\n",
       "      <td>211536</td>\n",
       "      <td>13.0000</td>\n",
       "      <td>NaN</td>\n",
       "      <td>S</td>\n",
       "      <td>1</td>\n",
       "      <td>1</td>\n",
       "      <td>0</td>\n",
       "      <td>other</td>\n",
       "      <td>1</td>\n",
       "    </tr>\n",
       "    <tr>\n",
       "      <th>887</th>\n",
       "      <td>1</td>\n",
       "      <td>Graham, Miss. Margaret Edith</td>\n",
       "      <td>1</td>\n",
       "      <td>19</td>\n",
       "      <td>0</td>\n",
       "      <td>0</td>\n",
       "      <td>112053</td>\n",
       "      <td>30.0000</td>\n",
       "      <td>B42</td>\n",
       "      <td>S</td>\n",
       "      <td>1</td>\n",
       "      <td>1</td>\n",
       "      <td>1</td>\n",
       "      <td>Miss.</td>\n",
       "      <td>0</td>\n",
       "    </tr>\n",
       "    <tr>\n",
       "      <th>888</th>\n",
       "      <td>3</td>\n",
       "      <td>Johnston, Miss. Catherine Helen \"Carrie\"</td>\n",
       "      <td>1</td>\n",
       "      <td>21</td>\n",
       "      <td>1</td>\n",
       "      <td>2</td>\n",
       "      <td>W./C. 6607</td>\n",
       "      <td>23.4500</td>\n",
       "      <td>NaN</td>\n",
       "      <td>S</td>\n",
       "      <td>4</td>\n",
       "      <td>0</td>\n",
       "      <td>0</td>\n",
       "      <td>Miss.</td>\n",
       "      <td>1</td>\n",
       "    </tr>\n",
       "    <tr>\n",
       "      <th>889</th>\n",
       "      <td>1</td>\n",
       "      <td>Behr, Mr. Karl Howell</td>\n",
       "      <td>0</td>\n",
       "      <td>26</td>\n",
       "      <td>0</td>\n",
       "      <td>0</td>\n",
       "      <td>111369</td>\n",
       "      <td>30.0000</td>\n",
       "      <td>C148</td>\n",
       "      <td>C</td>\n",
       "      <td>1</td>\n",
       "      <td>1</td>\n",
       "      <td>1</td>\n",
       "      <td>Mr.</td>\n",
       "      <td>0</td>\n",
       "    </tr>\n",
       "    <tr>\n",
       "      <th>890</th>\n",
       "      <td>3</td>\n",
       "      <td>Dooley, Mr. Patrick</td>\n",
       "      <td>0</td>\n",
       "      <td>32</td>\n",
       "      <td>0</td>\n",
       "      <td>0</td>\n",
       "      <td>370376</td>\n",
       "      <td>7.7500</td>\n",
       "      <td>NaN</td>\n",
       "      <td>Q</td>\n",
       "      <td>1</td>\n",
       "      <td>1</td>\n",
       "      <td>0</td>\n",
       "      <td>Mr.</td>\n",
       "      <td>1</td>\n",
       "    </tr>\n",
       "  </tbody>\n",
       "</table>\n",
       "<p>891 rows × 15 columns</p>\n",
       "</div>"
      ],
      "text/plain": [
       "     Pclass                                               Name  Sex  Age  \\\n",
       "0         3                            Braund, Mr. Owen Harris    0   22   \n",
       "1         1  Cumings, Mrs. John Bradley (Florence Briggs Th...    1   38   \n",
       "2         3                             Heikkinen, Miss. Laina    1   26   \n",
       "3         1       Futrelle, Mrs. Jacques Heath (Lily May Peel)    1   35   \n",
       "4         3                           Allen, Mr. William Henry    0   35   \n",
       "..      ...                                                ...  ...  ...   \n",
       "886       2                              Montvila, Rev. Juozas    0   27   \n",
       "887       1                       Graham, Miss. Margaret Edith    1   19   \n",
       "888       3           Johnston, Miss. Catherine Helen \"Carrie\"    1   21   \n",
       "889       1                              Behr, Mr. Karl Howell    0   26   \n",
       "890       3                                Dooley, Mr. Patrick    0   32   \n",
       "\n",
       "     SibSp  Parch            Ticket     Fare Cabin Embarked  Family_size  \\\n",
       "0        1      0         A/5 21171   7.2500   NaN        S            2   \n",
       "1        1      0          PC 17599  71.2833   C85        C            2   \n",
       "2        0      0  STON/O2. 3101282   7.9250   NaN        S            1   \n",
       "3        1      0            113803  53.1000  C123        S            2   \n",
       "4        0      0            373450   8.0500   NaN        S            1   \n",
       "..     ...    ...               ...      ...   ...      ...          ...   \n",
       "886      0      0            211536  13.0000   NaN        S            1   \n",
       "887      0      0            112053  30.0000   B42        S            1   \n",
       "888      1      2        W./C. 6607  23.4500   NaN        S            4   \n",
       "889      0      0            111369  30.0000  C148        C            1   \n",
       "890      0      0            370376   7.7500   NaN        Q            1   \n",
       "\n",
       "     Is_alone  Survived  Title  Cabin_isnan  \n",
       "0           0         0    Mr.            1  \n",
       "1           0         1   Mrs.            0  \n",
       "2           1         1  Miss.            1  \n",
       "3           0         1   Mrs.            0  \n",
       "4           1         0    Mr.            1  \n",
       "..        ...       ...    ...          ...  \n",
       "886         1         0  other            1  \n",
       "887         1         1  Miss.            0  \n",
       "888         0         0  Miss.            1  \n",
       "889         1         1    Mr.            0  \n",
       "890         1         0    Mr.            1  \n",
       "\n",
       "[891 rows x 15 columns]"
      ]
     },
     "execution_count": 18,
     "metadata": {},
     "output_type": "execute_result"
    }
   ],
   "source": [
    "df['Cabin_isnan'] = df['Cabin'].isna().apply(lambda x: int(x))\n",
    "df"
   ]
  },
  {
   "cell_type": "code",
   "execution_count": 19,
   "id": "41f0d175",
   "metadata": {
    "ExecuteTime": {
     "end_time": "2022-07-23T10:19:52.025222Z",
     "start_time": "2022-07-23T10:19:51.999220Z"
    }
   },
   "outputs": [
    {
     "data": {
      "text/plain": [
       "Pclass           0\n",
       "Name             0\n",
       "Sex              0\n",
       "Age              0\n",
       "SibSp            0\n",
       "Parch            0\n",
       "Ticket           0\n",
       "Fare             0\n",
       "Cabin          687\n",
       "Embarked         0\n",
       "Family_size      0\n",
       "Is_alone         0\n",
       "Survived         0\n",
       "Title            0\n",
       "Cabin_isnan      0\n",
       "dtype: int64"
      ]
     },
     "execution_count": 19,
     "metadata": {},
     "output_type": "execute_result"
    }
   ],
   "source": [
    "df.isna().sum()"
   ]
  },
  {
   "cell_type": "code",
   "execution_count": 20,
   "id": "53936da1",
   "metadata": {
    "ExecuteTime": {
     "end_time": "2022-07-23T10:20:01.339169Z",
     "start_time": "2022-07-23T10:20:01.262560Z"
    }
   },
   "outputs": [
    {
     "data": {
      "text/html": [
       "<div>\n",
       "<style scoped>\n",
       "    .dataframe tbody tr th:only-of-type {\n",
       "        vertical-align: middle;\n",
       "    }\n",
       "\n",
       "    .dataframe tbody tr th {\n",
       "        vertical-align: top;\n",
       "    }\n",
       "\n",
       "    .dataframe thead th {\n",
       "        text-align: right;\n",
       "    }\n",
       "</style>\n",
       "<table border=\"1\" class=\"dataframe\">\n",
       "  <thead>\n",
       "    <tr style=\"text-align: right;\">\n",
       "      <th></th>\n",
       "      <th>PassengerId</th>\n",
       "      <th>Pclass</th>\n",
       "      <th>Name</th>\n",
       "      <th>Sex</th>\n",
       "      <th>Age</th>\n",
       "      <th>SibSp</th>\n",
       "      <th>Parch</th>\n",
       "      <th>Ticket</th>\n",
       "      <th>Fare</th>\n",
       "      <th>Cabin</th>\n",
       "      <th>Embarked</th>\n",
       "      <th>Title</th>\n",
       "    </tr>\n",
       "  </thead>\n",
       "  <tbody>\n",
       "    <tr>\n",
       "      <th>0</th>\n",
       "      <td>892</td>\n",
       "      <td>3</td>\n",
       "      <td>Kelly, Mr. James</td>\n",
       "      <td>male</td>\n",
       "      <td>34.5</td>\n",
       "      <td>0</td>\n",
       "      <td>0</td>\n",
       "      <td>330911</td>\n",
       "      <td>7.8292</td>\n",
       "      <td>NaN</td>\n",
       "      <td>Q</td>\n",
       "      <td>Mr.</td>\n",
       "    </tr>\n",
       "    <tr>\n",
       "      <th>1</th>\n",
       "      <td>893</td>\n",
       "      <td>3</td>\n",
       "      <td>Wilkes, Mrs. James (Ellen Needs)</td>\n",
       "      <td>female</td>\n",
       "      <td>47.0</td>\n",
       "      <td>1</td>\n",
       "      <td>0</td>\n",
       "      <td>363272</td>\n",
       "      <td>7.0000</td>\n",
       "      <td>NaN</td>\n",
       "      <td>S</td>\n",
       "      <td>Mrs.</td>\n",
       "    </tr>\n",
       "    <tr>\n",
       "      <th>2</th>\n",
       "      <td>894</td>\n",
       "      <td>2</td>\n",
       "      <td>Myles, Mr. Thomas Francis</td>\n",
       "      <td>male</td>\n",
       "      <td>62.0</td>\n",
       "      <td>0</td>\n",
       "      <td>0</td>\n",
       "      <td>240276</td>\n",
       "      <td>9.6875</td>\n",
       "      <td>NaN</td>\n",
       "      <td>Q</td>\n",
       "      <td>Mr.</td>\n",
       "    </tr>\n",
       "    <tr>\n",
       "      <th>3</th>\n",
       "      <td>895</td>\n",
       "      <td>3</td>\n",
       "      <td>Wirz, Mr. Albert</td>\n",
       "      <td>male</td>\n",
       "      <td>27.0</td>\n",
       "      <td>0</td>\n",
       "      <td>0</td>\n",
       "      <td>315154</td>\n",
       "      <td>8.6625</td>\n",
       "      <td>NaN</td>\n",
       "      <td>S</td>\n",
       "      <td>Mr.</td>\n",
       "    </tr>\n",
       "    <tr>\n",
       "      <th>4</th>\n",
       "      <td>896</td>\n",
       "      <td>3</td>\n",
       "      <td>Hirvonen, Mrs. Alexander (Helga E Lindqvist)</td>\n",
       "      <td>female</td>\n",
       "      <td>22.0</td>\n",
       "      <td>1</td>\n",
       "      <td>1</td>\n",
       "      <td>3101298</td>\n",
       "      <td>12.2875</td>\n",
       "      <td>NaN</td>\n",
       "      <td>S</td>\n",
       "      <td>Mrs.</td>\n",
       "    </tr>\n",
       "    <tr>\n",
       "      <th>...</th>\n",
       "      <td>...</td>\n",
       "      <td>...</td>\n",
       "      <td>...</td>\n",
       "      <td>...</td>\n",
       "      <td>...</td>\n",
       "      <td>...</td>\n",
       "      <td>...</td>\n",
       "      <td>...</td>\n",
       "      <td>...</td>\n",
       "      <td>...</td>\n",
       "      <td>...</td>\n",
       "      <td>...</td>\n",
       "    </tr>\n",
       "    <tr>\n",
       "      <th>413</th>\n",
       "      <td>1305</td>\n",
       "      <td>3</td>\n",
       "      <td>Spector, Mr. Woolf</td>\n",
       "      <td>male</td>\n",
       "      <td>NaN</td>\n",
       "      <td>0</td>\n",
       "      <td>0</td>\n",
       "      <td>A.5. 3236</td>\n",
       "      <td>8.0500</td>\n",
       "      <td>NaN</td>\n",
       "      <td>S</td>\n",
       "      <td>Mr.</td>\n",
       "    </tr>\n",
       "    <tr>\n",
       "      <th>414</th>\n",
       "      <td>1306</td>\n",
       "      <td>1</td>\n",
       "      <td>Oliva y Ocana, Dona. Fermina</td>\n",
       "      <td>female</td>\n",
       "      <td>39.0</td>\n",
       "      <td>0</td>\n",
       "      <td>0</td>\n",
       "      <td>PC 17758</td>\n",
       "      <td>108.9000</td>\n",
       "      <td>C105</td>\n",
       "      <td>C</td>\n",
       "      <td>other</td>\n",
       "    </tr>\n",
       "    <tr>\n",
       "      <th>415</th>\n",
       "      <td>1307</td>\n",
       "      <td>3</td>\n",
       "      <td>Saether, Mr. Simon Sivertsen</td>\n",
       "      <td>male</td>\n",
       "      <td>38.5</td>\n",
       "      <td>0</td>\n",
       "      <td>0</td>\n",
       "      <td>SOTON/O.Q. 3101262</td>\n",
       "      <td>7.2500</td>\n",
       "      <td>NaN</td>\n",
       "      <td>S</td>\n",
       "      <td>Mr.</td>\n",
       "    </tr>\n",
       "    <tr>\n",
       "      <th>416</th>\n",
       "      <td>1308</td>\n",
       "      <td>3</td>\n",
       "      <td>Ware, Mr. Frederick</td>\n",
       "      <td>male</td>\n",
       "      <td>NaN</td>\n",
       "      <td>0</td>\n",
       "      <td>0</td>\n",
       "      <td>359309</td>\n",
       "      <td>8.0500</td>\n",
       "      <td>NaN</td>\n",
       "      <td>S</td>\n",
       "      <td>Mr.</td>\n",
       "    </tr>\n",
       "    <tr>\n",
       "      <th>417</th>\n",
       "      <td>1309</td>\n",
       "      <td>3</td>\n",
       "      <td>Peter, Master. Michael J</td>\n",
       "      <td>male</td>\n",
       "      <td>NaN</td>\n",
       "      <td>1</td>\n",
       "      <td>1</td>\n",
       "      <td>2668</td>\n",
       "      <td>22.3583</td>\n",
       "      <td>NaN</td>\n",
       "      <td>C</td>\n",
       "      <td>Master.</td>\n",
       "    </tr>\n",
       "  </tbody>\n",
       "</table>\n",
       "<p>418 rows × 12 columns</p>\n",
       "</div>"
      ],
      "text/plain": [
       "     PassengerId  Pclass                                          Name  \\\n",
       "0            892       3                              Kelly, Mr. James   \n",
       "1            893       3              Wilkes, Mrs. James (Ellen Needs)   \n",
       "2            894       2                     Myles, Mr. Thomas Francis   \n",
       "3            895       3                              Wirz, Mr. Albert   \n",
       "4            896       3  Hirvonen, Mrs. Alexander (Helga E Lindqvist)   \n",
       "..           ...     ...                                           ...   \n",
       "413         1305       3                            Spector, Mr. Woolf   \n",
       "414         1306       1                  Oliva y Ocana, Dona. Fermina   \n",
       "415         1307       3                  Saether, Mr. Simon Sivertsen   \n",
       "416         1308       3                           Ware, Mr. Frederick   \n",
       "417         1309       3                      Peter, Master. Michael J   \n",
       "\n",
       "        Sex   Age  SibSp  Parch              Ticket      Fare Cabin Embarked  \\\n",
       "0      male  34.5      0      0              330911    7.8292   NaN        Q   \n",
       "1    female  47.0      1      0              363272    7.0000   NaN        S   \n",
       "2      male  62.0      0      0              240276    9.6875   NaN        Q   \n",
       "3      male  27.0      0      0              315154    8.6625   NaN        S   \n",
       "4    female  22.0      1      1             3101298   12.2875   NaN        S   \n",
       "..      ...   ...    ...    ...                 ...       ...   ...      ...   \n",
       "413    male   NaN      0      0           A.5. 3236    8.0500   NaN        S   \n",
       "414  female  39.0      0      0            PC 17758  108.9000  C105        C   \n",
       "415    male  38.5      0      0  SOTON/O.Q. 3101262    7.2500   NaN        S   \n",
       "416    male   NaN      0      0              359309    8.0500   NaN        S   \n",
       "417    male   NaN      1      1                2668   22.3583   NaN        C   \n",
       "\n",
       "       Title  \n",
       "0        Mr.  \n",
       "1       Mrs.  \n",
       "2        Mr.  \n",
       "3        Mr.  \n",
       "4       Mrs.  \n",
       "..       ...  \n",
       "413      Mr.  \n",
       "414    other  \n",
       "415      Mr.  \n",
       "416      Mr.  \n",
       "417  Master.  \n",
       "\n",
       "[418 rows x 12 columns]"
      ]
     },
     "execution_count": 20,
     "metadata": {},
     "output_type": "execute_result"
    }
   ],
   "source": [
    "value_cnt = value_cnt.append(pd.Series([0], index=['Dona.'])) # Dona есть только в тестовой\n",
    "\n",
    "df_test['Title'] = df_test['Name'].apply(lambda x: x.split(', ')[1].split()[0])\n",
    "df_test['Title'] = df_test['Title'].replace('Mlle', 'Miss')\n",
    "df_test['Title'] = df_test['Title'].replace('Ms', 'Miss')\n",
    "df_test['Title'] = df_test['Title'].replace('Mme', 'Mrs')\n",
    "df_test['Title'] = df_test['Title'].apply(lambda x: \n",
    "                                          x if value_cnt.loc[x] > 10 else 'other')\n",
    "df_test"
   ]
  },
  {
   "cell_type": "markdown",
   "id": "4dfa4511",
   "metadata": {},
   "source": [
    "## подготовим тестовый датасет (по той же логике, что и трейн)"
   ]
  },
  {
   "cell_type": "code",
   "execution_count": 4,
   "id": "12fca338",
   "metadata": {
    "ExecuteTime": {
     "end_time": "2022-07-23T10:18:27.946445Z",
     "start_time": "2022-07-23T10:18:27.920440Z"
    }
   },
   "outputs": [],
   "source": [
    "# функция препроцессинга\n",
    "def prep(df):\n",
    "    df['Sex'] = df['Sex'].apply(\n",
    "        lambda x: 0 if x == 'male' else 1)  # заменим категории пол на 0, 1\n",
    "    df['Embarked'].fillna(df['Embarked'].mode().loc[0], \n",
    "                          inplace=True)  # заполним пропуски в embarked (место посадки) модой\n",
    "    # ниже для каждого пола и разных возрастных категорий\n",
    "    # заполняю пропуски средним по данной категории и полу\n",
    "    fill_age = np.zeros((2, 3))\n",
    "    for i in range(0, 2):\n",
    "        for j in range(1, 4):\n",
    "            age_fill = df[(df['Sex'] == i) & \\\n",
    "                          (df['Pclass'] == j)]['Age'].median() #.dropna()\n",
    "            fill_age[i, j-1] = int(age_fill / 0.5 + 0.5) * 0.5\n",
    "\n",
    "    for i in range(0, 2):\n",
    "        for j in range(1, 4):\n",
    "            df.loc[(df.Age.isnull()) & (df.Sex == i) &\n",
    "                   (df.Pclass == j), 'Age'] = fill_age[i, j-1]\n",
    "\n",
    "    df['Age'] = df['Age'].astype(int)\n",
    "    \n",
    "    df['Family_size'] = df['SibSp'] + df['Parch'] + 1\n",
    "    df['Is_alone'] = df['Family_size'].apply(lambda x: int(x == 1))\n",
    "    # df = df.reset_index().drop(columns='PassengerId')\n",
    "    df['Fare'].fillna(df['Fare'].mean(), inplace=True)  # пропуски в стоимости билета заполним средним\n",
    "    df['Cabin_isnan'] = df['Cabin'].isna().apply(lambda x: int(x))\n",
    "    print(df.isna().sum())"
   ]
  },
  {
   "cell_type": "code",
   "execution_count": 21,
   "id": "7205da18",
   "metadata": {
    "ExecuteTime": {
     "end_time": "2022-07-23T10:20:18.283140Z",
     "start_time": "2022-07-23T10:20:18.224401Z"
    }
   },
   "outputs": [
    {
     "name": "stdout",
     "output_type": "stream",
     "text": [
      "PassengerId      0\n",
      "Pclass           0\n",
      "Name             0\n",
      "Sex              0\n",
      "Age              0\n",
      "SibSp            0\n",
      "Parch            0\n",
      "Ticket           0\n",
      "Fare             0\n",
      "Cabin          327\n",
      "Embarked         0\n",
      "Title            0\n",
      "Family_size      0\n",
      "Is_alone         0\n",
      "Cabin_isnan      0\n",
      "dtype: int64\n"
     ]
    }
   ],
   "source": [
    "prep(df_test)"
   ]
  },
  {
   "cell_type": "markdown",
   "id": "c77f5958",
   "metadata": {},
   "source": [
    "# Train-validation split"
   ]
  },
  {
   "cell_type": "code",
   "execution_count": 25,
   "id": "d24ebdbb",
   "metadata": {
    "ExecuteTime": {
     "end_time": "2022-07-23T10:24:32.626401Z",
     "start_time": "2022-07-23T10:24:32.611965Z"
    }
   },
   "outputs": [],
   "source": [
    "from sklearn.model_selection import train_test_split\n",
    "features = ['Pclass', 'Sex', 'Age', 'Fare', 'Embarked', \n",
    "            'Title', 'Family_size', 'Is_alone', 'Cabin_isnan'] \n",
    "X = df[features]\n",
    "y = df['Survived']"
   ]
  },
  {
   "cell_type": "code",
   "execution_count": 26,
   "id": "80161c3e",
   "metadata": {
    "ExecuteTime": {
     "end_time": "2022-07-23T10:24:37.411592Z",
     "start_time": "2022-07-23T10:24:37.395726Z"
    }
   },
   "outputs": [],
   "source": [
    "X_train, X_val, y_train, y_val = train_test_split(\n",
    "    X, y, test_size=0.2, random_state=42)"
   ]
  },
  {
   "cell_type": "code",
   "execution_count": 27,
   "id": "386c2cf1",
   "metadata": {
    "ExecuteTime": {
     "end_time": "2022-07-23T10:25:57.990856Z",
     "start_time": "2022-07-23T10:25:57.967451Z"
    }
   },
   "outputs": [],
   "source": [
    "from sklearn.preprocessing import OneHotEncoder\n",
    "from sklearn.preprocessing import StandardScaler\n",
    "from sklearn.compose import ColumnTransformer\n",
    "\n",
    "numeric_features = ['Age', 'Fare', 'Family_size']\n",
    "categorical = ['Pclass', 'Sex', 'Embarked', 'Title', \n",
    "               'Is_alone', 'Cabin_isnan']\n",
    "\n",
    "column_transformer = ColumnTransformer([\n",
    "    ('ohe', OneHotEncoder(sparse=False, handle_unknown=\"ignore\"), categorical),\n",
    "    ('scaling', StandardScaler(), numeric_features)\n",
    "])"
   ]
  },
  {
   "cell_type": "markdown",
   "id": "528be297",
   "metadata": {},
   "source": [
    "# SVM"
   ]
  },
  {
   "cell_type": "code",
   "execution_count": 28,
   "id": "f61e85ac",
   "metadata": {
    "ExecuteTime": {
     "end_time": "2022-07-23T10:27:58.657512Z",
     "start_time": "2022-07-23T10:27:58.471775Z"
    }
   },
   "outputs": [
    {
     "name": "stdout",
     "output_type": "stream",
     "text": [
      "AUC-PR для дефолтного SVM (с линейным ядром) = 0.85\n",
      "Accuracy для дефолтного SVM (с линейным ядром) = 0.78\n"
     ]
    }
   ],
   "source": [
    "from sklearn.svm import SVC\n",
    "from sklearn.svm import LinearSVC\n",
    "from sklearn.linear_model import LogisticRegression\n",
    "from sklearn import metrics\n",
    "from sklearn.pipeline import Pipeline\n",
    "from sklearn.preprocessing import StandardScaler\n",
    "\n",
    "pipeline = Pipeline(steps=[\n",
    "     ('transf', column_transformer),\n",
    "     ('SVM', SVC(C=0.01, kernel='linear'))\n",
    " ])\n",
    "\n",
    "pipeline.fit(X_train, y_train)\n",
    "y_pred = pipeline.predict(X_val)\n",
    "\n",
    "a = pipeline.decision_function(X_val)\n",
    "P = (a - a.min())/(a.max() - a.min())\n",
    "\n",
    "precision, recall, thresholds = metrics.precision_recall_curve(y_val, P)\n",
    "auc_pr = metrics.auc(recall, precision)\n",
    "acc = metrics.accuracy_score(y_val, y_pred)\n",
    "print('AUC-PR для дефолтного SVM (с линейным ядром) = {:.2f}'.format(auc_pr))\n",
    "print('Accuracy для дефолтного SVM (с линейным ядром) = {:.2f}'.format(acc))"
   ]
  },
  {
   "cell_type": "code",
   "execution_count": 29,
   "id": "7bafbc35",
   "metadata": {
    "ExecuteTime": {
     "end_time": "2022-07-23T10:28:03.143499Z",
     "start_time": "2022-07-23T10:28:03.131499Z"
    }
   },
   "outputs": [],
   "source": [
    "X_train_transf = column_transformer.fit_transform(X_train)"
   ]
  },
  {
   "cell_type": "code",
   "execution_count": 30,
   "id": "6242a699",
   "metadata": {
    "ExecuteTime": {
     "end_time": "2022-07-23T10:28:03.837222Z",
     "start_time": "2022-07-23T10:28:03.818222Z"
    }
   },
   "outputs": [
    {
     "name": "stdout",
     "output_type": "stream",
     "text": [
      "amount of features before transf: 9\n",
      "amount of features after transf: 20\n"
     ]
    }
   ],
   "source": [
    "print('amount of features before transf:', X_train.shape[1])\n",
    "print('amount of features after transf:', X_train_transf.shape[1])"
   ]
  },
  {
   "cell_type": "markdown",
   "id": "d84cda99",
   "metadata": {},
   "source": [
    "## GridSearch for SVM"
   ]
  },
  {
   "cell_type": "code",
   "execution_count": 33,
   "id": "c643bea3",
   "metadata": {
    "ExecuteTime": {
     "end_time": "2022-07-23T10:29:01.597824Z",
     "start_time": "2022-07-23T10:28:55.929870Z"
    }
   },
   "outputs": [
    {
     "name": "stdout",
     "output_type": "stream",
     "text": [
      "Best C = 0.8821\n",
      "Best Accuracy = 0.8371\n"
     ]
    }
   ],
   "source": [
    "from sklearn.model_selection import GridSearchCV\n",
    "\n",
    "c_set = np.linspace(0.8, 1.2, 40)\n",
    "searcher = GridSearchCV(SVC(kernel='linear'), [{\"C\": c_set}], \n",
    "                        scoring='accuracy', cv=10)\n",
    "\n",
    "searcher.fit(X_train_transf, y_train)\n",
    "\n",
    "best_c = searcher.best_params_[\"C\"]\n",
    "best_score = searcher.best_score_\n",
    "print(\"Best C = %.4f\" % best_c)\n",
    "print(\"Best Accuracy = %.4f\" % best_score)"
   ]
  },
  {
   "cell_type": "code",
   "execution_count": 34,
   "id": "5c33df8b",
   "metadata": {
    "ExecuteTime": {
     "end_time": "2022-07-23T10:29:02.107202Z",
     "start_time": "2022-07-23T10:29:01.599825Z"
    }
   },
   "outputs": [
    {
     "data": {
      "image/png": "[encoded data removed]",
      "text/plain": [
       "<Figure size 504x432 with 1 Axes>"
      ]
     },
     "metadata": {
      "image/png": {
       "height": 377,
       "width": 458
      }
     },
     "output_type": "display_data"
    }
   ],
   "source": [
    "plt.figure(figsize=(7, 6))\n",
    "plt.plot(c_set, searcher.cv_results_[\"mean_test_score\"])\n",
    "plt.xscale(\"log\")\n",
    "plt.xlabel(\"С\", fontsize=12)\n",
    "plt.ylabel(\"CV score (Accuracy)\", fontsize=12)\n",
    "plt.show()"
   ]
  },
  {
   "cell_type": "code",
   "execution_count": 35,
   "id": "a2008ef8",
   "metadata": {
    "ExecuteTime": {
     "end_time": "2022-07-23T10:29:08.733056Z",
     "start_time": "2022-07-23T10:29:08.705058Z"
    }
   },
   "outputs": [
    {
     "name": "stdout",
     "output_type": "stream",
     "text": [
      "CV based SVM accuracy = 0.83\n"
     ]
    }
   ],
   "source": [
    "X_val_transf = column_transformer.transform(X_val)\n",
    "svm_best = SVC(C=best_c, kernel='linear')\n",
    "svm_best.fit(X_train_transf, y_train)\n",
    "y_pred_best = svm_best.predict(X_val_transf)\n",
    "\n",
    "print('CV based SVM accuracy = {:.2f}'.format(metrics.accuracy_score(y_val, y_pred_best)))"
   ]
  },
  {
   "cell_type": "code",
   "execution_count": 36,
   "id": "ba047b20",
   "metadata": {
    "ExecuteTime": {
     "end_time": "2022-07-23T10:29:11.910557Z",
     "start_time": "2022-07-23T10:29:11.552558Z"
    }
   },
   "outputs": [
    {
     "name": "stdout",
     "output_type": "stream",
     "text": [
      "AUC-PR для SVM с C из кросс-валидации = 0.81056\n",
      "AUC-ROC для SVM с C из кросс-валидации = 0.85946\n"
     ]
    },
    {
     "data": {
      "image/png": "[encoded data removed]",
      "text/plain": [
       "<Figure size 864x432 with 2 Axes>"
      ]
     },
     "metadata": {
      "image/png": {
       "height": 385,
       "width": 718
      }
     },
     "output_type": "display_data"
    }
   ],
   "source": [
    "def roc_pr_plot(X_test, y_test, model):\n",
    "    a = model.decision_function(X_test)\n",
    "    P = (a - a.min())/(a.max() - a.min())\n",
    "\n",
    "    precision, recall, thresholds = metrics.precision_recall_curve(y_test, P)\n",
    "    fpr, tpr, thresholds = metrics.roc_curve(y_test, P)\n",
    "    print('AUC-PR для SVM с C из кросс-валидации = %.5f' % metrics.auc(recall, precision))\n",
    "    print('AUC-ROC для SVM с C из кросс-валидации = %.5f' % metrics.auc(fpr, tpr))\n",
    "\n",
    "\n",
    "    fig, ax = plt.subplots(1, 2, figsize=(12, 6))\n",
    "    ax[0].plot(fpr, tpr)\n",
    "    ax[0].set_xlabel('FPR')\n",
    "    ax[0].set_ylabel('TPR')\n",
    "    ax[0].set_title('ROC-curve')\n",
    "\n",
    "    ax[1].plot(recall, precision)\n",
    "    ax[1].set_xlabel('recall')\n",
    "    ax[1].set_ylabel('precision')\n",
    "    ax[1].set_title('PR-curve')\n",
    "    plt.show()\n",
    "    \n",
    "roc_pr_plot(X_val_transf, y_val, svm_best)"
   ]
  },
  {
   "cell_type": "markdown",
   "id": "007fe93e",
   "metadata": {},
   "source": [
    "## predicting for test data using SVM model"
   ]
  },
  {
   "cell_type": "code",
   "execution_count": 37,
   "id": "9d8bd78a",
   "metadata": {
    "ExecuteTime": {
     "end_time": "2022-07-23T10:29:17.398200Z",
     "start_time": "2022-07-23T10:29:17.384234Z"
    }
   },
   "outputs": [
    {
     "data": {
      "text/plain": [
       "array([[ 0.        ,  0.        ,  1.        , ...,  0.38530051,\n",
       "        -0.47671165, -0.55466613],\n",
       "       [ 0.        ,  0.        ,  1.        , ...,  1.3631841 ,\n",
       "        -0.49267837,  0.04009635],\n",
       "       [ 0.        ,  1.        ,  0.        , ...,  2.49151133,\n",
       "        -0.44092902, -0.55466613],\n",
       "       ...,\n",
       "       [ 0.        ,  0.        ,  1.        , ...,  0.68618777,\n",
       "        -0.48786448, -0.55466613],\n",
       "       [ 0.        ,  0.        ,  1.        , ..., -0.36691765,\n",
       "        -0.47246002, -0.55466613],\n",
       "       [ 0.        ,  0.        ,  1.        , ..., -0.36691765,\n",
       "        -0.19694553,  0.63485883]])"
      ]
     },
     "execution_count": 37,
     "metadata": {},
     "output_type": "execute_result"
    }
   ],
   "source": [
    "X_test = df_test[features]\n",
    "X_test_transf = column_transformer.transform(X_test)\n",
    "X_test_transf"
   ]
  },
  {
   "cell_type": "code",
   "execution_count": 38,
   "id": "788d7bb6",
   "metadata": {
    "ExecuteTime": {
     "end_time": "2022-07-23T10:29:33.814427Z",
     "start_time": "2022-07-23T10:29:33.790429Z"
    }
   },
   "outputs": [],
   "source": [
    "predictions = svm_best.predict(X_test_transf)\n",
    "output = pd.DataFrame({'PassengerId': df_test.PassengerId, 'Survived': predictions})\n",
    "output.to_csv('submission_svm.csv', index=False)"
   ]
  },
  {
   "cell_type": "code",
   "execution_count": 39,
   "id": "56d76234",
   "metadata": {
    "ExecuteTime": {
     "end_time": "2022-07-23T10:29:34.957358Z",
     "start_time": "2022-07-23T10:29:34.944359Z"
    }
   },
   "outputs": [
    {
     "data": {
      "text/html": [
       "<div>\n",
       "<style scoped>\n",
       "    .dataframe tbody tr th:only-of-type {\n",
       "        vertical-align: middle;\n",
       "    }\n",
       "\n",
       "    .dataframe tbody tr th {\n",
       "        vertical-align: top;\n",
       "    }\n",
       "\n",
       "    .dataframe thead th {\n",
       "        text-align: right;\n",
       "    }\n",
       "</style>\n",
       "<table border=\"1\" class=\"dataframe\">\n",
       "  <thead>\n",
       "    <tr style=\"text-align: right;\">\n",
       "      <th></th>\n",
       "      <th>PassengerId</th>\n",
       "      <th>Survived</th>\n",
       "    </tr>\n",
       "  </thead>\n",
       "  <tbody>\n",
       "    <tr>\n",
       "      <th>0</th>\n",
       "      <td>892</td>\n",
       "      <td>0</td>\n",
       "    </tr>\n",
       "    <tr>\n",
       "      <th>1</th>\n",
       "      <td>893</td>\n",
       "      <td>1</td>\n",
       "    </tr>\n",
       "    <tr>\n",
       "      <th>2</th>\n",
       "      <td>894</td>\n",
       "      <td>0</td>\n",
       "    </tr>\n",
       "    <tr>\n",
       "      <th>3</th>\n",
       "      <td>895</td>\n",
       "      <td>0</td>\n",
       "    </tr>\n",
       "    <tr>\n",
       "      <th>4</th>\n",
       "      <td>896</td>\n",
       "      <td>1</td>\n",
       "    </tr>\n",
       "    <tr>\n",
       "      <th>...</th>\n",
       "      <td>...</td>\n",
       "      <td>...</td>\n",
       "    </tr>\n",
       "    <tr>\n",
       "      <th>413</th>\n",
       "      <td>1305</td>\n",
       "      <td>0</td>\n",
       "    </tr>\n",
       "    <tr>\n",
       "      <th>414</th>\n",
       "      <td>1306</td>\n",
       "      <td>1</td>\n",
       "    </tr>\n",
       "    <tr>\n",
       "      <th>415</th>\n",
       "      <td>1307</td>\n",
       "      <td>0</td>\n",
       "    </tr>\n",
       "    <tr>\n",
       "      <th>416</th>\n",
       "      <td>1308</td>\n",
       "      <td>0</td>\n",
       "    </tr>\n",
       "    <tr>\n",
       "      <th>417</th>\n",
       "      <td>1309</td>\n",
       "      <td>1</td>\n",
       "    </tr>\n",
       "  </tbody>\n",
       "</table>\n",
       "<p>418 rows × 2 columns</p>\n",
       "</div>"
      ],
      "text/plain": [
       "     PassengerId  Survived\n",
       "0            892         0\n",
       "1            893         1\n",
       "2            894         0\n",
       "3            895         0\n",
       "4            896         1\n",
       "..           ...       ...\n",
       "413         1305         0\n",
       "414         1306         1\n",
       "415         1307         0\n",
       "416         1308         0\n",
       "417         1309         1\n",
       "\n",
       "[418 rows x 2 columns]"
      ]
     },
     "execution_count": 39,
     "metadata": {},
     "output_type": "execute_result"
    }
   ],
   "source": [
    "output"
   ]
  },
  {
   "cell_type": "markdown",
   "id": "d00092f7",
   "metadata": {},
   "source": [
    "# Logreg"
   ]
  },
  {
   "cell_type": "code",
   "execution_count": 40,
   "id": "6e1b5b77",
   "metadata": {
    "ExecuteTime": {
     "end_time": "2022-07-23T10:29:37.287659Z",
     "start_time": "2022-07-23T10:29:37.273659Z"
    }
   },
   "outputs": [],
   "source": [
    "lr = LogisticRegression(random_state=42)"
   ]
  },
  {
   "cell_type": "code",
   "execution_count": 43,
   "id": "3324dbdd",
   "metadata": {
    "ExecuteTime": {
     "end_time": "2022-07-23T10:30:04.760701Z",
     "start_time": "2022-07-23T10:30:00.216745Z"
    }
   },
   "outputs": [
    {
     "name": "stdout",
     "output_type": "stream",
     "text": [
      "Best C = 0.1564\n",
      "Best Accuracy = 0.8385\n"
     ]
    }
   ],
   "source": [
    "c_set = np.linspace(0.1, 0.3, 40)\n",
    "searcher = GridSearchCV(lr, [{\"C\": c_set}], \n",
    "                        scoring='accuracy', cv=10)\n",
    "\n",
    "searcher.fit(X_train_transf, y_train)\n",
    "\n",
    "best_c = searcher.best_params_[\"C\"]\n",
    "best_score = searcher.best_score_\n",
    "print(\"Best C = %.4f\" % best_c)\n",
    "print(\"Best Accuracy = %.4f\" % best_score)"
   ]
  },
  {
   "cell_type": "code",
   "execution_count": 44,
   "id": "1d40a2f2",
   "metadata": {
    "ExecuteTime": {
     "end_time": "2022-07-23T10:30:06.206098Z",
     "start_time": "2022-07-23T10:30:05.792058Z"
    }
   },
   "outputs": [
    {
     "data": {
      "image/png": "[encoded data removed]",
      "text/plain": [
       "<Figure size 504x432 with 1 Axes>"
      ]
     },
     "metadata": {
      "image/png": {
       "height": 377,
       "width": 452
      }
     },
     "output_type": "display_data"
    }
   ],
   "source": [
    "plt.figure(figsize=(7, 6))\n",
    "plt.plot(c_set, searcher.cv_results_[\"mean_test_score\"])\n",
    "plt.xscale(\"log\")\n",
    "plt.xlabel(\"С\", fontsize=12)\n",
    "plt.ylabel(\"CV score (Accuracy)\", fontsize=12)\n",
    "plt.show()"
   ]
  },
  {
   "cell_type": "code",
   "execution_count": 45,
   "id": "b970364c",
   "metadata": {
    "ExecuteTime": {
     "end_time": "2022-07-23T10:30:12.183459Z",
     "start_time": "2022-07-23T10:30:12.162498Z"
    }
   },
   "outputs": [],
   "source": [
    "lr_best = LogisticRegression(C=best_c)\n",
    "lr_best.fit(X_train_transf, y_train)\n",
    "y_pred_best = svm_best.predict(X_val_transf)"
   ]
  },
  {
   "cell_type": "code",
   "execution_count": 46,
   "id": "05e68ead",
   "metadata": {
    "ExecuteTime": {
     "end_time": "2022-07-23T10:30:13.825826Z",
     "start_time": "2022-07-23T10:30:13.811826Z"
    }
   },
   "outputs": [
    {
     "name": "stdout",
     "output_type": "stream",
     "text": [
      "accuracy = 0.82682\n",
      "F1 score = 0.78322\n",
      "AUC-PR = 0.85552\n",
      "AUC-ROC = 0.88340\n"
     ]
    }
   ],
   "source": [
    "def print_metrics(model, y_val, X_val, y_pred):\n",
    "    print('accuracy = {:.5f}'.format(metrics.accuracy_score(y_val, y_pred)))\n",
    "    print('F1 score = {:.5f}'.format(metrics.f1_score(y_val, y_pred)))\n",
    "\n",
    "    precision, recall, thresholds = metrics.precision_recall_curve(y_val, \n",
    "                                                                   model.predict_proba(X_val)[:, 1])\n",
    "    fpr, tpr, thresholds = metrics.roc_curve(y_val, model.predict_proba(X_val)[:, 1])\n",
    "    print('AUC-PR = %.5f' % metrics.auc(recall, precision))\n",
    "    print('AUC-ROC = %.5f' % metrics.auc(fpr, tpr))\n",
    "\n",
    "print_metrics(lr_best, y_val, X_val_transf, y_pred_best)"
   ]
  },
  {
   "cell_type": "code",
   "execution_count": 47,
   "id": "e0535a09",
   "metadata": {
    "ExecuteTime": {
     "end_time": "2022-07-23T10:30:18.543373Z",
     "start_time": "2022-07-23T10:30:18.528335Z"
    }
   },
   "outputs": [
    {
     "data": {
      "text/plain": [
       "array([[ 0.24099837,  0.32202454, -0.56301052, -0.70733171,  0.7073441 ,\n",
       "         0.21405974, -0.00132592, -0.21272142,  0.67829337, -0.07869893,\n",
       "        -1.08264377,  0.66788456, -0.18482284,  0.09989135, -0.09987896,\n",
       "         0.42414995, -0.42413756, -0.28971558,  0.22174392, -0.57994048]])"
      ]
     },
     "execution_count": 47,
     "metadata": {},
     "output_type": "execute_result"
    }
   ],
   "source": [
    "lr_best.coef_"
   ]
  },
  {
   "cell_type": "code",
   "execution_count": 48,
   "id": "08437d3c",
   "metadata": {
    "ExecuteTime": {
     "end_time": "2022-07-23T10:30:21.596882Z",
     "start_time": "2022-07-23T10:30:21.579890Z"
    }
   },
   "outputs": [
    {
     "data": {
      "text/plain": [
       "['Age', 'Fare', 'Family_size']"
      ]
     },
     "execution_count": 48,
     "metadata": {},
     "output_type": "execute_result"
    }
   ],
   "source": [
    "column_transformer.transformers_[1][2]"
   ]
  },
  {
   "cell_type": "code",
   "execution_count": 49,
   "id": "c287ecc1",
   "metadata": {
    "ExecuteTime": {
     "end_time": "2022-07-23T10:30:21.989297Z",
     "start_time": "2022-07-23T10:30:21.982298Z"
    }
   },
   "outputs": [],
   "source": [
    "ohe_feat_names = column_transformer.transformers_[0][1].get_feature_names()\n",
    "scal_feat_names = column_transformer.transformers_[1][2]\n",
    "feat_coef = {}\n",
    "coefs = list(lr_best.coef_[0])\n",
    "for i, el in enumerate(ohe_feat_names):\n",
    "    ohe_feat_names[i] = categorical[int(el[1])] + ' ' + el.split('_')[1]"
   ]
  },
  {
   "cell_type": "code",
   "execution_count": 50,
   "id": "f8364677",
   "metadata": {
    "ExecuteTime": {
     "end_time": "2022-07-23T10:30:22.973891Z",
     "start_time": "2022-07-23T10:30:22.968887Z"
    }
   },
   "outputs": [],
   "source": [
    "ohe_feat_names_lst = list(map(lambda x: x + '(categor)', ohe_feat_names))\n",
    "numeric_features_lst = list(map(lambda x: x + '(numeric)', numeric_features)) "
   ]
  },
  {
   "cell_type": "code",
   "execution_count": 51,
   "id": "61d608d4",
   "metadata": {
    "ExecuteTime": {
     "end_time": "2022-07-23T10:30:23.209145Z",
     "start_time": "2022-07-23T10:30:23.194147Z"
    }
   },
   "outputs": [],
   "source": [
    "cols_coefs = list(zip(ohe_feat_names_lst + numeric_features_lst, lr_best.coef_[0]))\n",
    "cols_coefs_sorted = sorted(cols_coefs, key=lambda x: abs(x[1]), reverse=True) "
   ]
  },
  {
   "cell_type": "code",
   "execution_count": 52,
   "id": "2e55eb9f",
   "metadata": {
    "ExecuteTime": {
     "end_time": "2022-07-23T10:30:24.591610Z",
     "start_time": "2022-07-23T10:30:24.229613Z"
    }
   },
   "outputs": [
    {
     "data": {
      "image/png": "[encoded data removed]",
      "text/plain": [
       "<Figure size 576x720 with 1 Axes>"
      ]
     },
     "metadata": {
      "image/png": {
       "height": 588,
       "width": 571
      }
     },
     "output_type": "display_data"
    }
   ],
   "source": [
    "def show_weights(features_weights):\n",
    "    plt.figure(figsize=(8, 10))\n",
    "    weights = [x[1] for x in features_weights[:30]]\n",
    "    features = [x[0] for x in features_weights[:30]]\n",
    "    sns.barplot(y=features, x=weights)\n",
    "    plt.xlabel(\"Weight\")\n",
    "    plt.show()\n",
    "\n",
    "# выведем 30 фичей с макс. по модулю коэфф-ми\n",
    "show_weights(cols_coefs_sorted)"
   ]
  },
  {
   "cell_type": "code",
   "execution_count": 53,
   "id": "7df8fe91",
   "metadata": {
    "ExecuteTime": {
     "end_time": "2022-07-23T10:31:14.887052Z",
     "start_time": "2022-07-23T10:31:14.872056Z"
    }
   },
   "outputs": [],
   "source": [
    "predictions = lr_best.predict(X_test_transf)\n",
    "output = pd.DataFrame({'PassengerId': df_test.PassengerId, 'Survived': predictions})\n",
    "output.to_csv('submission_lr.csv', index=False)"
   ]
  },
  {
   "cell_type": "markdown",
   "id": "af0d9570",
   "metadata": {},
   "source": [
    "# Decision Trees"
   ]
  },
  {
   "cell_type": "markdown",
   "id": "79fc6b66",
   "metadata": {},
   "source": [
    "## default stuff"
   ]
  },
  {
   "cell_type": "code",
   "execution_count": 54,
   "id": "2fbf5551",
   "metadata": {
    "ExecuteTime": {
     "end_time": "2022-07-23T10:31:22.251629Z",
     "start_time": "2022-07-23T10:31:21.994526Z"
    }
   },
   "outputs": [],
   "source": [
    "from sklearn.tree import DecisionTreeClassifier\n",
    "tree = DecisionTreeClassifier(random_state=42)\n",
    "tree.fit(X_train_transf, y_train)\n",
    "y_pred = tree.predict(X_val_transf)"
   ]
  },
  {
   "cell_type": "code",
   "execution_count": 55,
   "id": "388468ad",
   "metadata": {
    "ExecuteTime": {
     "end_time": "2022-07-23T10:31:23.202629Z",
     "start_time": "2022-07-23T10:31:23.176628Z"
    }
   },
   "outputs": [
    {
     "name": "stdout",
     "output_type": "stream",
     "text": [
      "accuracy = 0.81564\n",
      "F1 score = 0.78146\n",
      "AUC-PR = 0.81622\n",
      "AUC-ROC = 0.81622\n"
     ]
    }
   ],
   "source": [
    "print_metrics(tree, y_val, X_val_transf, y_pred)"
   ]
  },
  {
   "cell_type": "markdown",
   "id": "e4aa5653",
   "metadata": {},
   "source": [
    "## GridSearch for DT"
   ]
  },
  {
   "cell_type": "code",
   "execution_count": 56,
   "id": "0b663a67",
   "metadata": {
    "ExecuteTime": {
     "end_time": "2022-07-23T10:31:39.681801Z",
     "start_time": "2022-07-23T10:31:27.587169Z"
    }
   },
   "outputs": [
    {
     "name": "stdout",
     "output_type": "stream",
     "text": [
      "0.82165\n"
     ]
    }
   ],
   "source": [
    "def grid_search(model, X, y, params, scoring='accuracy', nfolds=5):    \n",
    "    #use gridsearch to test all values\n",
    "    gscv = GridSearchCV(model, params, scoring=scoring, cv=nfolds, n_jobs=-1)\n",
    "    #fit model to data\n",
    "    gscv.fit(X, y)\n",
    "    print('%.5f' % gscv.best_score_)\n",
    "    return gscv.best_params_\n",
    "\n",
    "param_grid = {'criterion':['gini', 'entropy'], \n",
    "              'max_depth': np.arange(1, 12), \n",
    "              'min_samples_leaf': np.arange(5, 19, 2),\n",
    "              'min_samples_split': np.arange(2, 10)}\n",
    "tree = DecisionTreeClassifier(random_state=42)\n",
    "best_params_dtree = grid_search(tree, X_train_transf, y_train, param_grid, nfolds=10)"
   ]
  },
  {
   "cell_type": "code",
   "execution_count": 57,
   "id": "0e9d3d7f",
   "metadata": {
    "ExecuteTime": {
     "end_time": "2022-07-23T10:31:43.724590Z",
     "start_time": "2022-07-23T10:31:43.708588Z"
    }
   },
   "outputs": [
    {
     "data": {
      "text/plain": [
       "{'criterion': 'entropy',\n",
       " 'max_depth': 4,\n",
       " 'min_samples_leaf': 5,\n",
       " 'min_samples_split': 2}"
      ]
     },
     "execution_count": 57,
     "metadata": {},
     "output_type": "execute_result"
    }
   ],
   "source": [
    "best_params_dtree"
   ]
  },
  {
   "cell_type": "code",
   "execution_count": 58,
   "id": "f4d0599f",
   "metadata": {
    "ExecuteTime": {
     "end_time": "2022-07-23T10:31:46.378171Z",
     "start_time": "2022-07-23T10:31:46.354174Z"
    }
   },
   "outputs": [
    {
     "name": "stdout",
     "output_type": "stream",
     "text": [
      "accuracy = 0.82123\n",
      "F1 score = 0.77465\n",
      "AUC-PR = 0.83571\n",
      "AUC-ROC = 0.85257\n"
     ]
    }
   ],
   "source": [
    "best_tree = DecisionTreeClassifier(**{'criterion': 'entropy', 'max_depth': 4, 'min_samples_leaf': 5}, \n",
    "                                   random_state=42)\n",
    "best_tree.fit(X_train_transf, y_train)\n",
    "y_pred = best_tree.predict(X_val_transf)\n",
    "\n",
    "print_metrics(best_tree, y_val, X_val_transf, y_pred)"
   ]
  },
  {
   "cell_type": "code",
   "execution_count": 59,
   "id": "641a4abe",
   "metadata": {
    "ExecuteTime": {
     "end_time": "2022-07-23T10:31:49.939073Z",
     "start_time": "2022-07-23T10:31:49.922036Z"
    }
   },
   "outputs": [],
   "source": [
    "predictions_tree = best_tree.predict(X_test_transf)\n",
    "output = pd.DataFrame({'PassengerId': df_test.PassengerId, 'Survived': predictions_tree})\n",
    "output.to_csv('submission.csv', index=False)"
   ]
  },
  {
   "cell_type": "markdown",
   "id": "71966230",
   "metadata": {},
   "source": [
    "## Dumb attempts with full train data and implementing MTE"
   ]
  },
  {
   "cell_type": "code",
   "execution_count": 88,
   "id": "bb48a24b",
   "metadata": {
    "ExecuteTime": {
     "end_time": "2022-07-22T15:48:25.627283Z",
     "start_time": "2022-07-22T15:48:20.062275Z"
    }
   },
   "outputs": [
    {
     "name": "stdout",
     "output_type": "stream",
     "text": [
      "0.82267\n"
     ]
    }
   ],
   "source": [
    "X_transf = column_transformer.transform(X)\n",
    "tree = DecisionTreeClassifier(random_state=42)\n",
    "best_params_full_train = grid_search(tree, X_transf, y, param_grid)"
   ]
  },
  {
   "cell_type": "code",
   "execution_count": 52,
   "id": "07c24faf",
   "metadata": {
    "ExecuteTime": {
     "end_time": "2022-06-08T10:17:09.330560Z",
     "start_time": "2022-06-08T10:17:09.293528Z"
    }
   },
   "outputs": [],
   "source": [
    "def mean_target_enc(X, columns, df=df):\n",
    "    X_copy = X.copy()\n",
    "    for c in columns:\n",
    "        d = df.groupby(c).mean()['Survived'].to_dict()\n",
    "        X_copy[c] = X_copy[c].apply(lambda x: d.get(x, 0.5))\n",
    "    return X_copy\n",
    "X_transf1 = mean_target_enc(X, categorical)"
   ]
  },
  {
   "cell_type": "code",
   "execution_count": 53,
   "id": "45d39345",
   "metadata": {
    "ExecuteTime": {
     "end_time": "2022-06-08T10:17:11.103309Z",
     "start_time": "2022-06-08T10:17:11.079309Z"
    }
   },
   "outputs": [
    {
     "data": {
      "text/html": [
       "<div>\n",
       "<style scoped>\n",
       "    .dataframe tbody tr th:only-of-type {\n",
       "        vertical-align: middle;\n",
       "    }\n",
       "\n",
       "    .dataframe tbody tr th {\n",
       "        vertical-align: top;\n",
       "    }\n",
       "\n",
       "    .dataframe thead th {\n",
       "        text-align: right;\n",
       "    }\n",
       "</style>\n",
       "<table border=\"1\" class=\"dataframe\">\n",
       "  <thead>\n",
       "    <tr style=\"text-align: right;\">\n",
       "      <th></th>\n",
       "      <th>Pclass</th>\n",
       "      <th>Sex</th>\n",
       "      <th>Age</th>\n",
       "      <th>SibSp</th>\n",
       "      <th>Parch</th>\n",
       "      <th>Fare</th>\n",
       "      <th>Embarked</th>\n",
       "      <th>Ticket</th>\n",
       "      <th>Title</th>\n",
       "    </tr>\n",
       "  </thead>\n",
       "  <tbody>\n",
       "    <tr>\n",
       "      <th>0</th>\n",
       "      <td>0.242363</td>\n",
       "      <td>0.188908</td>\n",
       "      <td>22.0</td>\n",
       "      <td>0.535885</td>\n",
       "      <td>0.343658</td>\n",
       "      <td>7.2500</td>\n",
       "      <td>0.339009</td>\n",
       "      <td>0.0</td>\n",
       "      <td>0.156673</td>\n",
       "    </tr>\n",
       "    <tr>\n",
       "      <th>1</th>\n",
       "      <td>0.629630</td>\n",
       "      <td>0.742038</td>\n",
       "      <td>38.0</td>\n",
       "      <td>0.535885</td>\n",
       "      <td>0.343658</td>\n",
       "      <td>71.2833</td>\n",
       "      <td>0.553571</td>\n",
       "      <td>1.0</td>\n",
       "      <td>0.792000</td>\n",
       "    </tr>\n",
       "    <tr>\n",
       "      <th>2</th>\n",
       "      <td>0.242363</td>\n",
       "      <td>0.742038</td>\n",
       "      <td>26.0</td>\n",
       "      <td>0.345395</td>\n",
       "      <td>0.343658</td>\n",
       "      <td>7.9250</td>\n",
       "      <td>0.339009</td>\n",
       "      <td>1.0</td>\n",
       "      <td>0.697802</td>\n",
       "    </tr>\n",
       "    <tr>\n",
       "      <th>3</th>\n",
       "      <td>0.629630</td>\n",
       "      <td>0.742038</td>\n",
       "      <td>35.0</td>\n",
       "      <td>0.535885</td>\n",
       "      <td>0.343658</td>\n",
       "      <td>53.1000</td>\n",
       "      <td>0.339009</td>\n",
       "      <td>0.5</td>\n",
       "      <td>0.792000</td>\n",
       "    </tr>\n",
       "    <tr>\n",
       "      <th>4</th>\n",
       "      <td>0.242363</td>\n",
       "      <td>0.188908</td>\n",
       "      <td>35.0</td>\n",
       "      <td>0.345395</td>\n",
       "      <td>0.343658</td>\n",
       "      <td>8.0500</td>\n",
       "      <td>0.339009</td>\n",
       "      <td>0.0</td>\n",
       "      <td>0.156673</td>\n",
       "    </tr>\n",
       "    <tr>\n",
       "      <th>...</th>\n",
       "      <td>...</td>\n",
       "      <td>...</td>\n",
       "      <td>...</td>\n",
       "      <td>...</td>\n",
       "      <td>...</td>\n",
       "      <td>...</td>\n",
       "      <td>...</td>\n",
       "      <td>...</td>\n",
       "      <td>...</td>\n",
       "    </tr>\n",
       "    <tr>\n",
       "      <th>886</th>\n",
       "      <td>0.472826</td>\n",
       "      <td>0.188908</td>\n",
       "      <td>27.0</td>\n",
       "      <td>0.345395</td>\n",
       "      <td>0.343658</td>\n",
       "      <td>13.0000</td>\n",
       "      <td>0.339009</td>\n",
       "      <td>0.0</td>\n",
       "      <td>0.444444</td>\n",
       "    </tr>\n",
       "    <tr>\n",
       "      <th>887</th>\n",
       "      <td>0.629630</td>\n",
       "      <td>0.742038</td>\n",
       "      <td>19.0</td>\n",
       "      <td>0.345395</td>\n",
       "      <td>0.343658</td>\n",
       "      <td>30.0000</td>\n",
       "      <td>0.339009</td>\n",
       "      <td>1.0</td>\n",
       "      <td>0.697802</td>\n",
       "    </tr>\n",
       "    <tr>\n",
       "      <th>888</th>\n",
       "      <td>0.242363</td>\n",
       "      <td>0.742038</td>\n",
       "      <td>5.3</td>\n",
       "      <td>0.535885</td>\n",
       "      <td>0.500000</td>\n",
       "      <td>23.4500</td>\n",
       "      <td>0.339009</td>\n",
       "      <td>0.0</td>\n",
       "      <td>0.697802</td>\n",
       "    </tr>\n",
       "    <tr>\n",
       "      <th>889</th>\n",
       "      <td>0.629630</td>\n",
       "      <td>0.188908</td>\n",
       "      <td>26.0</td>\n",
       "      <td>0.345395</td>\n",
       "      <td>0.343658</td>\n",
       "      <td>30.0000</td>\n",
       "      <td>0.553571</td>\n",
       "      <td>1.0</td>\n",
       "      <td>0.156673</td>\n",
       "    </tr>\n",
       "    <tr>\n",
       "      <th>890</th>\n",
       "      <td>0.242363</td>\n",
       "      <td>0.188908</td>\n",
       "      <td>32.0</td>\n",
       "      <td>0.345395</td>\n",
       "      <td>0.343658</td>\n",
       "      <td>7.7500</td>\n",
       "      <td>0.389610</td>\n",
       "      <td>0.0</td>\n",
       "      <td>0.156673</td>\n",
       "    </tr>\n",
       "  </tbody>\n",
       "</table>\n",
       "<p>891 rows × 9 columns</p>\n",
       "</div>"
      ],
      "text/plain": [
       "       Pclass       Sex   Age     SibSp     Parch     Fare  Embarked  Ticket  \\\n",
       "0    0.242363  0.188908  22.0  0.535885  0.343658   7.2500  0.339009     0.0   \n",
       "1    0.629630  0.742038  38.0  0.535885  0.343658  71.2833  0.553571     1.0   \n",
       "2    0.242363  0.742038  26.0  0.345395  0.343658   7.9250  0.339009     1.0   \n",
       "3    0.629630  0.742038  35.0  0.535885  0.343658  53.1000  0.339009     0.5   \n",
       "4    0.242363  0.188908  35.0  0.345395  0.343658   8.0500  0.339009     0.0   \n",
       "..        ...       ...   ...       ...       ...      ...       ...     ...   \n",
       "886  0.472826  0.188908  27.0  0.345395  0.343658  13.0000  0.339009     0.0   \n",
       "887  0.629630  0.742038  19.0  0.345395  0.343658  30.0000  0.339009     1.0   \n",
       "888  0.242363  0.742038   5.3  0.535885  0.500000  23.4500  0.339009     0.0   \n",
       "889  0.629630  0.188908  26.0  0.345395  0.343658  30.0000  0.553571     1.0   \n",
       "890  0.242363  0.188908  32.0  0.345395  0.343658   7.7500  0.389610     0.0   \n",
       "\n",
       "        Title  \n",
       "0    0.156673  \n",
       "1    0.792000  \n",
       "2    0.697802  \n",
       "3    0.792000  \n",
       "4    0.156673  \n",
       "..        ...  \n",
       "886  0.444444  \n",
       "887  0.697802  \n",
       "888  0.697802  \n",
       "889  0.156673  \n",
       "890  0.156673  \n",
       "\n",
       "[891 rows x 9 columns]"
      ]
     },
     "execution_count": 53,
     "metadata": {},
     "output_type": "execute_result"
    }
   ],
   "source": [
    "X_transf1"
   ]
  },
  {
   "cell_type": "code",
   "execution_count": 54,
   "id": "b4761114",
   "metadata": {
    "ExecuteTime": {
     "end_time": "2022-06-08T10:19:28.750890Z",
     "start_time": "2022-06-08T10:19:28.735856Z"
    }
   },
   "outputs": [],
   "source": [
    "for col in categorical:\n",
    "    X_transf1[col] += np.random.normal(loc=0, scale=0.05, size=X_transf1.shape[0])"
   ]
  },
  {
   "cell_type": "code",
   "execution_count": 55,
   "id": "d53c867f",
   "metadata": {
    "ExecuteTime": {
     "end_time": "2022-06-08T10:19:30.088762Z",
     "start_time": "2022-06-08T10:19:30.057726Z"
    }
   },
   "outputs": [
    {
     "data": {
      "text/html": [
       "<div>\n",
       "<style scoped>\n",
       "    .dataframe tbody tr th:only-of-type {\n",
       "        vertical-align: middle;\n",
       "    }\n",
       "\n",
       "    .dataframe tbody tr th {\n",
       "        vertical-align: top;\n",
       "    }\n",
       "\n",
       "    .dataframe thead th {\n",
       "        text-align: right;\n",
       "    }\n",
       "</style>\n",
       "<table border=\"1\" class=\"dataframe\">\n",
       "  <thead>\n",
       "    <tr style=\"text-align: right;\">\n",
       "      <th></th>\n",
       "      <th>Pclass</th>\n",
       "      <th>Sex</th>\n",
       "      <th>Age</th>\n",
       "      <th>SibSp</th>\n",
       "      <th>Parch</th>\n",
       "      <th>Fare</th>\n",
       "      <th>Embarked</th>\n",
       "      <th>Ticket</th>\n",
       "      <th>Title</th>\n",
       "    </tr>\n",
       "  </thead>\n",
       "  <tbody>\n",
       "    <tr>\n",
       "      <th>0</th>\n",
       "      <td>0.197198</td>\n",
       "      <td>0.176549</td>\n",
       "      <td>22.0</td>\n",
       "      <td>0.567380</td>\n",
       "      <td>0.316165</td>\n",
       "      <td>7.2500</td>\n",
       "      <td>0.300136</td>\n",
       "      <td>-0.056202</td>\n",
       "      <td>0.175492</td>\n",
       "    </tr>\n",
       "    <tr>\n",
       "      <th>1</th>\n",
       "      <td>0.710873</td>\n",
       "      <td>0.751398</td>\n",
       "      <td>38.0</td>\n",
       "      <td>0.562492</td>\n",
       "      <td>0.279196</td>\n",
       "      <td>71.2833</td>\n",
       "      <td>0.496200</td>\n",
       "      <td>1.007203</td>\n",
       "      <td>0.829162</td>\n",
       "    </tr>\n",
       "    <tr>\n",
       "      <th>2</th>\n",
       "      <td>0.177574</td>\n",
       "      <td>0.688302</td>\n",
       "      <td>26.0</td>\n",
       "      <td>0.299967</td>\n",
       "      <td>0.309375</td>\n",
       "      <td>7.9250</td>\n",
       "      <td>0.276919</td>\n",
       "      <td>1.029883</td>\n",
       "      <td>0.665789</td>\n",
       "    </tr>\n",
       "    <tr>\n",
       "      <th>3</th>\n",
       "      <td>0.654924</td>\n",
       "      <td>0.763613</td>\n",
       "      <td>35.0</td>\n",
       "      <td>0.539852</td>\n",
       "      <td>0.411905</td>\n",
       "      <td>53.1000</td>\n",
       "      <td>0.303206</td>\n",
       "      <td>0.506597</td>\n",
       "      <td>0.808537</td>\n",
       "    </tr>\n",
       "    <tr>\n",
       "      <th>4</th>\n",
       "      <td>0.227104</td>\n",
       "      <td>0.190240</td>\n",
       "      <td>35.0</td>\n",
       "      <td>0.364632</td>\n",
       "      <td>0.349391</td>\n",
       "      <td>8.0500</td>\n",
       "      <td>0.378588</td>\n",
       "      <td>0.023414</td>\n",
       "      <td>0.106455</td>\n",
       "    </tr>\n",
       "    <tr>\n",
       "      <th>...</th>\n",
       "      <td>...</td>\n",
       "      <td>...</td>\n",
       "      <td>...</td>\n",
       "      <td>...</td>\n",
       "      <td>...</td>\n",
       "      <td>...</td>\n",
       "      <td>...</td>\n",
       "      <td>...</td>\n",
       "      <td>...</td>\n",
       "    </tr>\n",
       "    <tr>\n",
       "      <th>886</th>\n",
       "      <td>0.459541</td>\n",
       "      <td>0.166011</td>\n",
       "      <td>27.0</td>\n",
       "      <td>0.335689</td>\n",
       "      <td>0.308211</td>\n",
       "      <td>13.0000</td>\n",
       "      <td>0.400894</td>\n",
       "      <td>0.032685</td>\n",
       "      <td>0.457842</td>\n",
       "    </tr>\n",
       "    <tr>\n",
       "      <th>887</th>\n",
       "      <td>0.596105</td>\n",
       "      <td>0.614226</td>\n",
       "      <td>19.0</td>\n",
       "      <td>0.362149</td>\n",
       "      <td>0.318590</td>\n",
       "      <td>30.0000</td>\n",
       "      <td>0.326776</td>\n",
       "      <td>1.045886</td>\n",
       "      <td>0.775331</td>\n",
       "    </tr>\n",
       "    <tr>\n",
       "      <th>888</th>\n",
       "      <td>0.197866</td>\n",
       "      <td>0.627300</td>\n",
       "      <td>5.3</td>\n",
       "      <td>0.545087</td>\n",
       "      <td>0.500054</td>\n",
       "      <td>23.4500</td>\n",
       "      <td>0.274143</td>\n",
       "      <td>0.009851</td>\n",
       "      <td>0.708982</td>\n",
       "    </tr>\n",
       "    <tr>\n",
       "      <th>889</th>\n",
       "      <td>0.641031</td>\n",
       "      <td>0.184646</td>\n",
       "      <td>26.0</td>\n",
       "      <td>0.247256</td>\n",
       "      <td>0.358573</td>\n",
       "      <td>30.0000</td>\n",
       "      <td>0.485609</td>\n",
       "      <td>0.988584</td>\n",
       "      <td>0.192815</td>\n",
       "    </tr>\n",
       "    <tr>\n",
       "      <th>890</th>\n",
       "      <td>0.236143</td>\n",
       "      <td>0.182696</td>\n",
       "      <td>32.0</td>\n",
       "      <td>0.368313</td>\n",
       "      <td>0.327765</td>\n",
       "      <td>7.7500</td>\n",
       "      <td>0.337555</td>\n",
       "      <td>0.019370</td>\n",
       "      <td>0.077086</td>\n",
       "    </tr>\n",
       "  </tbody>\n",
       "</table>\n",
       "<p>891 rows × 9 columns</p>\n",
       "</div>"
      ],
      "text/plain": [
       "       Pclass       Sex   Age     SibSp     Parch     Fare  Embarked  \\\n",
       "0    0.197198  0.176549  22.0  0.567380  0.316165   7.2500  0.300136   \n",
       "1    0.710873  0.751398  38.0  0.562492  0.279196  71.2833  0.496200   \n",
       "2    0.177574  0.688302  26.0  0.299967  0.309375   7.9250  0.276919   \n",
       "3    0.654924  0.763613  35.0  0.539852  0.411905  53.1000  0.303206   \n",
       "4    0.227104  0.190240  35.0  0.364632  0.349391   8.0500  0.378588   \n",
       "..        ...       ...   ...       ...       ...      ...       ...   \n",
       "886  0.459541  0.166011  27.0  0.335689  0.308211  13.0000  0.400894   \n",
       "887  0.596105  0.614226  19.0  0.362149  0.318590  30.0000  0.326776   \n",
       "888  0.197866  0.627300   5.3  0.545087  0.500054  23.4500  0.274143   \n",
       "889  0.641031  0.184646  26.0  0.247256  0.358573  30.0000  0.485609   \n",
       "890  0.236143  0.182696  32.0  0.368313  0.327765   7.7500  0.337555   \n",
       "\n",
       "       Ticket     Title  \n",
       "0   -0.056202  0.175492  \n",
       "1    1.007203  0.829162  \n",
       "2    1.029883  0.665789  \n",
       "3    0.506597  0.808537  \n",
       "4    0.023414  0.106455  \n",
       "..        ...       ...  \n",
       "886  0.032685  0.457842  \n",
       "887  1.045886  0.775331  \n",
       "888  0.009851  0.708982  \n",
       "889  0.988584  0.192815  \n",
       "890  0.019370  0.077086  \n",
       "\n",
       "[891 rows x 9 columns]"
      ]
     },
     "execution_count": 55,
     "metadata": {},
     "output_type": "execute_result"
    }
   ],
   "source": [
    "X_transf1"
   ]
  },
  {
   "cell_type": "code",
   "execution_count": 56,
   "id": "8a10c643",
   "metadata": {
    "ExecuteTime": {
     "end_time": "2022-06-08T10:19:31.903269Z",
     "start_time": "2022-06-08T10:19:31.888266Z"
    }
   },
   "outputs": [],
   "source": [
    "column_transformer_numeric = ColumnTransformer([\n",
    "    ('scaling', StandardScaler(), numeric_features),\n",
    "], remainder='passthrough')\n",
    "X_transf1 = column_transformer_numeric.fit_transform(X_transf1)"
   ]
  },
  {
   "cell_type": "code",
   "execution_count": 59,
   "id": "ecaba686",
   "metadata": {
    "ExecuteTime": {
     "end_time": "2022-06-08T10:21:41.945146Z",
     "start_time": "2022-06-08T10:21:41.937144Z"
    }
   },
   "outputs": [
    {
     "data": {
      "text/plain": [
       "array([[-0.50434874, -0.50244517,  0.19719841, ...,  0.30013642,\n",
       "        -0.05620235,  0.17549235],\n",
       "       [ 0.63603887,  0.78684529,  0.71087325, ...,  0.49620029,\n",
       "         1.00720255,  0.82916238],\n",
       "       [-0.21925184, -0.48885426,  0.17757439, ...,  0.27691874,\n",
       "         1.02988262,  0.66578918],\n",
       "       ...,\n",
       "       [-1.69462831, -0.17626324,  0.19786586, ...,  0.2741433 ,\n",
       "         0.00985088,  0.70898235],\n",
       "       [-0.21925184, -0.04438104,  0.64103061, ...,  0.48560891,\n",
       "         0.98858433,  0.19281517],\n",
       "       [ 0.20839352, -0.49237783,  0.23614325, ...,  0.33755452,\n",
       "         0.01936974,  0.07708613]])"
      ]
     },
     "execution_count": 59,
     "metadata": {},
     "output_type": "execute_result"
    }
   ],
   "source": [
    "X_transf1"
   ]
  },
  {
   "cell_type": "code",
   "execution_count": 60,
   "id": "ebdffb8e",
   "metadata": {
    "ExecuteTime": {
     "end_time": "2022-06-08T10:21:44.586437Z",
     "start_time": "2022-06-08T10:21:44.548439Z"
    }
   },
   "outputs": [],
   "source": [
    "X_test_transf1 = mean_target_enc(X_test, categorical)\n",
    "X_test_transf1 = column_transformer_numeric.transform(X_test_transf1)\n",
    "# for col in categorical:\n",
    "#     X_test_transf1[col] += np.random.normal(loc=0, scale=0.05, \n",
    "#                                             size=X_test_transf1.shape[0])"
   ]
  },
  {
   "cell_type": "code",
   "execution_count": 61,
   "id": "c9f1ae6b",
   "metadata": {
    "ExecuteTime": {
     "end_time": "2022-06-08T10:21:46.300361Z",
     "start_time": "2022-06-08T10:21:45.751398Z"
    }
   },
   "outputs": [
    {
     "name": "stdout",
     "output_type": "stream",
     "text": [
      "0.98399\n"
     ]
    }
   ],
   "source": [
    "X_train1, X_val1, y_train1, y_val1 = train_test_split(\n",
    "    X_transf1, y, test_size=0.3, random_state=123)\n",
    "tree = DecisionTreeClassifier(random_state=42)\n",
    "best_params_full_train = grid_search(tree, X_train1, y_train1, param_grid)"
   ]
  },
  {
   "cell_type": "code",
   "execution_count": 62,
   "id": "3ccc722c",
   "metadata": {
    "ExecuteTime": {
     "end_time": "2022-06-08T10:21:53.999376Z",
     "start_time": "2022-06-08T10:21:53.988327Z"
    }
   },
   "outputs": [
    {
     "data": {
      "text/plain": [
       "{'criterion': 'entropy', 'max_depth': 3, 'min_samples_leaf': 5}"
      ]
     },
     "execution_count": 62,
     "metadata": {},
     "output_type": "execute_result"
    }
   ],
   "source": [
    "best_params_full_train"
   ]
  },
  {
   "cell_type": "code",
   "execution_count": 63,
   "id": "3d9cc8c3",
   "metadata": {
    "ExecuteTime": {
     "end_time": "2022-06-08T10:21:55.803660Z",
     "start_time": "2022-06-08T10:21:55.777645Z"
    }
   },
   "outputs": [
    {
     "name": "stdout",
     "output_type": "stream",
     "text": [
      "accuracy = 0.98134\n",
      "F1 score = 0.97436\n",
      "AUC-PR = 0.99200\n",
      "AUC-ROC = 0.99553\n"
     ]
    }
   ],
   "source": [
    "best_tree = DecisionTreeClassifier(**best_params_full_train, random_state=777)\n",
    "best_tree.fit(X_train1, y_train1)\n",
    "# best_tree.fit(X_transf1, y)\n",
    "# y_pred = best_tree.predict(X_val_transf)\n",
    "y_pred = best_tree.predict(X_val1)\n",
    "print_metrics(best_tree, y_val1, X_val1, y_pred)"
   ]
  },
  {
   "cell_type": "code",
   "execution_count": 64,
   "id": "96403537",
   "metadata": {
    "ExecuteTime": {
     "end_time": "2022-06-08T10:22:06.305083Z",
     "start_time": "2022-06-08T10:22:06.284094Z"
    }
   },
   "outputs": [],
   "source": [
    "predictions_tree_full = best_tree.predict(X_test_transf1)\n",
    "output = pd.DataFrame({'PassengerId': df_test.PassengerId, \n",
    "                       'Survived': predictions_tree_full})\n",
    "output.to_csv('submission.csv', index=False)"
   ]
  },
  {
   "cell_type": "markdown",
   "id": "9a548b99",
   "metadata": {},
   "source": [
    "## Feature selection (Greedy)"
   ]
  },
  {
   "cell_type": "code",
   "execution_count": 65,
   "id": "156e39ea",
   "metadata": {
    "ExecuteTime": {
     "end_time": "2022-06-08T10:22:08.010573Z",
     "start_time": "2022-06-08T10:22:07.953552Z"
    }
   },
   "outputs": [
    {
     "name": "stdout",
     "output_type": "stream",
     "text": [
      "0.9291044776119403\n",
      "0.9850746268656716\n",
      "0.9850746268656716\n",
      "[0.9291044776119403, 0.9850746268656716, 0.9850746268656716, 0.9850746268656716]\n"
     ]
    }
   ],
   "source": [
    "def feat_selection(X, y, X_test, y_test, alt_cond=False):\n",
    "    feat_l = list(range(X.shape[1]))\n",
    "    metr_l = []\n",
    "    metr_hist = []\n",
    "    feat_to_keep = []\n",
    "    while True:\n",
    "        for i in feat_l:\n",
    "            best_tree.fit(X[:, feat_to_keep + [i]], y)\n",
    "            y_pred = best_tree.predict(X_test[:, feat_to_keep + [i]])\n",
    "            metr_l.append(metrics.accuracy_score(y_test, y_pred))\n",
    "    #     print(metr_l)\n",
    "    #     print(np.argmax(metr_l), max(metr_l))\n",
    "        feat_to_keep.append(feat_l[np.argmax(metr_l)])\n",
    "        feat_l.remove(feat_l[np.argmax(metr_l)])    \n",
    "        metr_hist.append(max(metr_l))\n",
    "        if not alt_cond:\n",
    "            if len(metr_hist) > 2:\n",
    "                if (metr_hist[-1] <= metr_hist[-2] and metr_hist[-2] <= metr_hist[-3]) or len(feat_l) == 0:\n",
    "                    break\n",
    "        else:\n",
    "            if len(metr_hist) > 15:\n",
    "                if all([x == metr_hist[-15] for x in metr_hist[-15::]]) or len(feat_l) == 0:\n",
    "                    break\n",
    "        metr_l = []\n",
    "        print(metr_hist[-1])\n",
    "    print(metr_hist)    \n",
    "    return sorted(feat_to_keep)\n",
    "feat_to_keep = feat_selection(X_train1, y_train1, X_val1, y_val1)"
   ]
  },
  {
   "cell_type": "code",
   "execution_count": 66,
   "id": "56922963",
   "metadata": {
    "ExecuteTime": {
     "end_time": "2022-06-08T10:22:12.367708Z",
     "start_time": "2022-06-08T10:22:12.341706Z"
    }
   },
   "outputs": [
    {
     "name": "stdout",
     "output_type": "stream",
     "text": [
      "accuracy = 0.96642\n",
      "F1 score = 0.95238\n",
      "AUC-PR = 0.99192\n",
      "AUC-ROC = 0.99490\n"
     ]
    }
   ],
   "source": [
    "best_tree.fit(X_train1[:, feat_to_keep], y_train1)\n",
    "y_pred = best_tree.predict(X_val1[:, feat_to_keep])\n",
    "print_metrics(best_tree, y_val1, X_val1[:, feat_to_keep], y_pred)"
   ]
  },
  {
   "cell_type": "code",
   "execution_count": 67,
   "id": "1787331e",
   "metadata": {
    "ExecuteTime": {
     "end_time": "2022-06-08T10:22:19.896618Z",
     "start_time": "2022-06-08T10:22:19.880616Z"
    }
   },
   "outputs": [],
   "source": [
    "predictions_tree_select_mte = best_tree.predict(X_test_transf1[:, feat_to_keep])\n",
    "output = pd.DataFrame({'PassengerId': df_test.PassengerId, \n",
    "                       'Survived': predictions_tree_select_mte})\n",
    "output.to_csv('submission.csv', index=False)"
   ]
  },
  {
   "cell_type": "code",
   "execution_count": null,
   "id": "8ad6e2af",
   "metadata": {
    "ExecuteTime": {
     "end_time": "2022-06-07T09:38:13.522877Z",
     "start_time": "2022-06-07T09:38:13.507736Z"
    }
   },
   "outputs": [],
   "source": []
  },
  {
   "cell_type": "code",
   "execution_count": 68,
   "id": "53418d85",
   "metadata": {
    "ExecuteTime": {
     "end_time": "2022-06-08T10:22:32.221135Z",
     "start_time": "2022-06-08T10:22:23.091101Z"
    }
   },
   "outputs": [
    {
     "name": "stdout",
     "output_type": "stream",
     "text": [
      "0.7910447761194029\n",
      "0.8097014925373134\n",
      "0.8208955223880597\n",
      "0.8246268656716418\n",
      "0.8246268656716418\n",
      "0.8246268656716418\n",
      "0.8246268656716418\n",
      "0.8246268656716418\n",
      "0.8246268656716418\n",
      "0.8246268656716418\n",
      "0.8246268656716418\n",
      "0.8246268656716418\n",
      "0.8246268656716418\n",
      "0.8246268656716418\n",
      "0.8246268656716418\n",
      "0.8246268656716418\n",
      "0.8246268656716418\n",
      "[0.7910447761194029, 0.8097014925373134, 0.8208955223880597, 0.8246268656716418, 0.8246268656716418, 0.8246268656716418, 0.8246268656716418, 0.8246268656716418, 0.8246268656716418, 0.8246268656716418, 0.8246268656716418, 0.8246268656716418, 0.8246268656716418, 0.8246268656716418, 0.8246268656716418, 0.8246268656716418, 0.8246268656716418, 0.8246268656716418]\n"
     ]
    }
   ],
   "source": [
    "feat_to_keep1 = feat_selection(X_train_transf, y_train, X_val_transf, y_val, alt_cond=True)"
   ]
  },
  {
   "cell_type": "code",
   "execution_count": 69,
   "id": "6257c1b8",
   "metadata": {
    "ExecuteTime": {
     "end_time": "2022-06-08T10:22:32.237132Z",
     "start_time": "2022-06-08T10:22:32.223091Z"
    },
    "scrolled": true
   },
   "outputs": [
    {
     "data": {
      "text/plain": [
       "[1, 3, 4, 5, 6, 7, 8, 9, 10, 11, 12, 13, 14, 15, 62, 500, 518, 519]"
      ]
     },
     "execution_count": 69,
     "metadata": {},
     "output_type": "execute_result"
    }
   ],
   "source": [
    "feat_to_keep1"
   ]
  },
  {
   "cell_type": "code",
   "execution_count": 70,
   "id": "94fd75c3",
   "metadata": {
    "ExecuteTime": {
     "end_time": "2022-06-08T10:22:33.332511Z",
     "start_time": "2022-06-08T10:22:33.320515Z"
    }
   },
   "outputs": [
    {
     "name": "stdout",
     "output_type": "stream",
     "text": [
      "accuracy = 0.82463\n",
      "F1 score = 0.78924\n",
      "AUC-PR = 0.71468\n",
      "AUC-ROC = 0.81615\n"
     ]
    }
   ],
   "source": [
    "best_tree = DecisionTreeClassifier(**{'criterion': 'gini', \n",
    "                                      'max_depth': 11, 'min_samples_leaf': 6}, random_state=42)\n",
    "best_tree.fit(X_train_transf[:, feat_to_keep1], y_train)\n",
    "y_pred = best_tree.predict(X_val_transf[:, feat_to_keep1])\n",
    "print_metrics(best_tree, y_val, X_val_transf[:, feat_to_keep1], y_pred)"
   ]
  },
  {
   "cell_type": "code",
   "execution_count": 71,
   "id": "64060e8f",
   "metadata": {
    "ExecuteTime": {
     "end_time": "2022-06-08T10:22:37.956304Z",
     "start_time": "2022-06-08T10:22:37.947338Z"
    }
   },
   "outputs": [],
   "source": [
    "predictions_tree_select = best_tree.predict(X_test_transf[:, feat_to_keep1])\n",
    "output = pd.DataFrame({'PassengerId': df_test.PassengerId, \n",
    "                       'Survived': predictions_tree_select})\n",
    "output.to_csv('submission.csv', index=False)"
   ]
  },
  {
   "cell_type": "markdown",
   "id": "f3357f00",
   "metadata": {},
   "source": [
    "# Random Forest"
   ]
  },
  {
   "cell_type": "code",
   "execution_count": 65,
   "id": "78440fe9",
   "metadata": {
    "ExecuteTime": {
     "end_time": "2022-07-23T10:33:07.500589Z",
     "start_time": "2022-07-23T10:33:04.354300Z"
    }
   },
   "outputs": [
    {
     "name": "stdout",
     "output_type": "stream",
     "text": [
      "accuracy = 0.81564\n",
      "F1 score = 0.76596\n",
      "AUC-PR = 0.86371\n",
      "AUC-ROC = 0.90283\n"
     ]
    }
   ],
   "source": [
    "from sklearn.ensemble import RandomForestClassifier\n",
    "rfc = RandomForestClassifier(**{'criterion': 'entropy',\n",
    "                                 'max_depth': 12,\n",
    "                                 'min_samples_leaf': 5,\n",
    "                                 'n_estimators': 1500}, random_state=42, n_jobs=-1)\n",
    "rfc.fit(X_train_transf, y_train)\n",
    "y_pred = rfc.predict(X_val_transf)\n",
    "print_metrics(rfc, y_val, X_val_transf, y_pred)"
   ]
  },
  {
   "cell_type": "code",
   "execution_count": 68,
   "id": "3e0e7895",
   "metadata": {
    "ExecuteTime": {
     "end_time": "2022-07-23T10:34:39.397887Z",
     "start_time": "2022-07-23T10:34:39.385856Z"
    }
   },
   "outputs": [],
   "source": [
    "param_grid_rfc = {\"n_estimators\": [250, 500, 700, 900],\n",
    "              \"max_depth\": range(3, 11, 2),\n",
    "              'criterion': [\"gini\", \"entropy\"],\n",
    "              \"min_samples_leaf\": range(4, 12, 2)\n",
    "             }"
   ]
  },
  {
   "cell_type": "code",
   "execution_count": 69,
   "id": "681a21da",
   "metadata": {
    "ExecuteTime": {
     "end_time": "2022-07-23T10:34:40.552351Z",
     "start_time": "2022-07-23T10:34:40.542350Z"
    }
   },
   "outputs": [
    {
     "data": {
      "text/plain": [
       "(712, 20)"
      ]
     },
     "execution_count": 69,
     "metadata": {},
     "output_type": "execute_result"
    }
   ],
   "source": [
    "X_train_transf.shape"
   ]
  },
  {
   "cell_type": "code",
   "execution_count": 70,
   "id": "c6a67564",
   "metadata": {
    "ExecuteTime": {
     "end_time": "2022-07-23T10:38:26.359523Z",
     "start_time": "2022-07-23T10:34:50.728183Z"
    }
   },
   "outputs": [
    {
     "name": "stdout",
     "output_type": "stream",
     "text": [
      "0.83282\n"
     ]
    }
   ],
   "source": [
    "rfc = RandomForestClassifier(random_state=42, n_jobs=-1)\n",
    "best_params_rfc = grid_search(rfc, X_train_transf, #[:, feat_to_keep1], \n",
    "                                y_train, param_grid_rfc)"
   ]
  },
  {
   "cell_type": "code",
   "execution_count": 71,
   "id": "10607a98",
   "metadata": {
    "ExecuteTime": {
     "end_time": "2022-07-23T10:38:48.818916Z",
     "start_time": "2022-07-23T10:38:48.807913Z"
    }
   },
   "outputs": [
    {
     "data": {
      "text/plain": [
       "{'criterion': 'entropy',\n",
       " 'max_depth': 7,\n",
       " 'min_samples_leaf': 8,\n",
       " 'n_estimators': 900}"
      ]
     },
     "execution_count": 71,
     "metadata": {},
     "output_type": "execute_result"
    }
   ],
   "source": [
    "best_params_rfc"
   ]
  },
  {
   "cell_type": "markdown",
   "id": "946f7b1a",
   "metadata": {},
   "source": [
    "### лучший воспроизводимый скор (0.78468):"
   ]
  },
  {
   "cell_type": "code",
   "execution_count": 72,
   "id": "76ac3873",
   "metadata": {
    "ExecuteTime": {
     "end_time": "2022-07-23T10:39:00.866966Z",
     "start_time": "2022-07-23T10:38:59.309926Z"
    }
   },
   "outputs": [
    {
     "name": "stdout",
     "output_type": "stream",
     "text": [
      "accuracy = 0.81006\n",
      "F1 score = 0.75714\n",
      "AUC-PR = 0.85761\n",
      "AUC-ROC = 0.89408\n"
     ]
    }
   ],
   "source": [
    "best_rfc = RandomForestClassifier(**best_params_rfc, random_state=42)\n",
    "\n",
    "best_rfc.fit(X_train_transf, y_train)\n",
    "y_pred = best_rfc.predict(X_val_transf)\n",
    "print_metrics(best_rfc,  y_val, X_val_transf, y_pred)"
   ]
  },
  {
   "cell_type": "code",
   "execution_count": 68,
   "id": "8e0ebe79",
   "metadata": {
    "ExecuteTime": {
     "end_time": "2022-07-22T18:44:50.602533Z",
     "start_time": "2022-07-22T18:44:49.167847Z"
    }
   },
   "outputs": [
    {
     "name": "stdout",
     "output_type": "stream",
     "text": [
      "accuracy = 0.81564\n",
      "F1 score = 0.76923\n",
      "AUC-PR = 0.85702\n",
      "AUC-ROC = 0.88945\n"
     ]
    }
   ],
   "source": [
    "# best_rfc = RandomForestClassifier(**{'criterion': 'gini',\n",
    "#                                      'max_depth': 9,\n",
    "#                                      'max_features': 'sqrt',\n",
    "#                                      'min_samples_leaf': 9,\n",
    "#                                      'n_estimators': 500,\n",
    "#                                      'oob_score': True}, random_state=42)\n",
    "# best_rfc.fit(X_train1, y_train1)\n",
    "# y_pred = best_rfc.predict(X_val1)\n",
    "# print_metrics(best_rfc, y_val1, X_val1, y_pred)"
   ]
  },
  {
   "cell_type": "code",
   "execution_count": 76,
   "id": "f604df6a",
   "metadata": {
    "ExecuteTime": {
     "end_time": "2022-07-23T10:40:58.170500Z",
     "start_time": "2022-07-23T10:40:57.838506Z"
    }
   },
   "outputs": [],
   "source": [
    "predictions_rf = best_rfc.predict(X_test_transf)#[:, feat_to_keep1])\n",
    "output = pd.DataFrame({'PassengerId': df_test.PassengerId, \n",
    "                       'Survived': predictions_rf})\n",
    "output.to_csv('submission_rfc.csv', index=False)"
   ]
  },
  {
   "cell_type": "code",
   "execution_count": null,
   "id": "472c250a",
   "metadata": {},
   "outputs": [],
   "source": []
  },
  {
   "cell_type": "code",
   "execution_count": null,
   "id": "dfad0dfb",
   "metadata": {},
   "outputs": [],
   "source": []
  },
  {
   "cell_type": "code",
   "execution_count": null,
   "id": "f56f0349",
   "metadata": {},
   "outputs": [],
   "source": []
  }
 ],
 "metadata": {
  "kernelspec": {
   "display_name": "Python 3",
   "language": "python",
   "name": "python3"
  },
  "language_info": {
   "codemirror_mode": {
    "name": "ipython",
    "version": 3
   },
   "file_extension": ".py",
   "mimetype": "text/x-python",
   "name": "python",
   "nbconvert_exporter": "python",
   "pygments_lexer": "ipython3",
   "version": "3.8.8"
  }
 },
 "nbformat": 4,
 "nbformat_minor": 5
}
